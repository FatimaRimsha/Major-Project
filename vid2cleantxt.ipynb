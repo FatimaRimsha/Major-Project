{
  "cells": [
    {
      "cell_type": "markdown",
      "source": [
        "# vid2cleantxt\n",
        "\n",
        "A basic example of how to use the [vid2cleantxt](https://github.com/pszemraj/vid2cleantxt) repo.\n",
        "\n",
        "\n",
        "Use this as a base to start your own customized notebook by `File > Save a copy' and adjust it for your use case, i.e. add Google Drive integration, etc.\n",
        "\n",
        "---\n"
      ],
      "metadata": {
        "id": "1w0hNQAbw7iE"
      }
    },
    {
      "cell_type": "markdown",
      "source": [
        "## setup\n"
      ],
      "metadata": {
        "id": "HCNdctbvM7gn"
      }
    },
    {
      "cell_type": "code",
      "execution_count": null,
      "metadata": {
        "cellView": "form",
        "id": "x5s6a0KsRV7J"
      },
      "outputs": [],
      "source": [
        "#@markdown add auto-Colab formatting with `IPython.display`\n",
        "from IPython.display import HTML, display\n",
        "# colab formatting\n",
        "def set_css():\n",
        "    display(\n",
        "        HTML(\n",
        "            \"\"\"\n",
        "  <style>\n",
        "    pre {\n",
        "        white-space: pre-wrap;\n",
        "    }\n",
        "  </style>\n",
        "  \"\"\"\n",
        "        )\n",
        "    )\n",
        "\n",
        "get_ipython().events.register(\"pre_run_cell\", set_css)"
      ]
    },
    {
      "cell_type": "code",
      "source": [
        "#@markdown setup logging\n",
        "import logging\n",
        "from pathlib import Path\n",
        "for handler in logging.root.handlers[:]:\n",
        "    logging.root.removeHandler(handler)\n",
        "\n",
        "_log_location = Path.cwd() / \"LOGFILE_vid2cleantxt_transcriber.log\"\n",
        "\n",
        "logging.basicConfig(\n",
        "    level=logging.INFO,\n",
        "    filename=_log_location,\n",
        "    filemode='a',\n",
        "    format=\"%(asctime)s %(levelname)s %(message)s\",\n",
        "    datefmt=\"%m/%d/%Y %I:%M:%S\",\n",
        ")\n",
        "print(f'logfile is at:\\n\\n{_log_location}')"
      ],
      "metadata": {
        "cellView": "form",
        "id": "YCkkXDlydTwX",
        "colab": {
          "base_uri": "https://localhost:8080/"
        },
        "outputId": "4bcaec32-af2f-4600-c7f9-f16cc55705e4"
      },
      "execution_count": null,
      "outputs": [
        {
          "output_type": "display_data",
          "data": {
            "text/plain": [
              "<IPython.core.display.HTML object>"
            ],
            "text/html": [
              "\n",
              "  <style>\n",
              "    pre {\n",
              "        white-space: pre-wrap;\n",
              "    }\n",
              "  </style>\n",
              "  "
            ]
          },
          "metadata": {}
        },
        {
          "output_type": "stream",
          "name": "stdout",
          "text": [
            "logfile is at:\n",
            "\n",
            "/content/LOGFILE_vid2cleantxt_transcriber.log\n"
          ]
        }
      ]
    },
    {
      "cell_type": "code",
      "source": [
        "!nvidia-smi"
      ],
      "metadata": {
        "id": "HOkcgm5lxCCR",
        "colab": {
          "base_uri": "https://localhost:8080/"
        },
        "outputId": "4b848ca6-27e1-4fbc-9d45-7b741bdb1750"
      },
      "execution_count": null,
      "outputs": [
        {
          "output_type": "display_data",
          "data": {
            "text/plain": [
              "<IPython.core.display.HTML object>"
            ],
            "text/html": [
              "\n",
              "  <style>\n",
              "    pre {\n",
              "        white-space: pre-wrap;\n",
              "    }\n",
              "  </style>\n",
              "  "
            ]
          },
          "metadata": {}
        },
        {
          "output_type": "stream",
          "name": "stdout",
          "text": [
            "Sun Feb 23 03:43:59 2025       \n",
            "+-----------------------------------------------------------------------------------------+\n",
            "| NVIDIA-SMI 550.54.15              Driver Version: 550.54.15      CUDA Version: 12.4     |\n",
            "|-----------------------------------------+------------------------+----------------------+\n",
            "| GPU  Name                 Persistence-M | Bus-Id          Disp.A | Volatile Uncorr. ECC |\n",
            "| Fan  Temp   Perf          Pwr:Usage/Cap |           Memory-Usage | GPU-Util  Compute M. |\n",
            "|                                         |                        |               MIG M. |\n",
            "|=========================================+========================+======================|\n",
            "|   0  Tesla T4                       Off |   00000000:00:04.0 Off |                    0 |\n",
            "| N/A   58C    P8             11W /   70W |       0MiB /  15360MiB |      0%      Default |\n",
            "|                                         |                        |                  N/A |\n",
            "+-----------------------------------------+------------------------+----------------------+\n",
            "                                                                                         \n",
            "+-----------------------------------------------------------------------------------------+\n",
            "| Processes:                                                                              |\n",
            "|  GPU   GI   CI        PID   Type   Process name                              GPU Memory |\n",
            "|        ID   ID                                                               Usage      |\n",
            "|=========================================================================================|\n",
            "|  No running processes found                                                             |\n",
            "+-----------------------------------------------------------------------------------------+\n"
          ]
        }
      ]
    },
    {
      "cell_type": "code",
      "source": [
        "%%time\n",
        "pip install git+https://github.com/pszemraj/vid2cleantxt.git -q\n"
      ],
      "metadata": {
        "id": "RXVGpIawukEd",
        "colab": {
          "base_uri": "https://localhost:8080/"
        },
        "outputId": "60a88363-03fd-4803-c4c2-65da303b9b61"
      },
      "execution_count": null,
      "outputs": [
        {
          "output_type": "display_data",
          "data": {
            "text/plain": [
              "<IPython.core.display.HTML object>"
            ],
            "text/html": [
              "\n",
              "  <style>\n",
              "    pre {\n",
              "        white-space: pre-wrap;\n",
              "    }\n",
              "  </style>\n",
              "  "
            ]
          },
          "metadata": {}
        },
        {
          "output_type": "stream",
          "name": "stdout",
          "text": [
            "  Preparing metadata (setup.py) ... \u001b[?25l\u001b[?25hdone\n",
            "  Preparing metadata (setup.py) ... \u001b[?25l\u001b[?25hdone\n",
            "\u001b[2K     \u001b[90m━━━━━━━━━━━━━━━━━━━━━━━━━━━━━━━━━━━━━━━━\u001b[0m \u001b[32m541.6/541.6 kB\u001b[0m \u001b[31m8.7 MB/s\u001b[0m eta \u001b[36m0:00:00\u001b[0m\n",
            "\u001b[?25h  Preparing metadata (setup.py) ... \u001b[?25l\u001b[?25hdone\n",
            "\u001b[2K     \u001b[90m━━━━━━━━━━━━━━━━━━━━━━━━━━━━━━━━━━━━━━━━\u001b[0m \u001b[32m86.7/86.7 kB\u001b[0m \u001b[31m6.2 MB/s\u001b[0m eta \u001b[36m0:00:00\u001b[0m\n",
            "\u001b[2K     \u001b[90m━━━━━━━━━━━━━━━━━━━━━━━━━━━━━━━━━━━━━━━━\u001b[0m \u001b[32m175.4/175.4 kB\u001b[0m \u001b[31m16.0 MB/s\u001b[0m eta \u001b[36m0:00:00\u001b[0m\n",
            "\u001b[?25h  Preparing metadata (setup.py) ... \u001b[?25l\u001b[?25hdone\n",
            "\u001b[2K   \u001b[90m━━━━━━━━━━━━━━━━━━━━━━━━━━━━━━━━━━━━━━━━\u001b[0m \u001b[32m184.3/184.3 kB\u001b[0m \u001b[31m14.9 MB/s\u001b[0m eta \u001b[36m0:00:00\u001b[0m\n",
            "\u001b[2K   \u001b[90m━━━━━━━━━━━━━━━━━━━━━━━━━━━━━━━━━━━━━━━━\u001b[0m \u001b[32m71.1/71.1 kB\u001b[0m \u001b[31m7.3 MB/s\u001b[0m eta \u001b[36m0:00:00\u001b[0m\n",
            "\u001b[2K   \u001b[90m━━━━━━━━━━━━━━━━━━━━━━━━━━━━━━━━━━━━━━━━\u001b[0m \u001b[32m2.6/2.6 MB\u001b[0m \u001b[31m92.8 MB/s\u001b[0m eta \u001b[36m0:00:00\u001b[0m\n",
            "\u001b[2K   \u001b[90m━━━━━━━━━━━━━━━━━━━━━━━━━━━━━━━━━━━━━━━━\u001b[0m \u001b[32m363.4/363.4 MB\u001b[0m \u001b[31m2.4 MB/s\u001b[0m eta \u001b[36m0:00:00\u001b[0m\n",
            "\u001b[2K   \u001b[90m━━━━━━━━━━━━━━━━━━━━━━━━━━━━━━━━━━━━━━━━\u001b[0m \u001b[32m13.8/13.8 MB\u001b[0m \u001b[31m107.2 MB/s\u001b[0m eta \u001b[36m0:00:00\u001b[0m\n",
            "\u001b[2K   \u001b[90m━━━━━━━━━━━━━━━━━━━━━━━━━━━━━━━━━━━━━━━━\u001b[0m \u001b[32m24.6/24.6 MB\u001b[0m \u001b[31m74.2 MB/s\u001b[0m eta \u001b[36m0:00:00\u001b[0m\n",
            "\u001b[2K   \u001b[90m━━━━━━━━━━━━━━━━━━━━━━━━━━━━━━━━━━━━━━━━\u001b[0m \u001b[32m883.7/883.7 kB\u001b[0m \u001b[31m59.6 MB/s\u001b[0m eta \u001b[36m0:00:00\u001b[0m\n",
            "\u001b[2K   \u001b[90m━━━━━━━━━━━━━━━━━━━━━━━━━━━━━━━━━━━━━━━━\u001b[0m \u001b[32m664.8/664.8 MB\u001b[0m \u001b[31m1.1 MB/s\u001b[0m eta \u001b[36m0:00:00\u001b[0m\n",
            "\u001b[2K   \u001b[90m━━━━━━━━━━━━━━━━━━━━━━━━━━━━━━━━━━━━━━━━\u001b[0m \u001b[32m211.5/211.5 MB\u001b[0m \u001b[31m5.1 MB/s\u001b[0m eta \u001b[36m0:00:00\u001b[0m\n",
            "\u001b[2K   \u001b[90m━━━━━━━━━━━━━━━━━━━━━━━━━━━━━━━━━━━━━━━━\u001b[0m \u001b[32m56.3/56.3 MB\u001b[0m \u001b[31m12.6 MB/s\u001b[0m eta \u001b[36m0:00:00\u001b[0m\n",
            "\u001b[2K   \u001b[90m━━━━━━━━━━━━━━━━━━━━━━━━━━━━━━━━━━━━━━━━\u001b[0m \u001b[32m127.9/127.9 MB\u001b[0m \u001b[31m7.4 MB/s\u001b[0m eta \u001b[36m0:00:00\u001b[0m\n",
            "\u001b[2K   \u001b[90m━━━━━━━━━━━━━━━━━━━━━━━━━━━━━━━━━━━━━━━━\u001b[0m \u001b[32m207.5/207.5 MB\u001b[0m \u001b[31m5.8 MB/s\u001b[0m eta \u001b[36m0:00:00\u001b[0m\n",
            "\u001b[2K   \u001b[90m━━━━━━━━━━━━━━━━━━━━━━━━━━━━━━━━━━━━━━━━\u001b[0m \u001b[32m21.1/21.1 MB\u001b[0m \u001b[31m84.9 MB/s\u001b[0m eta \u001b[36m0:00:00\u001b[0m\n",
            "\u001b[2K   \u001b[90m━━━━━━━━━━━━━━━━━━━━━━━━━━━━━━━━━━━━━━━━\u001b[0m \u001b[32m60.2/60.2 kB\u001b[0m \u001b[31m5.4 MB/s\u001b[0m eta \u001b[36m0:00:00\u001b[0m\n",
            "\u001b[2K   \u001b[90m━━━━━━━━━━━━━━━━━━━━━━━━━━━━━━━━━━━━━━━━\u001b[0m \u001b[32m144.1/144.1 kB\u001b[0m \u001b[31m13.5 MB/s\u001b[0m eta \u001b[36m0:00:00\u001b[0m\n",
            "\u001b[2K   \u001b[90m━━━━━━━━━━━━━━━━━━━━━━━━━━━━━━━━━━━━━━━━\u001b[0m \u001b[32m44.8/44.8 kB\u001b[0m \u001b[31m4.0 MB/s\u001b[0m eta \u001b[36m0:00:00\u001b[0m\n",
            "\u001b[2K   \u001b[90m━━━━━━━━━━━━━━━━━━━━━━━━━━━━━━━━━━━━━━━━\u001b[0m \u001b[32m123.8/123.8 kB\u001b[0m \u001b[31m12.2 MB/s\u001b[0m eta \u001b[36m0:00:00\u001b[0m\n",
            "\u001b[2K   \u001b[90m━━━━━━━━━━━━━━━━━━━━━━━━━━━━━━━━━━━━━━━━\u001b[0m \u001b[32m139.2/139.2 kB\u001b[0m \u001b[31m13.4 MB/s\u001b[0m eta \u001b[36m0:00:00\u001b[0m\n",
            "\u001b[2K   \u001b[90m━━━━━━━━━━━━━━━━━━━━━━━━━━━━━━━━━━━━━━━━\u001b[0m \u001b[32m13.4/13.4 MB\u001b[0m \u001b[31m108.6 MB/s\u001b[0m eta \u001b[36m0:00:00\u001b[0m\n",
            "\u001b[2K   \u001b[90m━━━━━━━━━━━━━━━━━━━━━━━━━━━━━━━━━━━━━━━━\u001b[0m \u001b[32m84.2/84.2 kB\u001b[0m \u001b[31m8.2 MB/s\u001b[0m eta \u001b[36m0:00:00\u001b[0m\n",
            "\u001b[?25h  Building wheel for vid2cleantxt (setup.py) ... \u001b[?25l\u001b[?25hdone\n",
            "  Building wheel for wordninja (setup.py) ... \u001b[?25l\u001b[?25hdone\n",
            "  Building wheel for GPUtil (setup.py) ... \u001b[?25l\u001b[?25hdone\n",
            "  Building wheel for emoji (setup.py) ... \u001b[?25l\u001b[?25hdone\n",
            "CPU times: user 710 ms, sys: 108 ms, total: 818 ms\n",
            "Wall time: 1min 55s\n"
          ]
        }
      ]
    },
    {
      "cell_type": "markdown",
      "source": [
        "## import & download source video\n",
        "\n",
        "\n",
        "\n",
        "This demo downloads a **video file** with `wget` to the local runtime and transcribes it. If you'd like to use this for youtube transcription, you can copy/paste the following code to download a video with [yt-dlp](https://github.com/yt-dlp/yt-dlp)  :\n",
        "\n",
        "\n",
        "\n",
        "```python\n",
        "!pip install -U -q yt-dlp\n",
        "my_yt_link = \"https://youtu.be/_UiL7ErcPf0\"\n",
        "!yt-dlp $my_yt_link --recode-video mp4\n",
        "# video saved to notebook cwd, ready to run vid2cleantxt\n",
        "```\n",
        "\n",
        "Make sure that you run the youtube download code **before** running `vid2cleantxt.transcribe.transcribe_dir()`\n",
        "\n",
        "\n",
        "---\n"
      ],
      "metadata": {
        "id": "jFFQDgI8NO1l"
      }
    },
    {
      "cell_type": "code",
      "source": [
        "#@markdown enter a downloadable URL to a video\n",
        "vid_file_url = \"https://www.dropbox.com/s/q2gu4ik4h8zltpo/President%20Kennedy%27s%201962%20Speech%20on%20the%20US%20Space%20Program%20%20C-SPAN%20Classroom.mp4?dl=1\" #@param {type:\"string\"}\n",
        "\n",
        "import re\n",
        "\n",
        "def extract_filename(url:str):\n",
        "    base_name = re.findall(r'[^/]+$', url)[0]\n",
        "    base_name =base_name.replace('?dl=0', \"\")\n",
        "    base_name =base_name.replace('?dl=1', \"\")\n",
        "    return re.sub('[^a-zA-Z0-9.]', '', base_name)\n",
        "\n",
        "local_path = extract_filename(vid_file_url)\n",
        "!wget -O $local_path $vid_file_url"
      ],
      "metadata": {
        "id": "hVP2ouPdvDSx",
        "cellView": "form",
        "colab": {
          "base_uri": "https://localhost:8080/",
          "height": 675
        },
        "outputId": "0ed347b3-3fb6-4246-86e5-2bc9f0ce4c16"
      },
      "execution_count": null,
      "outputs": [
        {
          "output_type": "display_data",
          "data": {
            "text/plain": [
              "<IPython.core.display.HTML object>"
            ],
            "text/html": [
              "\n",
              "  <style>\n",
              "    pre {\n",
              "        white-space: pre-wrap;\n",
              "    }\n",
              "  </style>\n",
              "  "
            ]
          },
          "metadata": {}
        },
        {
          "output_type": "stream",
          "name": "stdout",
          "text": [
            "--2023-01-25 19:04:28--  https://www.dropbox.com/s/q2gu4ik4h8zltpo/President%20Kennedy%27s%201962%20Speech%20on%20the%20US%20Space%20Program%20%20C-SPAN%20Classroom.mp4?dl=1\n",
            "Resolving www.dropbox.com (www.dropbox.com)... 162.125.81.18, 2620:100:6031:18::a27d:5112\n",
            "Connecting to www.dropbox.com (www.dropbox.com)|162.125.81.18|:443... connected.\n",
            "HTTP request sent, awaiting response... 302 Found\n",
            "Location: /s/dl/q2gu4ik4h8zltpo/President%20Kennedy%27s%201962%20Speech%20on%20the%20US%20Space%20Program%20%20C-SPAN%20Classroom.mp4 [following]\n",
            "--2023-01-25 19:04:29--  https://www.dropbox.com/s/dl/q2gu4ik4h8zltpo/President%20Kennedy%27s%201962%20Speech%20on%20the%20US%20Space%20Program%20%20C-SPAN%20Classroom.mp4\n",
            "Reusing existing connection to www.dropbox.com:443.\n",
            "HTTP request sent, awaiting response... 302 Found\n",
            "Location: https://ucfa85c90c9c256528d467ec32d7.dl.dropboxusercontent.com/cd/0/get/B1Nt1Grfuly0NCTK3Xw2n6JK64iiDBCHJElgQniqdPuEu6WUyKw6q5ajw2-go-Rvz-YY8hM78It35Ku7wx3nb0gev4gCUB1vlPrzCgHS_QRy-CdlC1Ay6SLmr6viLhhD3n_D7xgarcQmG5_JGwYRFhb1S9Zjhz4xFFfUQWX0L-1AQA/file?dl=1# [following]\n",
            "--2023-01-25 19:04:29--  https://ucfa85c90c9c256528d467ec32d7.dl.dropboxusercontent.com/cd/0/get/B1Nt1Grfuly0NCTK3Xw2n6JK64iiDBCHJElgQniqdPuEu6WUyKw6q5ajw2-go-Rvz-YY8hM78It35Ku7wx3nb0gev4gCUB1vlPrzCgHS_QRy-CdlC1Ay6SLmr6viLhhD3n_D7xgarcQmG5_JGwYRFhb1S9Zjhz4xFFfUQWX0L-1AQA/file?dl=1\n",
            "Resolving ucfa85c90c9c256528d467ec32d7.dl.dropboxusercontent.com (ucfa85c90c9c256528d467ec32d7.dl.dropboxusercontent.com)... 162.125.69.15, 2620:100:6031:15::a27d:510f\n",
            "Connecting to ucfa85c90c9c256528d467ec32d7.dl.dropboxusercontent.com (ucfa85c90c9c256528d467ec32d7.dl.dropboxusercontent.com)|162.125.69.15|:443... connected.\n",
            "HTTP request sent, awaiting response... 200 OK\n",
            "Length: 23224524 (22M) [application/binary]\n",
            "Saving to: ‘President20Kennedy27s20196220Speech20on20the20US20Space20Program2020CSPAN20Classroom.mp4’\n",
            "\n",
            "President20Kennedy2 100%[===================>]  22.15M  6.22MB/s    in 3.6s    \n",
            "\n",
            "2023-01-25 19:04:34 (6.22 MB/s) - ‘President20Kennedy27s20196220Speech20on20the20US20Space20Program2020CSPAN20Classroom.mp4’ saved [23224524/23224524]\n",
            "\n"
          ]
        }
      ]
    },
    {
      "cell_type": "code",
      "source": [
        "import vid2cleantxt"
      ],
      "metadata": {
        "id": "5nGASZtsvWGD",
        "colab": {
          "base_uri": "https://localhost:8080/",
          "height": 353,
          "referenced_widgets": [
            "ebeacd33f05c493aafe859effb82ded1",
            "dfab0447ad3d4b64addc52256681ff2b",
            "5362eb3dda654c2d89640297908b80c8",
            "be0a9a55c7404f7fa58a821b2373e966",
            "8b562aaca0784db6909b174acfe95624",
            "6bf065b40a8e499a9fd186f4bb3cea20",
            "24548187316f4d2da01c93ec75d678d5",
            "32f0f430bd66441eae2f9c458bf7a4ab",
            "2c13736e5784486ab54d0c5f07e76b0e",
            "2e276ddf0921466486071a5ac9ab16a2",
            "6edfe41394644a308e53ac7f503780dc",
            "48d4ffae2deb4dfaa41c75f65c3db7e1",
            "dec0739648d944278ba847292f5cea90",
            "35f459e62e734ed49867f115b96311d2",
            "9855cff770e74f6da8a8ab12d84d3a11",
            "3e7364b9375e496890e347f72c7db57f",
            "72785f42c5044186a538372f6e0f06b4",
            "f558165ff43a4a85a14e8e485db5c318",
            "78d88e69b846409f94a7d1ed7ad86b30",
            "6c8dab75999441cd9318271507f5c2bf",
            "008f74e6c8a3420db9ef40d8d7b6352e",
            "a8d3878402d14395951877e2f5ba6870",
            "5316cf10c26d4b4bbc14e86e5a92eba2",
            "b05cea5b613541528f11567e19ac9e6f",
            "0fc8a2a52dfd4ec9b2ef4ea25aab4556",
            "96aa54e2cd5244a9a5bfc39ecb92f74e",
            "3568f5027f864e0b9e18873ee4622413",
            "2f1116d8d3a74fe5888af70264063c6a",
            "de37b1ab12d94cd2a3ac1458f8dd4a4a",
            "b199f4100859498c8466c24e019cfe2e",
            "dc0e55133f3945a98e7047c21064f4da",
            "1d57f84e80374276b36c5ff8bdccf4f9",
            "3fc0e7751df0478ea92ed53fcaf7c6dd",
            "c39312752e7c49c8a54f3ed9e5d8e88a",
            "90551e64a9b64582a8f48bfb284d2d15",
            "e02e3d3d74a64cf8a180544104806bbc",
            "80453cb3bbf340939fc527985a93d67b",
            "eb909fccb2404af990496d9f679f7cbb",
            "ca7b4f780ed348219169189d01042ed6",
            "2559a2a7f6e749ae937f9e036490995e",
            "01301a3abc3a460a913da311cbf9a6ee",
            "153b71fa6c9547899408e8cd5eb2534a",
            "97e5c543e3f745ac939d8e58bc7fb293",
            "388515fee09744ed9de5461bb244227c"
          ]
        },
        "outputId": "4751aa56-e485-4e4f-c4f9-87792ab75ca1"
      },
      "execution_count": null,
      "outputs": [
        {
          "output_type": "display_data",
          "data": {
            "text/plain": [
              "<IPython.core.display.HTML object>"
            ],
            "text/html": [
              "\n",
              "  <style>\n",
              "    pre {\n",
              "        white-space: pre-wrap;\n",
              "    }\n",
              "  </style>\n",
              "  "
            ]
          },
          "metadata": {}
        },
        {
          "output_type": "stream",
          "name": "stdout",
          "text": [
            "data folder is set to `/usr/local/lib/python3.11/dist-packages/neuspell/../data` script\n"
          ]
        },
        {
          "output_type": "stream",
          "name": "stderr",
          "text": [
            "/usr/local/lib/python3.11/dist-packages/huggingface_hub/utils/_auth.py:94: UserWarning: \n",
            "The secret `HF_TOKEN` does not exist in your Colab secrets.\n",
            "To authenticate with the Hugging Face Hub, create a token in your settings tab (https://huggingface.co/settings/tokens), set it as secret in your Google Colab and restart your session.\n",
            "You will be able to reuse this secret in all of your notebooks.\n",
            "Please note that authentication is recommended but still optional to access public models or datasets.\n",
            "  warnings.warn(\n"
          ]
        },
        {
          "output_type": "display_data",
          "data": {
            "text/plain": [
              "tokenizer_config.json:   0%|          | 0.00/49.0 [00:00<?, ?B/s]"
            ],
            "application/vnd.jupyter.widget-view+json": {
              "version_major": 2,
              "version_minor": 0,
              "model_id": "ebeacd33f05c493aafe859effb82ded1"
            }
          },
          "metadata": {}
        },
        {
          "output_type": "display_data",
          "data": {
            "text/plain": [
              "vocab.txt:   0%|          | 0.00/213k [00:00<?, ?B/s]"
            ],
            "application/vnd.jupyter.widget-view+json": {
              "version_major": 2,
              "version_minor": 0,
              "model_id": "48d4ffae2deb4dfaa41c75f65c3db7e1"
            }
          },
          "metadata": {}
        },
        {
          "output_type": "display_data",
          "data": {
            "text/plain": [
              "tokenizer.json:   0%|          | 0.00/436k [00:00<?, ?B/s]"
            ],
            "application/vnd.jupyter.widget-view+json": {
              "version_major": 2,
              "version_minor": 0,
              "model_id": "5316cf10c26d4b4bbc14e86e5a92eba2"
            }
          },
          "metadata": {}
        },
        {
          "output_type": "display_data",
          "data": {
            "text/plain": [
              "config.json:   0%|          | 0.00/570 [00:00<?, ?B/s]"
            ],
            "application/vnd.jupyter.widget-view+json": {
              "version_major": 2,
              "version_minor": 0,
              "model_id": "c39312752e7c49c8a54f3ed9e5d8e88a"
            }
          },
          "metadata": {}
        }
      ]
    },
    {
      "cell_type": "markdown",
      "source": [
        "## print out the docstring for API usage\n",
        "\n",
        "- `vid2cleantxt.transcribe.transcribe_dir` is the primary function at time of writing\n",
        "- colab will also display this upon hovering over the function"
      ],
      "metadata": {
        "id": "NbgNzeFBKT73"
      }
    },
    {
      "cell_type": "code",
      "source": [
        "import inspect\n",
        "\n",
        "deets =inspect.getfullargspec(vid2cleantxt.transcribe.transcribe_dir)\n",
        "deets._asdict()"
      ],
      "metadata": {
        "colab": {
          "base_uri": "https://localhost:8080/",
          "height": 260
        },
        "outputId": "86fab014-e187-4c8e-a8b8-e527c7cadec4",
        "id": "I4mYt1uaQx6z"
      },
      "execution_count": null,
      "outputs": [
        {
          "output_type": "display_data",
          "data": {
            "text/plain": [
              "<IPython.core.display.HTML object>"
            ],
            "text/html": [
              "\n",
              "  <style>\n",
              "    pre {\n",
              "        white-space: pre-wrap;\n",
              "    }\n",
              "  </style>\n",
              "  "
            ]
          },
          "metadata": {}
        },
        {
          "output_type": "execute_result",
          "data": {
            "text/plain": [
              "{'args': ['input_dir',\n",
              "  'chunk_length',\n",
              "  'model_id',\n",
              "  'basic_spelling',\n",
              "  'move_comp',\n",
              "  'join_text',\n",
              "  'print_memory_usage',\n",
              "  'verbose'],\n",
              " 'varargs': None,\n",
              " 'varkw': None,\n",
              " 'defaults': (30, 'openai/whisper-base.en', False, False, False, False, False),\n",
              " 'kwonlyargs': [],\n",
              " 'kwonlydefaults': None,\n",
              " 'annotations': {'input_dir': str, 'chunk_length': int, 'model_id': str}}"
            ]
          },
          "metadata": {},
          "execution_count": 6
        }
      ]
    },
    {
      "cell_type": "markdown",
      "source": [
        "## transcribe a video\n",
        "\n",
        "\n",
        "- passing `\".\"` transcribes all videos in the current working directory\n",
        "\n"
      ],
      "metadata": {
        "id": "SvdeCbrhKqGI"
      }
    },
    {
      "cell_type": "code",
      "source": [
        "import os\n",
        "os.getcwd()"
      ],
      "metadata": {
        "colab": {
          "base_uri": "https://localhost:8080/",
          "height": 35
        },
        "id": "M-iHFpbTK0va",
        "outputId": "0eb07810-2d7c-4b9e-b9c7-b37f364bb9f9"
      },
      "execution_count": null,
      "outputs": [
        {
          "output_type": "display_data",
          "data": {
            "text/plain": [
              "<IPython.core.display.HTML object>"
            ],
            "text/html": [
              "\n",
              "  <style>\n",
              "    pre {\n",
              "        white-space: pre-wrap;\n",
              "    }\n",
              "  </style>\n",
              "  "
            ]
          },
          "metadata": {}
        },
        {
          "output_type": "execute_result",
          "data": {
            "text/plain": [
              "'/content'"
            ],
            "application/vnd.google.colaboratory.intrinsic+json": {
              "type": "string"
            }
          },
          "metadata": {},
          "execution_count": 6
        }
      ]
    },
    {
      "cell_type": "code",
      "source": [
        "text_output, metadata_output = vid2cleantxt.transcribe.transcribe_dir(\n",
        "    input_dir=\".\", # notebook current working directory\n",
        "    model_id='openai/whisper-small.en',\n",
        "    chunk_length=30,\n",
        "    join_text=True, # merge all transcribed text to one line (for demo outputs)\n",
        ")\n"
      ],
      "metadata": {
        "id": "4ln1lWSbv-iD",
        "colab": {
          "base_uri": "https://localhost:8080/",
          "height": 451,
          "referenced_widgets": [
            "270430731e7b404aa9ebffaf20aea575",
            "5fde2ad902f9472eb9dbe6f595ead6c5",
            "eff5bd229cef42289374d359b0b1c866",
            "7f5d20a5fc3c48bf84d83aa6c85d16da",
            "17546a87552244f5830a17c87c26ef7e",
            "f91f0b168d614873b19bf86ead48ccb4",
            "278280b47da54c4d8990a74f541340a0",
            "36c5f7411ac942ae858e4334e703fd00",
            "cc0cea110723415ca10bc1310c9f0bed",
            "1af1709607aa47fabe235d9c153c91a7",
            "196f6d35c9884b2badab04ccc78518f7",
            "843889d49fa4448187c4ec550212c205",
            "e3135c2750b04e63bc6766df5730ce84",
            "e3f2d02058ca459c90e4be7413ff9076",
            "e89756d91ece4221b7ab4588c27883da",
            "63feb4ba64264f538f516d3a76a9ff62",
            "0891201a02b84a898a36d97ea35739af",
            "cde3cea5194e4954bfff0833940f4b64",
            "67f3aa817e8e484fbe0328ad0371ecb7",
            "bd49a8dfa5154a86b4de9e9d33292ef6",
            "1dede5fad3a0443eaac05ba785c505cd",
            "68c48f2614ad46c7b768d49bb4eebd74",
            "6fd2fc75acf84ec89d336a021acba33e",
            "8419be3082ae4a10b3a807b05df5ce2c",
            "8cb146d34d5c40679b24b8363a92a6ea",
            "0dd494d3ec9b45b6b7128b8fce9d8440",
            "0584f114deca4307ac41c67e71762ba4",
            "172e3e6f4f1a49829ae9f2ad648f1ef9",
            "9a87c443ec7f46a187aa5753e938585a",
            "56ec5e11c4364f1788bdd94ea4e97b85",
            "63b98c376c0c4d6b82c3534595d2e807",
            "4d67e49b846f4bb0bf123baa0caadcfd",
            "151567619e614f34909553e3e9bef40f",
            "df32ed6fe1e4406a89ea906db59f5fcc",
            "3a161d6cf267491ea9b1768ba15e781e",
            "1520a0ccf4974c3c85c502a71b9493f9",
            "865ac15a39f740199e539af20ee8cfc0",
            "734f971bddad4ce9a873dbe96e41ffff",
            "946a14d25e464e4286c7554619c7fe6d",
            "8529987afb0f42e6a466d649c0530f78",
            "c2e5e09c8c764e82a5f18506212a9042",
            "f30734ee77bf460cb37c0bce3930e5c3",
            "778401bc8fbc4b7e8fb99c72b8692c01",
            "d401c770d62e44bc8767a3f2a13066ab"
          ]
        },
        "outputId": "0e37f76d-505d-471f-ea7f-6e115f63d9ca"
      },
      "execution_count": null,
      "outputs": [
        {
          "data": {
            "text/html": [
              "\n",
              "  <style>\n",
              "    pre {\n",
              "        white-space: pre-wrap;\n",
              "    }\n",
              "  </style>\n",
              "  "
            ],
            "text/plain": [
              "<IPython.core.display.HTML object>"
            ]
          },
          "metadata": {},
          "output_type": "display_data"
        },
        {
          "metadata": {
            "tags": null
          },
          "name": "stderr",
          "output_type": "stream",
          "text": [
            "/usr/local/lib/python3.11/dist-packages/neuspell/seq_modeling/sclstmbert.py:23: FutureWarning: You are using `torch.load` with `weights_only=False` (the current default value), which uses the default pickle module implicitly. It is possible to construct malicious pickle data which will execute arbitrary code during unpickling (See https://github.com/pytorch/pytorch/blob/main/SECURITY.md#untrusted-models for more details). In a future release, the default value for `weights_only` will be flipped to `True`. This limits the functions that could be executed during unpickling. Arbitrary objects will no longer be allowed to be loaded via this mode unless they are explicitly allowlisted by the user via `torch.serialization.add_safe_globals`. We recommend you start setting `weights_only=True` for any use case where you don't have full control of the loaded file. Please open an issue on GitHub for any issues related to this experimental feature.\n",
            "  checkpoint_data = torch.load(os.path.join(checkpoint_path, \"model.pth.tar\"), map_location=map_location)\n"
          ]
        },
        {
          "data": {
            "application/vnd.jupyter.widget-view+json": {
              "model_id": "270430731e7b404aa9ebffaf20aea575",
              "version_major": 2,
              "version_minor": 0
            },
            "text/plain": [
              "transcribing...:   0%|          | 0/1 [00:00<?, ?it/s]"
            ]
          },
          "metadata": {},
          "output_type": "display_data"
        },
        {
          "data": {
            "application/vnd.jupyter.widget-view+json": {
              "model_id": "843889d49fa4448187c4ec550212c205",
              "version_major": 2,
              "version_minor": 0
            },
            "text/plain": [
              "Creating .wav audio clips:   0%|          | 0/275 [00:00<?, ?it/s]"
            ]
          },
          "metadata": {},
          "output_type": "display_data"
        },
        {
          "data": {
            "application/vnd.jupyter.widget-view+json": {
              "model_id": "6fd2fc75acf84ec89d336a021acba33e",
              "version_major": 2,
              "version_minor": 0
            },
            "text/plain": [
              "Transcribing video:   0%|          | 0/275 [00:00<?, ?it/s]"
            ]
          },
          "metadata": {},
          "output_type": "display_data"
        },
        {
          "output_type": "display_data",
          "data": {
            "text/plain": [
              "SC_pipeline - transcribed audio:   0%|          | 0/1 [00:00<?, ?it/s]"
            ],
            "application/vnd.jupyter.widget-view+json": {
              "version_major": 2,
              "version_minor": 0,
              "model_id": "df32ed6fe1e4406a89ea906db59f5fcc"
            }
          },
          "metadata": {}
        }
      ]
    },
    {
      "cell_type": "code",
      "source": [
        "# final transcription files are saved to this folder\n",
        "text_output"
      ],
      "metadata": {
        "colab": {
          "base_uri": "https://localhost:8080/",
          "height": 35
        },
        "id": "XaGax_QwLJiY",
        "outputId": "0dfefe37-c76d-47e8-9d68-6a80e5c423a0"
      },
      "execution_count": null,
      "outputs": [
        {
          "output_type": "display_data",
          "data": {
            "text/plain": [
              "<IPython.core.display.HTML object>"
            ],
            "text/html": [
              "\n",
              "  <style>\n",
              "    pre {\n",
              "        white-space: pre-wrap;\n",
              "    }\n",
              "  </style>\n",
              "  "
            ]
          },
          "metadata": {}
        },
        {
          "output_type": "execute_result",
          "data": {
            "text/plain": [
              "'/content/v2clntxt_transcriptions/results_SC_pipeline'"
            ],
            "application/vnd.google.colaboratory.intrinsic+json": {
              "type": "string"
            }
          },
          "metadata": {},
          "execution_count": 14
        }
      ]
    },
    {
      "cell_type": "code",
      "source": [
        "# final metadata files are saved to this folder\n",
        "metadata_output"
      ],
      "metadata": {
        "colab": {
          "base_uri": "https://localhost:8080/",
          "height": 35
        },
        "id": "Y6XF1dyhLMiP",
        "outputId": "9da6e0c7-1e0a-41f1-9441-7830bd564747"
      },
      "execution_count": null,
      "outputs": [
        {
          "output_type": "display_data",
          "data": {
            "text/plain": [
              "<IPython.core.display.HTML object>"
            ],
            "text/html": [
              "\n",
              "  <style>\n",
              "    pre {\n",
              "        white-space: pre-wrap;\n",
              "    }\n",
              "  </style>\n",
              "  "
            ]
          },
          "metadata": {}
        },
        {
          "output_type": "execute_result",
          "data": {
            "text/plain": [
              "'/content/v2clntxt_transc_metadata'"
            ],
            "application/vnd.google.colaboratory.intrinsic+json": {
              "type": "string"
            }
          },
          "metadata": {},
          "execution_count": 15
        }
      ]
    },
    {
      "cell_type": "code",
      "source": [
        "#@markdown display outputs\n",
        "from pathlib import Path\n",
        "output_dir = Path(text_output)\n",
        "files = [f for f in output_dir.iterdir() if f.suffix == '.txt']\n",
        "with open(files[0], 'r') as f:\n",
        "    text = f.read()\n",
        "text"
      ],
      "metadata": {
        "id": "3nCHwDS8LY_k",
        "colab": {
          "base_uri": "https://localhost:8080/",
          "height": 243
        },
        "outputId": "9ea5fb35-1964-4adb-d706-f07c411d12c1",
        "cellView": "form"
      },
      "execution_count": null,
      "outputs": [
        {
          "output_type": "display_data",
          "data": {
            "text/plain": [
              "<IPython.core.display.HTML object>"
            ],
            "text/html": [
              "\n",
              "  <style>\n",
              "    pre {\n",
              "        white-space: pre-wrap;\n",
              "    }\n",
              "  </style>\n",
              "  "
            ]
          },
          "metadata": {}
        },
        {
          "output_type": "execute_result",
          "data": {
            "text/plain": [
              "\"Music. You. All right so this is cs50 and this is week one zero index so to speak and it's not every day that you can say that you've learned a new language but today is that day today we explore a more traditional and older language called a and rest assured that even if what you're about to see no pun intended looks very cryptic very unusual particularly if you're among those less comfortable cling to the ideas from last week week zero wherein we talked. Talked about some of those fundamentals of functions and loops and conditionals all of which are coming back today indeed whereas last week and with problem set zero we focused on learning how to program with scratch which again you might have played with as a younger student days back today we focus on a instead but along the way we're going to focus as always frankly on learning how to solve problems but among the goals for today and really an entire class like this is just to give you week after week all the more tools for your toolkit so to speak via which to do. So for instance today we'll learn how to solve problems all the more so with functions as per last week we'll do the same with variables we'll do the same with conditionals with loops and with more but we'll also learn at the end of today is class really how not to solve problems it turns out as powerful as macs pcs cell phones are nowadays there's actually certain things that they can't do very well and the information they can't represent very well and that actually leads to a lot of real world problems both past and surely future. More on what we're not going to be able to do with programming before long but beyond that let's come back to this picture here so this was the very first program that i wrote that you wrote presumably in some form and all it does is say hello world but as promised today this puzzle piece or these puzzle pieces together are going to very quickly start to look more like this and i've deliberately color coded it in a way so that the text on the screen now kind of resembles the puzzle piece so if i go back notice that we had this when green flag clicked puzzle piece. Mostly in yellow with the green flag that sort of kicks off the whole process once you actually click the button at top right of scratches user interface and then there's the purple block which actually is the verb the action the function that does something so if i bring us back over to what we're about to see today there's going to be some boilerplate so to speak some orange text here on the screen that for now you just kind of type and take for granted like you need to write your code like that but more interesting is going to be the purple and we're going to see today that the function previously called. Say in scratch is now called print in this language called a but in white here you'll see similar text to our white oval last week whereby that's where user input like your input as the programmer can actually go so there's a lot of distraction and honestly it's these kinds of things that tend to distract and get frustrating early on when learning to code for the first time but the ideas most importantly are going to be the same so how are we going to go about using this well it turns out like last week you're going to start writing something called source code so code as we know it quote unquote. Is more technically called source code that's what you and i as humans actually write and indeed it might look a little something like we just saw but unfortunately computers only speak this binary zeros and ones more properly known as machine code in other words those same patterns of zeros and ones last week someone guessed print out hello world on the screen because one of those patterns is an a another pattern is an a an a an a and an of and so forth and then other patterns of those zeros and ones. Are commands or instructions to the computer that literally say show he all of comma world on the screen but machine code would not be nearly as much fun to write if it were indeed in zeros and ones entirely for us ideally you and i are going to write source code which conceptually sort of appear high level but we're going to need a program to convert it to the lower level machine code so that we don't spend our lives actually having to read and write zeros and ones which back in the day kind of in yesteryear you kind of sort of did with things. Is called punch cards and holes on physical sheets of paper we're beyond that because after years and years of innovation folks have given us higher level languages instead so here's what we're going to need to do today if at the end of the day you and i are writing source code but we want machine code as output we need something in the middle that's going to convert that source code to machine code you and i are not going to have to learn or talk about really anymore zeros and ones and the type of program we're going to start using today and introduce you to is called a compiler. So a compiler is a program that translates one language to another and it can be any two languages but today and often we'll talk about it in the context of source code to machine code so this is apple or google or microsoft or folks from other companies or even volunteers who have written software that do this conversion you and i are essentially going to download a free compiler and use it to actually get our computer to understand the source code that you and i write in these higher level languages so where are we going to do that. Could actually give you instructions and you could download the appropriate free open source software onto your own mac or pc the reality is that creates so many technical support headaches because we all have slightly different computers we all have slightly different versions of windows or mac of or linux or other operating systems and that too tends to be a distraction at the beginning of any course like this or learning programming so we're going to use the cloud instead we're going to use a urls of the form tips colon slash slash cs50 de and what this will do for you. Is put inside of your browser window absolutely everything you need for the course but it's going to use software software called visual studio code otherwise known as is code that's actually free itself it's very popular in industry it's what real programmers use every day but it's a cloud based version thereof and so everything will just work for you out of the box but toward the end of cs50 the goal is going to be to get you off of cs50's infrastructure to get you to download this freely available software onto your own mac or pc if you so choose. So that those training wheels so to speak can come off and then even if you never take another class again you don't need any classes infrastructure moving forward you'll have everything you want and need on your own mac or pc but for now it'll save us a bit of time so in just a bit i'm going to go to that urls myself on my computer and i and you will see a user interface that looks a little something like this the color might be different based on your settings fonts might be different and so forth but in general it consists of a few different regions so over here at the top is where we are going to start. Start writing code today so it's a tabbed interface like any number of programs nowadays and this is that same a code we saw a moment ago so this is where in a moment i'm going to start to type it over here at the bottom is what we're going to call a terminal window or a console and the terminal window is where we're going to type commands for compiling our code for running our code and we'll see today a contrast between a graphical user interface or guy which has menus and icons and things you click and are very familiar with versus a command. Command line interface or clip and so we're using both of these together and command line interface just means down here you only use your keyboard you can click click click if you want with your mouse it's not going to generally do much because a command line interface takes commands at the keyboard so in a weird sense it's going to feel like taking a step backwards from the macs the pcs the phones and android phones we all have which are very graphical but it turns out once you become a computer person or a programmer you can be a lot more productive a lot more efficient i dare say by learning. To harness the command line interface and using both types of interfaces for what each is good at so more on that in just a bit over here at left you're going to see soon a folder interface like mac of or windows where any of the files or folders we create in cs50 are going to end up as well so it gives you sort of the best of both worlds you can point and click on the left or you can type commands at the bottom as we'll soon see and then along here is the so called activity bar where there's just is code specific features but also cs50 specific features and if you're in your own version. Version of cs50 de you click through in the dot dot dot menu or zoom out so you can see everything you'll see cs50's own rubber duck virtually speaking that will be there throughout the course to answer any and all of your questions as well so more on that soon too so here's the code that i proposed that we write first just like we wrote our very first scratch program to say hello world so let's go ahead and do exactly this i'm going to switch over to this screen here where i've already logged into cs50 devon my computer. And just to keep the focus on the code i've hidden the activity bar i've hidden the file explorer so to speak so you're seeing here the area where all of my tabs are about to go and the terminal window where all of my commands are going to go but i've just simplified the i to keep our focus on the interesting parts for now so how do i go about actually writing and compiling and running some code well the teaser is going to be these three steps one of these is a command called aptly code and code is just going to let me to. Open or create a new file like a file called hello a make is going to be for now my compiler that allows me to make the program that is convert source code into machine code so from a to zeros and ones and then weirdly but we'll soon see why hello is going to be the command to run my actual code so the textual equivalent of double clicking on a mac or a pc icon or tapping an icon on your phone so that's it these three commands are going to allow me to write to compile. And to run code ultimately so let's go ahead and do that i'm back in my is code interface i'm going to go ahead and run code hello a and notice a couple of details here so one there's this weird dollar sign which has nothing to do with currency but it's just a common convention in the programming world to represent your prompt so if a of if i ever say go to your prompt we really mean go to your terminal window go to the dollar sign and the dollar sign is where you type the command sometimes it's a different symbol but the dollar sign. Now that i've typed code space hello a i'm going to go ahead and hit enter and maybe not surprisingly this gives me a brand new tab a new file if you will called hello a and just like word documents have their own file extension like doc doc and excel files have also and plus have psf and gift have if and so forth so doc files have a file extension by convention that is a now a couple of minor points notice that by convention i'm almost done with that. I'm almost always going to name my files in lowercase by convention i'm never going to use spaces in my file names and my file extension 2 is going to be lowercase long story short accidentally hitting the space bar or using file names with spaces just tends to make life harder when you're in a command line environment so just beware silly stupid things like that so all lowercase no spaces for now so my cursor is literally blinking because the program wants me to write some code i'm going to do this for memory it'll take you presumably some time to acquire the same code. But i'm going to go ahead and type this first line here pronounced include standard i of doth more on that soon int main void with some parentheses thrown in notice what's about to happen here is a little interesting in the code i want to type i want what we'll call curly braces the sort of squiggles that you don't use often in english at least but are there on your keyboard somewhere but notice what is code does in a lot of programming environments is it finishes part of my thought so i'm only going to type a left curly brace. But notice i actually get two of them and if i hit enter notice that not only does it scotch one down a bit it also indents my cursor because just like with pseudo code last week whenever you're doing something logically that should only happen if the thing above it happens similarly is indentation going to be a thing when we actually write code so is code and programs like it just try to save us keystrokes so i don't have to waste time hitting the space bar or hitting tab or sort of wasting my human time like that all right so with that said i'm going to go ahead and hit. And type the last of these lines print of where the of is going to mean formatted and then a parenthesis and notice it gave me two it gave me the second one for free sometimes it will get confused and you can certainly override this delete it and start over and now unlike scratch in a it turns out i'm going to need to use double quotes any time i'm using an english word or phrase or any human language for that matter hello comma world and then at the very end of my line much like english uses periods i'm going to use a sentence. Semicolon in a so that's a lot of talking but it's not much coding it's technically six lines of code but honestly the only interesting one intellectually as we'll soon see is really line five like that is the equivalent of that say block now here's where i'll cross my fingers hoping that i didn't make any typographical errors it's going to automatically save for me and i'm going to go back to my terminal window where now i'm going to do that second command make space hello common mistake you do not say make hello a because you. You already made that file you say make hello which is the name of the program that in this case i do want to create and make is smart it's going to look in my folder and if it sees a file called hello a it's going to convert that source code to machine code and save the results in a simpler shorter named file just called hello like an icon on your desktop now hopefully nothing will happen and that is a good thing quite paradoxically if you do anything wrong when programming odds are you're going to see one or many more. Lines of error sort of yelling at you that you made a mistake seeing nothing happen is actually a good sign so the last command to run my code recall our three steps here we're in code to create the file make to compile the file from source code to machine code so lastly is hello so this now is the equivalent of my double clicking on a mac or pc or single tapping on a phone enter so close all right it's pretty good. I got the he all of comma space world but there's something a little stupid about my output what might rub some of you aesthetically the wrong way yeah yeah so the dollar sign looks like i was like hello world dollar sign in my output but no that's just kind of a remnant of my prompt starting with a dollar sign and this is a little nitpick but this just doesn't feel right doesn't look right it's not quite correct so how can i go about fixing this well here's where at least initially it's going to take some. Introduction says like just new syntax in a to fix this like the simplest instinct might be to do this well let me just hit enter like that but this should soon if not already rub you the wrong way because in general we're going to see that programming in a and in python and other languages tends to be line based like you should really start and finish your thought on one line so if you're in the habit of hitting enter like this and sort of finishing your thought on the next line generally programming languages don't like that so this is in fact not going to do what we expect. And just to show you as much i'm going to do this let me go back to my terminal window here i'm going to rerun make hello after making that change enter and there we have it like the first of our erroneous outputs and it's yelling at me it's missing a terminating character and there's some red in here some green drawing my attention to it sometimes these error messages will be straightforward sometimes you're going to rack your brain a bit to figure them out but for now i've spoiled that obviously enter is not the right solution so let me clear my terminal window just to hide that error. Let me delete this and let me propose now that i add this incantation here so backslash a it turns out is going to be the sort of magical way of ensuring that you actually get a new line at the end of your output so let me go ahead now and rerun make hello because i've changed my code i need to now re convert recompile the source code to new machine code dot slash hello and now there is the canonical hello world program. That i hoped to write in the first place so for now don't worry about the include don't worry about the standard i of don't worry about int or main or void or the curly braces focus primarily on line five here and over the course of today and next week we'll start to tease apart the other characters that for now you should take at face value questions though on any of the steps we've just done yeah. Inside of the quotation marks if you will so the answer is that's just the way it needs to be because inside of the quotes is the input that you want print to output to the screen so if you want print this function to output a new line it must be included in the quoted text that you give it exactly backslash a is a special pattern that print no means of i should move the cursor to the screen. The next line good question other questions on any of these steps yeah a good question so what if you actually want to print backslash a things get a little tricky there let me go ahead and propose that we do this so it turns out and this is often the case in programming when you want a literal character to appear you actually put another backslash in front of it but this is not going to be something we do often but there is in fact a solution to that but let me propose that beyond that now we sort of compare. So here is the first scratch program we wrote with the green flag there here recall is the mental model that i proposed we have for almost everything we do whereby functions are just an implementation say in code of algorithms step by step instructions for solving problems the inputs to functions recall from last week are called arguments or in some context parameters and sometimes functions can have side effects like last time with scratch there was the speech bubble that magically appeared next to the cats face. Is a sort of side effect of using the say block so just like this then we had the white oval as input the say block was the function last week and then we had this here side effect well how do we compare these things left to right well here's the say block at left let's compare now to the a code at right notice a couple of things to sort of adapt from scratch to a print is almost the name of the function it is technically print for reasons we'll eventually see notice the parentheses in care kind of evocative. Of the oval in scratch and that's probably why it chose an oval because a lot of languages use parentheses in this way you still write hello world just as we did last week in scratch but per our demo thus far you do need the double quotes and double quotes not single quotes double quotes on the left and right and in order to get that new line you need the backslash end and one more thing is missing yeah the semicolon to finish your thought so all of these sort of stupid things now. That honestly you will forget initially if you've never programmed before but you'll soon within days within weeks develop the muscle memory where all of that stuff just jumps off the page right at you all right so these escapes this backslash a is generally known just so you know as an escape sequence and so backslash a allows us to specify a character that might otherwise be hard to type but let's tease apart some of the other things atop that function already so include standard to a. That in a a lot of the functionality that comes with the language is tucked away in separate files so if you want to use certain functions you have to tell the compiler hey i want to do some standard input and output like i want to print some things on the screen and that's because for now you can think of print as living in this file standard to a that's a bit of a white lie for now but in standard to his essentially a declaration for print that will teach the compiler how. To print things to the screen so hash include here simply tells the compiler before it does anything else essentially go ahead and find on the local hard drive a file called standard of hand kind of copy paste it there so i know now about print so this thing this a file is what we'll technically call a header file and if you've ever heard this word especially if you have programmed before it represents essentially what we'll start calling a library so a library in the world of programming is just code that someone else writes. That you can use it's usually free and open source which means you can literally see the code that someone else wrote or sometimes you pay for it sometimes it's closed source which maybe microsoft wrote it they won't show you the code but they will let you use the zeros and ones so libraries are super useful because honestly even i don't really know how print works i've taken for granted for 25 years that if i use print stuff prints on the screen but someone smarter than me had to actually write the code in a that figures out how to get the a the a the a the a the a. To and so forth onto the mac screen the pc screen the phone screen or somewhere else so libraries allow us to stand on each others shoulders so that someone else can do the hard work and we can now solve problems that are more interesting to us not the basic commodity stuff that everyone might want in their code so again library is code that someone else wrote a header file in a is just a file ending in a that gives you access to the same and so for instance if you want to learn more about these there are what are called in the world of programming. Manual pages and these are textual files like documentation of sorts via which you can just learn how a function works or how you can use its inputs or arguments the reality is they're written for folks who aren't in cs50 they're written for folks who aren't just learning how to program they're written for and by folks who have been programming for years and so frankly they're a little hard to understand and so cs50 has its own version thereof at this urls manual cs50 to where you'll see not only the effect. Official documentation for a the language but also staff written simplifications in laypersons terms what all of the various popular functions are what their inputs and what their outputs are so for instance under standard of a you can actually go to that website you can go to a urls like this where standard of his in there and you can actually see the documentation there for so let me go ahead and do this i'm going to go ahead in my browser here i'm going to go to manual a. Cs50 to and let me go ahead here and select those functions that are frequently used in cs50 and under standard of a you'll see a bunch of functions only one of which we've even discussed called print i'm going to click on print there and you'll see an interface that at first glance might be a little overwhelming but it's going to start to look more and more familiar so first of all you'll see that if you want to use print under synopsis you need to include this header file you literally copy and paste that line into your own code. You'll also see this which for now is a bit arcane but this is kind of a hint as to what the function is going to look like but more on that soon but more importantly you can read a description about it and because these descriptions when you're in less comfortable mode are written by me and the courses teaching fellows teaching assistants and course assistants you'll find them to be much more in laypersons terms and so long story short rely on this site once you want to learn how to use some function and also what other functions exist in fact if i go back to the main page here. You'll see that there are all of these functions are frequently used in cs50 and there's hundreds more that come with a but learning a programming language is not about learning all of those but rather just getting a sense of where you find answers to questions when you do want to try something new but what is important to know for cs50 today is that we have our own header file called cs50 a which has functions that we have written just to make life easier in the first few weeks of the class. Training wheels that will eventually take off but it turns out in a especially if you've programmed before it's actually really hard and annoying just to get input from users to get them to type a word or a number or something else like a does not make this easy in part because it's one of the earliest languages that wasn't zeros and ones so you have to do a lot of the heavy lifting yourself but we'll put on these training wheels today and for a few weeks so that we can focus really on the intellectually interesting ideas of a and programming without getting bogged. In certain weeds that we will come back to before long so for instance cs50's own documentation is there at that urls but within the library are these functions a function called get string to get a string of text string is a synonym for just text in a programming language so get string will prompt the human for a string of text get int is shorthand for get integer if you want to get a number from the user get float is a little more arcane get a floating point number like a real number with a decimal point. Point in it and dot dot dot there are others as well so this is to say within cs50 we've got some user friendly functions via which we can actually get some input and let's go ahead and use one of these for instance get string because recall that last week our second program in scratch was this one here where we didn't just say hello world we said hello david or hello carter hello julia whoever it was typing their name in but to do that we needed this ask block in scratch and then we used the save. Block and then we use the join block to kind of make all of this work so let's translate this program now into a because it's a little more interesting and representative of the kind of code we'll start to write but we need a slightly different mental model still have a function here which is the implementation in code of an algorithm we still have some inputs called arguments but previously i said that the save block and in turn print have side effects which is just something visually typically that happens on the screen other functions actually have what we call. Called last week return values and this is kind of analogous to a function maybe doing something for you writing down the answer on a slip of paper and then handing you the programmer the slip of paper to do whatever you want with it without just broadcasting it to the world with a speech bubble on the screen so a return value is germane for a program like this because recall when we used the ask block and i typed in my name where did my name end up initially. It didn't go on the screen yet where did it end up in an answer puzzle piece and that special oval puzzle piece i claimed at the time represents a return value so the sort of metaphorical piece of paper that the answer is written down on so that i can then use it later so that's what we want to get to now and see a return value that i can then do anything i want whether it's printed to the screen change it in some way save it in a database or anything else so here for instance is what we did with scratch the input to the save block. Or the ask block was what's your name quote unquote the function of course is the ask function and the return value was answer if we now consider how we might translate this to a it's going to look a little weird at first but it's going to follow a pattern today next week the week after anytime we do code like this so get string i claim is going to be the most analogous function in a to the ask block and to be clear this is a cs50 specific thing training wheels of sorts but we'll show you in a few weeks. What this function is doing and how you cannot use it moving forward once you're comfortable with the language itself notice i've put parentheses left and right as sort of a placeholder for user input and that user input is going to be what's your name but i can't just put what's your name in parentheses what do i minimally need to add in there too yeah so the double quotes left and right so let me go ahead and add those in i left a space here not for a new line i could move the cursor to the next line but i minimally at least want to move the cursor at least one space. Over just so it looks pretty so that when i'm prompted for my name there's a space between the question and my answer but it could also be backslash a that's just an aesthetic choice on my part but what do i do with the answer that comes back from get string this is where the text is going to look different today in a you start to use an equal sign from left to right respectively and on the left you put the name of the variable in which you want to store that return value. Turn value is kind of a conceptual thing you can do with it what you want and if i want to store it longer term in a variable like a or a or a in match class i can just give it a name here a or a or a or more reasonably answer or any other english word no spaces generally lowercase same heuristics as before but this means now ask the user what's their name whatever they type in go ahead and store it from right to left in this variable called answer but a is not done with us yet. Learn python or certain other languages you'd kind of be done writing code at this point in a though you additionally have to tell the compiler what type of variable you want to use so if it's a string of text you say string if it's an integer a number you say int as we might have seen before so it's a little more pedantic it's more annoying frankly the more onus on you and me the programmers but this just helps the compiler know how to store it in the computers memory and i'm so close to being done with this line of code but what's missing. So semicolon and mark my words if you've never programmed before sometime this week this semester you will forget a semicolon you will raise your hand you'll get frustrated because you can't understand why your codes not working you will run into stupid issues like that but do take faith that they are stupid issues it doesn't mean it's not clicking for you or you're not a programmer it just takes time to see these things if it's a new language to you so there now is my semicolon all right let's go ahead then and do something with that return value using the second. Of the big puzzle pieces in scratch so when i wanted to say hello david or whatever the humans name is i kind of stacked my puzzle pieces like this this is actually similar to python and maybe some other languages some of you have learned but a is a little bit different and the closest analog to this scratch solution is going to look like this i still use print because print is the equivalent of say inside of my parentheses i'm going to go ahead and say weirdly hello. So there's no real analog in a of join instead there's a way to specially format text using print hence the of in print and what you do in print is you type whatever english word or human words that you want you then use percent a as a placeholder if you want a string of text to be added to your own text you literally write percent a and let me anticipate a question from the crowd how do you print out percent a there's a lot of code that you can use. A solution to that too if you literally ever want to print out percent a but it's deliberately a weird choice of characters so that the probability that we ever need to type this ourselves is just low that no one really worries too much about it all right but that's not quite enough in addition to saying hello comma space placeholder percent a and just for vocabulary sake that's a format code again format being the of in print i still need my double quotes around the whole thing. To match my previous program i am going to go ahead and add the backslash a to move the cursor to the next line and now i've left a crazy amount of room here but that's deliberate does anyone have an instinct for what i'm probably going to want to add after the quotes but still inside of the parentheses so answer itself i need to somehow tell print with a second input otherwise known as an argument what i want to substitute for that percent a and so i put a comma. And then the name of the variable that i want print to figure out how to plug in here so honestly it's a little annoying and this is kind of a dated approach like newer more modern languages like we'll see later in the course python and javascript actually have much more user friendly ways of doing it but once you wrap your mind around the heuristics the rules here it's just formatting a string by plugging in whatever you want into this format string so to speak and again the comma here is important this signifies that it takes a lot of time. Takes one input at left and a second input at right but notice this comma there's technically two commas but i'm not claiming that this function takes three inputs why this comma i'm pointing out doesn't mean the same exactly this comma that i'm pointing to is part of the quotation marks and therefore part of my string of english text so this is just english grammar this is sort of a syntax and again these are the sort of annoying little details that. Using the same symbol for different things but context matters so just stare at your code look carefully left to right and generally the answer will pop out no pun intended of questions now on this syntax before we actually write it and run it yeah why is the backslash a not after the answer so the way functions work including print is that you pass to them one argument inside of the parentheses and then if you have a second argument. You put it after this comma here but the way print works is that its first argument is always a string that you want to be formatted for you so anything you want printed on the screen has to go in those quotes and you can perhaps extrapolate from this if i actually wanted to say multiple things in this sentence so hello maybe first name last name i could actually do hello comma percent a space percent a if i had two variables one called first name one called last name. Then i would need another comma for a third input to the function and so it's very general purpose in that sense questions yeah of so can you abstract away the format string itself hello comma answer short answer yes but not nearly as easily in a as you can in other languages so that's why we're keeping it simple for now but you're going to love something like python or javascript where a lot of this. But you'll see also in python and javascript and other languages they still are inspired by syntax like this so just understanding it now will be useful for multiple languages down the line all right so let's actually do something with this code rather than just talk about what it might be doing for us let me go over to for instance is code again and i'm going to go ahead now and remove this middle line of print i'm still in my same file called hello a i'm going to click on the name of the code. Clear my terminal window just to eliminate distraction and to do that i can literally type clear but this is just for aesthetic sake that's not functionally that useful or you can hit control a to achieve the same on your keyboard but i'm going to go back to line 5 here where i previously just said hello world and i'm going to do this instead i'm going to give myself a variable called string sorry i'm going to give myself a variable called answer the type of which is string i'm going to set it equal to whatever the return value is of get string. Asking an english question what's your name with just a single space just to move the cursor over followed by a semicolon then i'm going to go ahead and say print quote unquote hello comma placeholder backslash a close quote comma and then what goes here again this is where answer goes and then i just need to semicolon on the right of that but i think now that i'm done but let me point out a couple of details. Not very colourful very pretty quickly and it's not like the black and white code i had on the screen a moment ago this is because what programs like is code do for us is it pretty prints or rather it syntax highlights our code for us so syntax highlighting means just add some color to the code so that different ideas pop out so you'll notice for instance that print here get string here are in purple because they represent functions just like the say block here what's your name quote unquote in is code is a light blue instead of white. It's still going to be consistent if i use strings of text elsewhere as well so i didn't type anything special this isn't like microsoft word or google docs where i'm highlighting and changing color of things this is all happening automatically but it's just unicode text it's just being interpreted automatically and having these color applied so that things pop out more usefully visually now i've unfortunately made a mistake but i'm going to deliberately induce this one because you too will probably make this mistake i'm going to go ahead and run make hello again because i've changed my code. So i have to regenerate the machine code from the new source code but unfortunately when i hit enter now my errors don't even fit on the screen so let me make this bigger i'm going to click the little caret symbol here just to make my terminal bigger for just a moment and you'll see that there's more lines of errors than there are of code that i actually wrote often which is written pretty arcane again for programmers who're been writing code for 10 20 years but there are some details that pop out so notice the problem is definitely with hello to. Let's see so great it is my fault this syntax here means that line 5 is the problem and this next 5 means character 5 so you can literally triangulate your bug your mistake by going to line 5 and then over 5 and it's somewhere in that area specifically the area is use of undeclared identifier string did you mean standard in i don't think i did i do want string and then there's some other complexity here but what's important here is not the specifics of this error. But really the implication that it doesn't recognize the word string or get string now why might this be yeah exactly because we are using get string which i claimed is a cs50 thing that we'll use for a few weeks a does not know about it out of the box so to speak i have to teach the compiler that get string exists just like i taught the compiler that print exists by including the appropriate. And in this case quite simply it's called include cs50 a that now teaches the compiler of someone else wrote this function already get string and with it this type of variable called string so now if i go back to my terminal window and rerun the exact same command make hello maybe crossing my fingers now nothing in fact goes wrong because the compilers been brought up to speed with all of the functionality it needs and now if i do hello enter there it is what's my name and notice the current name. One space over just because i thought that looked prettier than having the cursor right next to the question mark a a a id as my input and enter and hello comma david questions on any of this code thus far questions any of the code no all right so let's introduce some other functionality into the mix it turns out that there are other types of data other types of variables in the mix. World not just strings but indeed per before we have things called integers int for short floating point values float for short and a few others as well so rather than only focus on string let's get a little more interesting with numbers here and see what we can do with something like integers again int for short by taking a look at not get string as before but now how about get int and for this i'm going to give us a few other tools in our toolkit those format codes to which i alluded earlier like percent a. Fortunately you're pretty straightforward and here is a list of most of the popular format codes that you might ever care about with print in particular we saws for string and you can perhaps guess which one we're going to use for integers yeah so i is what we're going to use for integers and this is the kind of thing that you can consult in the manual pages or a slide like this there's only a few of them that you might frequently use but let's go ahead and use integers in a more interesting context not just using functions but let's revisit this idea of conditionals. In scratch were like these proverbial forks in the road like do you want to do this thing or this thing or this other thing it's a way of making decisions in a program which is going to be super useful and pretty much omnipresent in any problems that we try to solve so let me give you a few more building blocks in a by doing the side by side comparison again so here in scratch is how we might say if two variables a and a are one is less than the other then go ahead and say quote unquote a is less than a so kind of a stupid program but just to show. Show you the basic syntax for scratch this is how you would ask the question if a is less than a then say this so say is the function if is the conditional and the green thing here we called what what we call it yeah a boolean or a boolean expression which is just a fancy way of saying a question whose answer is true or false yes or no one or zero however you want to think about it in a the codes going to look like this so it'll take a little bit of half. A little bit of muscle memory to develop but you're going to say if then in parentheses you're going to say a less than a assuming a and a are variables you're then going to use these curly braces and then if you want to say quote unquote a is less than a in a what function should we use here presumably so print so print quote unquote a is less than a so it's a bit of a mouthful but again notice the pattern name of the function is print in the parentheses the name of the function is print. Left and right is the argument to print which is quote unquote a is less than a and again just for aesthetics to move the cursor to the next line which you don't have to worry about in scratch because everything is in speech bubbles we're adding a backslash a as well so notice that these curly braces as they're called much like the orange puzzle piece here are kind of like hugging the code like this and i'll note that technically speaking in a if you only have one line of code inside of your conditional you can actually omit. The curly braces altogether and the code will still work if you have one single line of code why just saves people some keystrokes if you have two lines three lines or more in there you need the curly braces but i'll always draw it with the curly braces in class so it resembles scratch as closely as possible as an aside too some of you who have programmed before you might be cringing now because you really like your curly brace to be over here instead of here that too is a stylistic choice and we'll talk too about this in the class aesthetically stylistically there's certain decisions we can make but generally in a class. In a company you as a student or an employee would simply standardize on one set of rules so to speak so we'll use these rules for formatting our code in class consistently all right any questions on this snippet of a code all right a couple of others then so here is how in scratch we might have a two way fork in the road if a is less than a say a is less than a else say a is not less than a in a it's going to look pretty much the same but notice i'm adding an else. Else keyword here with another set of curly braces i'm going to have a couple of more print depths but in a even though it's clearly keyboard based it's just text no more puzzle pieces it's kind of the same shape so to speak and it's definitely the same idea so it's following a pattern what about a three way fork in the road if a is less than a then say a is less than a else if a is greater than a say a is greater than a else if a equals a then say a is equal. Well you can probably see where this is going on the right hand side it looks almost the same in fact if i add in the print it's really almost the same at least logically but there is one at least one curiosity seemingly a typo but it's not this time yeah yeah the double equal signs does not match scratch but it's not in fact a bug or a mistake in a anyone have an intuition for why i did use the same code. To use two equal signs instead of one here yeah well otherwise it would be mistaken for a variable specifically assignment of a variable so recall that in previous code when we used the get string function we used an equal sign to assign from right to left the value of a variable and that's a reasonable decision equal kind of means that the two should ultimately be equal even though you think about it from going right to left. The authors of a kind of patent themselves into a corner and presumably decades ago when they realized of shoot we've already used a single equal sign how do we represent equality of two values the answer they came up with was all right we'll just use two instead and thus was born this decision is it the best one who knows crazy enough in other languages like javascript you have not just one but two but also three equal signs in a row to solve yet another problem so reasonable people will disagree as to how good or bad these decisions are but in a it's. This is what you must do but there's a bad design decision here too it's still correct the code left and right but i bet i could critique the quality of the design of both the scratch code and the a code for reasons what of no really good intuition do we have to ask this third question else if a equals a so short answer no logically right. On arithmetic either a is less than a or a is greater than a or what's the only other possible answer they must be equal logically so technically you're just kind of wasting the computers time by asking this question because it already knows at that point the answer and you're wasting your time as the programmer bothering to type out more code or more puzzle pieces than you need because logically one stems from the other so i can tighten this up get rid of the else if just use an else and i can do the same thing over here. Thereby avoiding the double equal sign altogether but not because it's wrong but because you're wasting time because now you're potentially asking only two questions two boolean expressions instead of 50 more by asking a total of three questions at most other questions then on this kind of code logically or otherwise all right so if we have these puzzle pieces so to speak at our disposal how can we go about actually using. Using these well suppose that we actually want to do something with values let's introduce variables in a as well we saw an example using a string a moment ago but what about with something like integers well you might not have used this in scratch but here's the orange puzzle piece in scratch via which you can create a variable called counter to count things and you can set it equal to some value like 0 now you can perhaps guess where we're going with this if i want in a a variable called counter and i want to set it equal to 0 i use a single equal sign because logically. You read it from right to left or technically it's executed from right to left but that's not enough in a what's missing from the screen i need a what so we need a data type and if it's going to be an integer indeed i'm going to use int and now the other mistake i keep making is so a semicolon at the end of the line so it's a little more verbose than some languages but if you read it left to right this is how you tell a to give you a variable called counter of type int and initialize it to a value of 0. That's all all right how about in scratch if you want to change that variable by 1 by adding 1 to it in scratch it's super simple you just change it by 1 or even negative 1 if you want to go up or down respectively in a it turns out you have a few different ways to do this and this looks like it's not mathematically possible but that's because equals is assignment recall so this line of code is not saying that counter equals counter plus 1 because that's just not possible using typical numbers. But this means take counters value add 1 to it and assign it back to the counter variable so it's like incrementing counter in this way but this is such a common thing in a and in programming to increase or decrease the values of variables there's a more succinct syntax this is identical and it might take a little practice to get used to it but it just saves you some keystrokes but it similarly adds 1 or whatever number you use there and this is such a common operation in a especially that there's an even tighter way. Of executing the same idea and you can literally just say counter plus plus and then semicolon in this case all three are exactly the same all three are perfectly correct but you'll learn over time that typing less on the screen is probably going to save you some time meanwhile if we wanted to do the opposite and do something like minus 1 in scratch we could similarly do minus minus in a or we could do minus minus in a here at right all right so just some additional bit. Building blocks translating from scratch to a why don't we go ahead and try using this perhaps in the following way let me go ahead and go back to is code and let me propose that we do something like this in is code i'm going to go ahead and clear my terminal window i'm going to close hello a by just clicking the a i'm going to go ahead and create a new file called compare a because the purpose in life of this program is going to be to compare integers on the screen. I'm going to preemptively include cs50 a i'm going to preemptively include standard to hand here too is a very common mistake in learning a it is not studio a so when you email us asking why studio his not working that is not the word it is standard to a meaning standard input and output stuff involving the screen and the keyboard then i'm going to go ahead and just as before int main void but we'll come back to that eventually as to what it means. Now inside of main which is just where the main part of my program goes again you can think of this as being analogous to when green flag clicked this just kicks everything off i'm going to go ahead and do two things i'm going to go ahead and get an integer called a and i'm going to prompt the user for that int and just say something like what's a then i'm going to do int a equals get int quote unquote what's a and then let's just do something simple like if a is less than. Than a then go ahead and print out quote unquote a is less than a backslash a close quote semicolon so it's not a very deep program it's just going to do what most any human brain could do pretty quickly but it's at least demonstrating how we might use now something like a conditional encode so let me go ahead and compile this code for the first time make compare enter nothing bad happens which is good dot slash compare is how i. Run the program and just to tease this apart dot as we'll soon see essentially means that the file is in your current folder so dot means in your current folder and we'll eventually see that dot dot means your parent folder like the one that contains wherever i am on my computers hard drive all right dot slash compare what's a one two for a and hopefully it should say that a is less than a so pretty straightforward proof by example and hopefully this would work in other cases too but if i flip that around. And i rerun it compare and i do 2 and 1 nothings going to happen but you would expect that because there's only one boolean expression deciding whether or not i should actually type this out so what's going on well if this helps you you might find it useful to think about the logic of any program be it in scratch or a as kind of a flow chart of sorts and we'll put up a few of these over time just in case you're a particularly visual thinker and this represents what it is i just did so here in this picture. Is where the program starts conceptually and any time you see a diamond think of that as a boolean expression a question that's being asked and the question being asked is is a less than a that has two possible answers true or false yes or no respectively so let me propose per the arrow that if the answer is true then print out per this rectangle a is less than a just quote unquote and then stop that's it for the program but logically if a is not less than a that is that questions answer is false we'll just skip right to the end. And stop so this is a control flow diagram it's just a pictorial way that you could write on a piece of paper that just represents what it is the program is doing and this gets a little more interesting if now we do something else with the code for instance instead of just concluding that it's less than a less than one or the other let's go back to the code here let me clear my terminal window and let me add an else so else go ahead and print out a. I don't think i want to say this greater than a it's not quite right what would be reasonable to say here yeah subtle but a is not less than a because it could be equal we don't know if we're only checking two scenarios here so if i recompile this make compare dot slash compare now if i do 1 2 i still get the same answer if i rerun dot slash compare 2 1 i now. Get the opposite answer it's not as good as might be ideal it'd be nice to know if it's equal to or greater than but at least that's all of the code that we have here and just to now paint a picture if i go back to my control flow diagram my flow chart here this is what it looked like before logically now that i've added in a second branch so to speak now if the answer is false i first print out a is not less than a and then i stop the program so same idea. Decision tree if you will if you've taken x10 or the like is getting a little bit bigger now conceptually all right what if we do something more than this let's actually have that third condition let me go back into my code here i'm going to hide the terminal window just to make room for more code and i'm going to say else if a is greater than a then go ahead and say not a is not less than a but rather a is greater than a and then down here i'll do an else if a equals equals a. And i can go ahead and say print a is equal to a backslash a close quote all right so now if i run it let me open my terminal window again let me rerun make compare let me rerun dot slash compare 1 and 2 are the same let me rerun it 2 and 1 are the same let me rerun it a third time 1 and 1 are now in fact equal so this works correctly but why did i make a point of use. Using these else ifs put another way couldn't i just make my life a little simpler and just say if this then that if this then that if this then that just ask all three questions keep the code simple don't bother with these else is would this work for me yeah yeah so it saves a little bit of time because in this case just like in english this is like asking three separate answers. Questions and it's not harnessing any information from previous questions in order to decide whether you should bother asking that other question in other words if a is less than a and you already figured that out because it's 1 and 2 respectively you're going to print this why would you waste time asking this question when it's not going to be true why would you waste time asking this question when it's not going to be true and so the point i wanted to make here which is that if we visualize that particular design what the flowchart looks like is actually this. And let me zoom in at the top if you ask the question is a less than a well you're going to go ahead and say a less than a then if you go down to the next question you're still going to ask is a greater than a and then below that you're still going to ask is a equal equal to a so no matter what a and a are you're asking one two three questions all of the time but if we actually go in and do what we did the first time where if i go back to my code and i undo this edit and add back the else ifs. Now let me go back to the flow chart which i claim is bad because it's one two three questions one or two of which might not be necessary now if i visualize what i just did the flow chart gets a little more complicated looking but it's going to be better designed more efficient why well because if i start at the top here i ask one question is a less than a if the answer is true of i say a less than a and then boom i sort of cheat and go all the way to the end of the program and stop having asked only one question. A is not less than you fine i'll ask you a second question but if the answer is true boom i print out a is greater than a and then i stop and only in a perverse case where a actually equals a which i'm going to claim is very unlikely or infrequent only then am i going to ask one two three questions to figure out whether or not to print something at all so this is what we mean by distinguished mean to mean correctness of code because it's still correct but this version is better designed. Because hopefully you're going to go down this branch or this branch rather than the longest one frequently any questions now about this code or this visualization thereof yeah a perfect segue why did i bother though even asking this question don't need to because when i hit this button hopefully i have the right slide in place this would be even better than that design. So thank you for teeing that up this is the same picture it sort of got bigger because there's fewer nodes fewer shapes in the picture notice that if a less than a boom we say as much and we stop if a is not less than a but it's greater than a boom we stop or if it's not greater than we immediately conclude a indeed is equal to a and again we stop so this picture is about as efficient and as well designed as we can make our logic that's about as good as we can solve this problem. Back to my code now to make my a code match that the only thing i need to do is stop wasting the computers time don't ask that third question just logically mathematically conclude that of course it's going to be equal at that point in the story all right any other questions on that sorry a little louder really good question. Put in something that's not a number so here too is where the cs50 library and the implementation of get int will be your friend so for instance if i run compare and i want to compare cats and dogs i could type in cats enter it's just going to prompt me again and again it's not going to let me type in dogs either it's going to force me to give it an integer a does not do that by default and in fact as we'll soon see over the course of cs50 a is actually a very dangerous language at the end of the day because it just trusts that the human is doing what. And as such a lot of today is software that is hacked in some ways if it's using a or another language called care actually very vulnerable to certain types of hacking whereas other languages that we'll get to in the class are less so for reasons like this all right so besides this let's consider just one other data type how about so besides strings besides chars there's some others on this list here sorry besides strings besides integers there's this other string. Data type here in a known as a char for a single character so here let me just tease this apart a string is indeed a string of text it is zero or more characters together a char is always precisely one character not all languages bother distinguishing between a single character and a string of characters but in a a string is typically multiple characters but technically it would be zero coincidentally it could be one but it's capable of being more but a char is literally as the word. That implies a single character all right given that notice that in the cs50 library besides get string besides get int we also have get char so another handy function for just getting a single character from the user now why would it be useful to get a single character from the user well what if you're just doing something that you and i do pretty frequently when you install new software or fill out some form you agree to some form of terms and conditions so in fact let me go back over to is code here and let me propose that i create a new program called agree a. Akin to asking for the users agreement so in is code i'm going to type code agree a and i'm going to do some quick boilerplate so include cs50 a include standard to hint main void and then inside of main which is like the green flag clicked i'm going to do this go ahead and get a character from the user and ask them something simple like do you agree expecting a yes no response but at the beginning of this line i need to put the return value. So i'm going to put it in a variable called a and in programming if you're just getting a single value it's of sometimes to use a and a or a when you're using larger programs you'll benefit from using actual words like answer like we did from the get go but a has to be a specific type so i'm going to literally say char and then i'm going to finish my thought with a semicolon and here's now how i could check if the user agrees or not i could do something like this if the value of a equals 0. Equals quote unquote lowercase a then go ahead and print out agreed backslash a else if the variable a has a value equal to lowercase a let's go ahead and print out say not agreed as though i'm agreeing or not to some terms and conditions but notice these are not typos what did i do ever so subtly different from last time i used text yeah single quotes. Instead of double quotes so here's the heuristic when using strings which are generally multiple characters have to use double quotes when using a single character you should use single quotes around the single character so let me go ahead now and make agree nothing went wrong which is good agree enter and let me go ahead and type in a for yes it seems to work let me run it again agree a for no and it seems to work and just if i type in something random like question mark i don't know it doesn't crash it just ignores me. Had two boolean expressions there but notice that it's actually a little buggy arguably let me run it again agree enter how about capital a because my caps lock is down it just ignores me let me do it again agree capital a because my caps lock is down it just ignores me but this should make sense because i'm literally checking for a lowercase so how could i fix this how could i fix this without just changing lowercase. Case to upper case because that would then break it in the other direction yeah yeah let's just add another branch here so to speak so if variable a equals equals capital a then i can go ahead here and say print agreed and then let me close my terminal to make more room otherwise down here else if a equals equals capital a let's go ahead and again say print. Not agreed and i claim that this would actually now work it's four way fork in the road but i'm at least checking for lowercase uppercase lowercase uppercase for a and a respectively i claim that this is correct but this too even if you've never programmed before should start today to rub you the wrong way like we can do better this isn't the best design why might that be yeah. A clever so could we change the variable a to just be forced to uppercase or maybe forced to lowercase no matter what the human types we just do that ourselves so that way we can just simplify this again to two possible scenarios i love that but we haven't seen any functions yet in a that would let me change things to uppercase or lowercase so we'll get there but a good instinct and correct other thoughts so we could use or in some sense like a logical or like what i don't like about this to be clear. Clear is that it's repeating itself and there's this principle in programming and in life in general don't repeat yourself unnecessarily and by that i mean i literally have the same line 10 as 14 i have the same line 18 as 22 and if anything one i literally wasted twice as much time as i needed to put another way per our discussion of scratch what if i go in and just change something like i want to be more excited agreed well i might forget to change it in the other place and let's just claim for today is purposes that that looks. It's a bug because i want them to be consistent so don't invite situations where you might change something in one place but not another just only write it in one place total so i like this idea of bring things together so let me go ahead and delete what i just did and just to be clear too while this is on the screen when you highlight code in is code based on how we've configured it these dots just show you how much i've indented because in a stylistically the convention is generally to indent four spaces and maybe four more spaces. Dots just help you count without having to manually eyeball things yourself but let me delete those lines let me delete these lines and this is going to look a little weird but the way you can or two thoughts together so to speak like or them together is you don't say or but you use two vertical bars which syntactically means the english word or and you can just ask the other question if a equals quote unquote capital a and then down here i can say or a equals. Equals capital a so it adds a little more code to each of those lines but it doesn't add redundancy because i've not duplicated my print i've not added more curly braces unnecessarily now as an aside the opposite of or logically is the word and just so you've seen it i could do this ampersand ampersand in a is how you express that the thing on the left must be true and the thing on the right must be true but why would this make no sense in this context of line 8. Yeah at least to my knowledge a character can't be both lowercase and uppercase that just makes no logical sense so indeed or is what we want in this case other questions a good question via cs50 his there a way to compare strings short answer no but a is going to give us that capability and in fact next week among the things we'll do is actually compare strings. You've programmed before you'll see and see that it actually doesn't work the way that you might expect but that's a problem too that we will solve but that transcends cs50 that's a question for a other questions on this kind of logic just to make this real then like any time you like click one of those class or like terms and conditions on a form in a piece of software like odds are there is code as simple as this underneath the hood maybe it's graphical maybe it's checking for you clicking this button or maybe hitting the enter key. Is presumably some kind of conditional checking for those kinds of outputs all right how about another building block from last time which we'll now translate to a namely loops things that happen again and again and these two are everywhere in code so in scratch here's how we might meow three times super simple in a it's going to look a little weird but you will get used to this over time if you've never programmed before looks like a mouthful of but let's tease it apart line by line and you'll see that you won't have that reality. Frequently because it's all going to start to look very similar to itself but what are we doing here in a you don't have the luxury of these cute and fun puzzle pieces they just kind of do the work for you repeat three times in fact in a and programming in general sometimes the work is on us to actually figure out of how can i use functions variables conditionals and loops and implement some idea like repetition like looping and in a here's how this might work how can i go about doing something like are pitch. Printing meow three times well i know about variables now we're about to see loops and i've seen how i can update variables by pausing or misusing some value to them let's combine those ideas so first i'm doing what with this highlighted line in english if a friend cared to ask you what is this line of code doing later today what would you say good it's creating a variable called counter and setting it equal to 3. New jargon i'm defining a variable would be the term of our called counter and setting it equal to 3 so i'll use my hand to represent the counter and that's all variable is it's like storage in some case that i'm representing information using my hand in this case or the computers memory here now what happens when using a loop in a there's different types of loops one of which is called a for loop one of which is called a while loop spoiler a while loop works like this inside of parentheses is a boolean expression just like inside of a conditional that asks. The question but this time the question is going to determine do you keep going through the loop again and again and again so it's not a one time thing potentially it is checked again and again and again to decide when it is time to stop looping to stop cycling all right so it's asking this question first is counter greater than 0 of obviously the answer is true because i'm still holding up three fingers so what happens a goes inside of the curly braces per the indentation and executes print of meow. Which prints out a meow on the screen the next line of code executes which recall is the same as just subtracting one from counter so i think i take down one finger so i'm left with two and what happens next well this you just kind of have to memorize once you get to the end of the inside of a loop you go back to the beginning of a loop here and ask the same question the same boolean expression so it's two greater than zero of obviously so so you go into it you print a meow you go into it and decrement counter. Or further by one so now my hand is holding up one now we wrap back around to the boolean expression is one greater than zero obviously we print out a third meow we then decrement counter again and my hand goes to zero we go back around once more is zero greater than zero no and now the program just terminates or if there were more code here it would just jump outside of the curly braces and keep going lower on the screen so that's all that's happening and so this is what it has the luxury of doing with this. Pictures but at it someone probably essentially wrote code that looks like this to give us the illusion the abstraction of this so what we're learning today is sort of how they invented these puzzle pieces by just using lower level plumbing if you will like this here yeah a really good question what would happen if you created the variable inside of the curly braces short answer it just wouldn't work in this case. A because if i were to try with my slide here for instance to move this line of code here down inside of this for instance now the very top line is trying to use counter before it even exists soc is very literal it reads top to bottom left to right and if it hasn't seen you define or create a variable yet you're going to get some scary error message on the screen instead other questions on this here code. So if we want to then maybe tighten this up a bit let me propose that we could do this instead so besides this version of the code let me just do something more canonical more conventional so you're totally fine with using a variable like counter it's what scratch uses by default it's very verbose it does what it says frankly once you get comfy with programming like most typical programmers whenever they have a single integer in a program whose sole purpose in life is to count they'll just use i for integer just like i used a for character when you have larger programs you don't want to start. Using a and a and a and a and a and of and so forth three variables because nothings going to make any sense but when you're doing something super simple like counting with an integer using a short named variable is totally stylistically reasonable but i can tighten this up further not just renaming counter to i what else can i do if you recall over here sure of for loop yes that was my spoiler but while in a while loop i can tighten this up slightly more. Over here yeah instead of i equals i minus 1 i can actually tighten this up this way and we didn't see the minus before but it's the same idea i minus equals 1 or even more succinctly i minus minus so when you get comfortable with programming any of these approaches are correct this would be more conventional at this point so if you want to write code like most other people write code adopt ultimately these kinds of conventions all right so that just does the exact same thing. But let's now put this into practice let me go back to is code here let me go ahead and clear my terminal and close agree a from before and let me go ahead and create a file called meow so code meow a and let me do this the sort of wrong way let me include standard i of doth at the top int main void thereafter inside of there let me do print meow and then you know what i don't want to keep typing that let me just go ahead and copy paste two more times. So i claim this is correct make meow dot slash meow done i've got code that prints meow three times but this again should already rub you the wrong way why yeah because what because i have duplication i mean i literally copied and pasted and that's kind of a good rule of thumb if you in the future start finding yourself copying and pasting code within the same program you're probably doing something wrong there's a better way to design it even if it's correct. So this is clearly a candidate for a loop so let me go ahead and actually do that let me just go ahead and remove all of this duplication let me give myself a variable called i set it equal to 3 let me go ahead and give myself a while loop and check that i is greater than 0 inside of this loop let me print out just meow once but i'll reuse that code again and again because here i'm going to do i minus minus so that's the exact same code the tight version of it that we saw a moment ago. Go ahead and make meow again meow and it still works why is this version better because if you want the cat to meow five times you change it in one place if you want to make the cat a dog you change the meow to a woof in one place albeit changing the file name eventually but changing it in one place not worrying about changing it again and again and again but there are other ways to do this for instance let me propose that. And actually let's see let me propose that instead of just doing it this way just to be clear yeah let's go ahead and propose that instead of doing this we can actually count in different directions i'm kind of forcing this idea of starting at 3 going down to 0 but when normal humans in this room if you ever count something you probably do 1 2 3 and done that's how we would count in the real world well we can do that too here code wise we could initialize i to 1 we could check that i is less than or equal to 0. To 3 and we've not seen this syntax before but there's no easy way on a typical keyboard to type a less than or equal sign like in a match book so we use two characters a less than sign and then an equal sign back to back and that means less than or equal to and this is the same idea so long as i plus plus i inside of it because that all start at 1 then 2 but it won't stop then it will go up to until i is equal to 3 once i becomes 4 then that boolean expression isn't going to be true. After three meows total but there's another way too and this is probably the most conventional in the way you should do it even though it's just as correct in is if you've seen already last week we almost always start counting from zero why like just because so we're not wasting a pattern of bits so generally when you start writing code that counts you should quote unquote almost always start at zero count up two but not through the total you care about so you don't get one extra by accident and so this would be the best way. The most conventional way of doing what we just described but they're all correct you can make an argument that all of them are equally good this is what most people quote unquote would do of other questions on this here syntax or logic no all right how about we got some cookies on the horizon but before we get there let me out a few more times if we may so how about doing a little bit differently. Versus the while loop and i think we heard it over here turns out there's another type of loop all together so this one here and this one if you can believe it is probably even more conventional than the other way and this is going to be thematic in programming like there's rarely one way one right way to do things you're going to have bunches of different tools in your toolkit and your code might look different from someone else is because each of you tends to reach for a different tool in that toolkit and here's another tool and as you proposed earlier a for loop a for loop is just another way. Of achieving the exact same idea using slightly different syntax and it's appealing frankly in general because it's a little more succinct it just saves some keystrokes even though you have to memorize the order in which it works this code is identical to this code here functionally but aesthetically of course it looks different how does it work in a for loop notice that in the parentheses is not a single simple boolean expression there are three things. For a semicolon is a place to initialize a variable to do your counting typically second is the boolean expression so it's still there it's just surrounded on the left and the right by two other things lastly is the update what do you want to do at the end of every loop through this block of code so you can probably imagine where we're going with this how does this work the first thing that happens is that a variable called i is defined and initialized to the value of 0 that happens once and only once then we check the condition is 0 less than 3. Obviously yes so now we don't do the plus plus yet we go into the loop and this is where the for loops a little confusing at first we print out meow then what happens there's no more lines so we go back to the for loop and we increment i at that point so now i is 1 then we check the condition i is less than 3 yes because 1 is less than 3 we go back into the loop and print meow now we go back to the plus plus so i is now 2 we check the condition 2 is less than 3 obviously so we go back into the loop and print meow. Print meow then we do the increment i is now 3 is 3 less than 3 no so we exit the loop and we're done or we keep going down here if there's more code but how many times did i say meow like 1 2 3 total when my hand was 0 1 and 2 questions on this alternative syntax it takes some getting used to but most people would write loops using a for loop i would say. Yes if you really want to be cool and save syntax yes it is correct and common to eliminate the curly braces if you only have one line of code therein we in class will always put the curly braces there because this is the kind of thing where if you get forgetful you go in later and add a second line like darn it you forgot the curly braces things will not work as expected so in general use the curly braces but you do not have to strictly other questions. Yes can't it be used without what of could you do it without the condition yes there are very fancy things you can do that we won't focus on today but yes if you want to get rid of the condition you could get rid of this here and that would actually make the loop go forever which may be a good thing if it's like a clock that you want to tick forever but often not a good thing in code good question though all right. And beyond that let's just go ahead and put this into context just in case it helps you to think about this this is just another flowchart if you're more of a visual thinker that represents what it is this loop is now doing previously all of our arrows went from top to bottom and stopped but now there's an arrow going back up and around because of this loop this cycle so when we start this program we set i equal to 0 we then check is i less than 3 obviously it is so we print meow we increment i and then we go back to that same condition. We check the condition we print meow i plus plus go back go back now if i equals 3 3 is not less than 3 so the answer is false and we stop so again it's just another way of thinking about how the code in scratch how the code in a might alternatively work in each of these contexts but there's this one other puzzle piece in scratch recall that's not the repeat block which is for finite numbers of repetitions but forever. There is a way to do this but it's a little weird looking there's no forever keyword but you can use the while loop or as you induced in further you can actually use the for loop without a condition in the middle so here i can actually say this if i want to do something forever i want to make sure that the answer to my question the boolean expression is always true always true always true the easiest way to achieve that goal is just like literally right true there because true is true no matter what. Trick for making the loop forever go around and around as you might if you want the cat to live forever and meow incessantly or if it is a clock that you want to tick forever or the like so here for instance is how we might have a cat meow endlessly using this so called for loop instead but recall that in scratch we also had this ability to create some of our own puzzle pieces and this too is something that we're going to be able to do here in a and let me propose that we do exactly that by. Introducing the a analog of this so here for instance is in scratch our definition of a function called meow whose sole purpose in life was to just play the sound meow until it's done this is going to look a little weird at first but you'll notice some similarities with main so recall this thing i keep typing with main int main void int main void that's just the when green flag clicked equivalent for today but if you want to create your own puzzle piece or your own function in a you for now. Literally do this you say void the name of the function you want to create and then void in parentheses and technically what this means is that this function has no return value it doesn't hand you anything back like get string or get int and the void in parentheses mean it takes no inputs it's only meows you don't have to tell it how to meow it's just going to meow so no arguments so to speak this literally just prints out meow but what this does for me is it abstracts away the idea of meowing i don't know how you need to know how to use print or that you're using print. Make the cat meow i now have a function in life called meow because in scratch recall i used it like this when the green flag is clicked i could repeat three times this new custom puzzle piece but in a i could now do this in my main program i can use a for loop just like we saw a moment ago copy pasted from earlier but now i can call my own a function called meow and let me go ahead now and do this if i go over to my a code here. Back in is code let me go ahead and delete everything inside main let me go ahead and do for int i equals zero i is less than three i plus plus inside of my curly braces let me go ahead and say meow but i now need this meow function to exist because if i do make meow again notice error implicit declaration of function meow is invalid in a 99 the 1999 version of a what does that mean. It doesn't know what the meow function is and the meow function is not in cs50 a it's not in standard i of i have to create it so let me type out or really copy paste what i had on the screen a moment ago void meow meow void meow void print quote unquote meow close quote semicolon but here too let me scotch this down a bit so you can see all the code at once let me now do make meow and unfortunately i still have an error. Error if i scroll up still on line seven of meow a my compiler thinks that meow is invalid that it does not exist this too is a common mistake and as simple as this code might be in spirit where did i screw up yeah in the middle yeah i need to define the function before i use it so again a is going to take you literally. Meow on line seven you better not define it on line 11 you better define it higher up so the simplest fix is going to be just to do this let me clear my terminal let me highlight and just delete the meow function and let me just paste it up here and this will actually solve the problem make meow now works and if i do dot slash meow that too works but this isn't really the best solution because if your solution is constantly of we'll just put it up there put it up there put it up there i bet we could contrive a situation. Where one function needs to be above the other but it needs to be above the other and it's just not going to work in general and more importantly it just pushes main lower and lower and lower in your file but the whole point of your main function is like that's the entry point like that is what happens when the green flag is clicked and so just in terms of user conventions it's just useful for main to always be at the top of a file because then you can find it fast your friends can your tvs can find it quickly if it's at the top so the other solution here would be to leave. Leave meow at the bottom and leave man at the top but this is the only time if i may that copy paste is of what i've highlighted here in line 11 is what's called the functions prototype it is enough information to give you the return type the name of the function and the return value and any arguments and so if you just copy paste that one line and end it with a semicolon up there that's enough of a hint to the compiler that. Of it doesn't exist yet but it will and it will look like that that's the only time it's of to copy paste the very first line of a function you've written to the top of the file with a semicolon so that you can make the compiler happy so if i do make meow now still no errors dot slash meow and it now works but let me add one final feature coming back to scratch here and then it's time for a snack so here recall was sort of the last. Last fancy thing we did in scratch where we created not only our own custom puzzle piece but it took an input so that we didn't need to keep using the loop ourself we could just let the meow function be told how many times do you want the cats a meow so in a we don't have to make that many changes except this we change the prototype to take an argument inside of parentheses and this is the syntax for that if you want your own function in a to take one or more arguments you give the arguments a name nor whatever you want to call it. But you have to tell a what the type of that input is so it's an int a so it knows it's a number and then you can just use a in your program so instead of hard coding typing manually the number 3 i'm just using a here so this is equivalent to what i did with scratch by just dragging and dropping then variable there and then meow will get printed that many times if i want to then use this notice this is the last version of the cat that we did last week you just say meow this many times so in a this. This is where now the code gets very succinct because all the main part of the program does is meow three times so this again is an abstraction i don't need to know care or remember how meow is implemented i just need to know what its return value its name and any arguments there too are so if i make this change i think we can get the cat to meow any number of times let me go back over to my a code here let me go back into the file and change void here. Here to be int a where a just means number i could use i but a tends to be a quantity instead of a counter i then inside of this function am going to do a for loop for int i gets 0 i less than a instead of 3 i plus plus and inside of here i'll paste that meow again i need to change my prototype to be identical so another copy paste or just manually edit it but now notice what's cool about main is that now i can meow maybe three times. Make meow enter dot slash meow of or if i really want to be cool i can change this to like 30 000 times go back here make meow increase the size of my terminal window for a dramatic are break flourish and there are 30 000 that was a fast cat there are 30 000 meows i think now let's go ahead and take that's a lot a 10 minute break we'll see you in 10 cookies are now served outside all right so we are back. This has been a lot so far right so there's a lot of new syntax there's a lot of translation of scratch over to a but among the goals of having spent last week in scratch and having spent problems that were zero in scratch is that none of today is ideas are really all that new it's just a lot of syntax that will get more comfortable and more in your muscle memory as time passes up until now though we focus largely on these side effects like things happening on the screen and that was akin to the speech bubble appearing. In the world of scratch but let's focus for just a bit before we then explore things we can't do very well in code return values instead in a we've seen them already like get string returns a value get int returns a value a string and an int respectively but what if we want to make our own functions that don't just meow and visually have this side effect of meowing on the screen but actually hand us back some value well i bet we can do this in a as well well let me propose that. Let me go back to is code here and let's make our very simple calculator that just adds some numbers together but the same calculator we'll soon see is going to get us into trouble if you don't understand what the computer is doing underneath the hood let me go ahead and run code of say calculator a and in here let me go ahead and give myself access to the cs50 library with cs50 a the standard to library with standard to hint main void which again we'll just take for granted. That we have to include atop any of these programs and let's just add two numbers together super simple calculator so give me a variable called a assign it the return value of get int and i'll ask the user to give us a give me another variable called a assign it the return value of get int again but this time ask the user for a and then lastly let's just go ahead and print out the value of a plus a but i don't think i can get away with something like this. This a plus a semicolon because if i do this based on what we've seen before what's actually going to get printed out literally like a plus a so i think this is where i need the of in print for formatting what i think i really want to do is print out the value of some placeholder because what do i want to substitute for percent i maybe as a second argument to print intuitively maybe just a plus a so indeed i can get away with this because it turns out in a there's. Arithmetic operators all of the ones that you might expect including addition subtraction multiplication division and even this one the so called modulo operator which generally gives us the ability to calculate a remainder when you divide one number by another but i'll keep it simple with addition and indeed with print if i want to print out the value of a plus a i can do that but i have to tell print what kind of value to expect in integer thus the percent i instead of percent a for string and i think this should do the job. So let me go back to my terminal make calculator enter all as well so far dot slash calculator and let's keep it simple one for a two for a and indeed i get three as the output it's not very dynamic it can't do a subtraction or multiplication or much more but it does at least do those kinds of calculations but let me propose now that we maybe make a reusable addition function right because addition is something i'm going to do a lot and maybe it should be abstracted away with a function just like min. Meowing was abstracted away a moment ago so let me go ahead and instead of doing this let me go ahead and give myself a function called add but instead of last time where i had a meow function i'm obviously going to call this add instead and instead of last time taking in no arguments i think i want add to work a little differently i don't want add necessarily to take an argument yet but i do want add to return some type of value and just intuitively like what type of value should. An addition function return an integer so an int so i'm going to change void which means the absence of a return value nothings coming back to literally int but i'm not going to change the thing inside parentheses yet i'm going to go ahead and copy my prototype up here and i'm going to make this change return a plus a and then here instead of printing out a plus a let's go ahead and do this let me give myself a third variable just for now a equals. Equals the return value of this brand new add function that's going to add a plus a for me and then let me print out the value of a instead of a plus a i'm outsourcing now to this add function so it will do the addition of a plus a so similar in spirit to meowing but the return values i claim are about to create an issue so let me make calculator again and there's definitely some error so here we have use of undeclared identifier a and that's on line 17. So that's pretty far down in the file so specifically my compiler does not like my use of a on line 17 but wait a minute a is clearly defined on line 8 what intuitively might explain this issue even if you've never programmed before yeah yeah because a and a are defined in the main function not in the add function so the term of a here that we're about to introduce is something called. Called scope so scope just refers to the context in which variables exist the context in which variables exist so by that i mean this on line 8 i've declared a on line 9 i've declared a but the catch is and here's where the curly braces are helpful those variables only exist in the context of the outer curly braces that are nearest to them like this so i can use a and a on lines 10 11. 12 and even up to 13 but not thereafter so i certainly can't use a down here on line 7 but this is a problem because if adds purpose in life is to add a and a but add can't access a plus a well we have an issue of scope like a and a are not in scope for this add function but that's of because remember that every function we've seen thus far can have maybe a return value or a side effect but it can also take 0 or 1 or 2 or more inputs known as arguments. Let me clear my terminal window and let me update add to not take nothing as input but maybe two integers and i'll call them arbitrarily a and a but i have to tell the compiler what type of arguments they are two integers one after the other and now what i can do is this let me change this up here to int a int a just so that the prototype is exactly the same and the only purpose of this prototype is just to avoid the previous error where the compiler didn't realize add was going to exist. Because it came later in the file so here on line 11 now if i want to add two values a and a this is now the syntax we saw syntax in scratch for passing in inputs to tell it how many times to meow so this is just telling add what two numbers to add together so now i have to change this to a plus a for reasons we'll soon see and let me see if this is right make calculator so far so good dot slash calculator let's do one. And two for a and a respectively and hopefully we should again see three now what's going on so here again if i zoom in on my add function this int here on the left on line 15 means what about add this means that it has a return value that it's an int so it's going to hand me back metaphorically a slip of paper with an answer on it that is of type integer it's not a word like my name it's a number instead these mentions of int here and here. Are inside the parentheses which means this function add takes two inputs the first is an int the second is an int and just so we have something to call them i call them a and a respectively so what happens essentially when i call the add function now on line 11 i'm kind of passing in a i'm passing in a but the add function is going to think of them as a and a respectively it could call them anything i want i could change this to the word first. And then i could literally change this to first plus second those are perfectly acceptable as argument or variable names but who really cares like a and a for such a simple function is perfectly reasonable too technically if your mind is going there i could even call them the exact same thing but let me propose for today certainly don't do that because it just confuses thing if you've got xes and yes here xes and yes here but they're clearly different just don't do that try to come up with different variables just to keep yourself sane. Here i have a function that takes now two integers a and a respectively it just returns the sum of them so that i can now store the return value of add in a variable called a and then quite simply print it out but there's one other thing i can do here now if we think about design even if you've never programmed before do i really need the variable a because i'm defining it on line 11 and then i'm quickly using it on line 12 and that's it. Sometimes you don't need variables they might make your code more readable but strictly speaking and this is just kind of like substitution in match if a is the same thing as add by well let me go ahead and just delete line 11 altogether let me get rid of mention of a you can actually get away with doing this and much like the join block in scratch where i kind of overlaid it on the say block like kind of stacking them you can stack functions in a or nest them really kind of mathematically honestly it makes it a little harder to read because your mind has to kind of dive in. Conceptually deeper and deeper into this second argument but it's perfectly acceptable too and just to connect the dots to maybe something from high school this is kind of analogous to a function in match class being like of of a where of is some function name a is some arbitrary input to that function and when you start to put functions inside of functions so that the output of 1 becomes the input to the next it's like using this syntax of of a of a and so forth if you've never seen that before don't worry but if you have it's a way to connect some of these dots. Any questions though on just this idea of now having a function that doesn't just have a side effect but instead has a return value yeah in back in our definition of main why don't i do what of a really good question that i was trying to sweep under the rug for today but in every one of our programs thus far i have indeed said int main. Void technically speaking whenever you write a program and it finishes running it actually returns a value somewhat secretly it returns the number zero by convention which means all is well and it can return any other integer if something goes wrong in fact on your mac pc or even phone if you've ever gotten a weird message on the screen something went wrong and it's a weird numeric code like error negative 129 or something arbitrary like that that tends to mean that some program running on your mac pc or phone had something. Go wrong with the main function and that is the number that was returned but that's more than we want to talk about today but we'll come back to this but main always returns a number by default it is 0 more on that soon all right so with that said let's actually tease apart what it is we've been using underneath the hood here a little bit by returning to is codes interface itself it turns out that all this time even though i keep alluding to mac of and windows which like 99 of us are probably running on our laptops or desktops there's actually. Other very popular operating systems in the world among which is linux so linux is a very popular operating system the thing that boots up when you first turn on a computer and it's very commonly used for servers nowadays all of cs50's own servers run some version of linux those students more comfortable sometimes run linux on their own macs or pcs even so linux is a very popular operating system and it's particularly characterized by its textual interface. It's command line interface even though it also comes with graphical ones as well so again this term we started today with a graphical user interface is a thing with menus and buttons it's literally what you and i use every day on our devices otherwise known as a guy but today onward you'll get more comfortable with and more practice with this terminal window down here which represents a command line interface or clip and just so you have a mental model of what's going on in the cloud here when you access cs50 de you are accessing this version. Of is code in the cloud a piece of software just running in a browser but that piece of software is automatically connected to your very own personal server in the cloud so to speak technically speaking it's a docker container but it means that you have your central your own mini server in the cloud that only you have access to and that can server or container is running an operating system called linux and in fact every time i've been running a command down here whether it's code or min. Make or dot slash hello or anything else i've been running commands from here in sanders theatre on a server somewhere in the cloud my own linux container or server and you'll have the same yourself this is the thing that we have are configured for you by installing the compiler and so many other pieces of software you'll soon see in the class but underneath the hood then of linux is a soon to be familiar environment that allows you to run different types of commands and those commands include things like this. This is something you'll develop muscle memory for over time but i wanted to give you a sense of some of the most popular textual commands because we're essentially about to take away muscle memory you have from a guy world and have you type out words that represent double clicking on things dragging on other things and other such commands that you and i take for granted it'll be a little painful at first in the first days or weeks but it will make you far more productive long term so that even after cs50 if you start using your programming skills and some other domain class or real world. Job you'll just be a lot faster at the keyboard and able to do more work more quickly so with that said let me go back to is code over here i'm going to go ahead and open up my file explorer over here and you'll see at left all of the files that i've created thus far in class and all of the programs that i've compiled thus far in class i also have this source one directory which you can download from the courses website which has all of today is code are written in advance so you don't have to type everything that i literally type. Are things that i've created and you'll see that in white are the a files and graded out are actually the binary files the machine code that i created that i was running so you can click on any of these files in is code to open them for instance here is hello a and voila it opens in the text editor but if i try to open hello that's not going to work because that's zeros and ones and frankly the computer could show me all those zeros and ones but it's just not going to be useful and honestly it's too easy to make one. One mistake and break the whole thing so instead is code says that it can't display the text because it's binary or maybe unsupported more generally so know that you want to only click on the a files when writing a code but let me go ahead and do something else suppose that i decide that wait a minute we're nearing the end of class and we're not done yet but what if i want to change hello a to goodbye a or if i want to change meow a to woof a and turn it into a dog well let's actually do that i could go over here. And right click or control click on the file just like on a mac or pc i can find the rename option and i can do it all via the guy but you should get more comfortable using commands like these here and among the commands on this list are my for move a a a rename so for instance if i want to change meow a to be woof a instead i literally type my space the original file name space and the new file name so this is very similar to what i've already. Been doing with the code program or the make program i not only type the name of the command but also the thing that i want to code or the thing that i want to make in this case i type the thing that i want to move from old to new now if i hit enter in a moment watch on the left hand side meow a in the guy should automatically change even though i'm doing this all via the command line keyboard interface and now it becomes woof a it's not all that exciting but this is just to say that they are one and the same one is a guy. One is a clip but it's the same exact thing moreover let me go ahead and close now the guy at left the so called explorer and in my terminal window alone now i'm kind of out of my element like wait a minute what was the file i created earlier well there's other commands as well on this list is coincidentally is which lists the file in your current folder and as you might have gleaned here my for move is for list like is people like to be succinct terse and type the minimum. That's why these are all abbreviated commands instead of full words but if i go back to my terminal window and type is voila there is exactly the same contents of my server but displayed textually and there's some heuristics here in green with an asterisk is all of the programs that i made with make that are executable so the asterisk just means this is executable with dot slash meanwhile the source one directory which only i have because i downloaded in advance has a slash to indicate that it's a full version. Instead of a file but all of these white files ending in dot a we created together here today now what if i really am embarrassed by my very first program hello dot a well i can very destructively go and use the pm command for remove and pm hello dot a is going to prompt me a little cryptically remove regular file hello dot a and amazingly this pm program has code just like we wrote earlier for a program. Agree a where i can type a to delete it i can type a not to delete it but let's delete it let's go ahead and hit a enter nothing seems to happen but in general that's a good thing but if i type is again notice what is now missing and in fact the list is a little shorter so it's one line instead of two hello a is now gone now if you do that there are not easy ways to get the file back so don't do that unless you really want to but there are backups maintained of these files as well. Well what else is there too well there's all of these other commands and you'll experience them over time like up is copy media is make directory radio is remove directory and for instance let me just show you one folder if i type is there's that source one folder that i claimed i downloaded in advance if you want to see what's there you can type cd for change directory source one enter and voila notice that your prompt has now changed and let me clear the screen. Of where you are you can see before the dollar sign now the name of the folder that you're inside of so in mac or windows you'd see obviously a graphical folder here you just see a little textual reminder of where you now are and if i type is you'll see that i wrote a crazy number of files before class and each of these represents different versions of the files that we've been coding here in real time that i usually have printouts of just to go through things in series so you have copies online as well so in short all of these commands if you've never used them before they will soon become like muscle memory. The most basic of operations but there will be other commands that we'll see over time that do even much more than that but let's go ahead now and solve some actual problems and it's no coincidence that we keep showing or alluding to super mario brothers in some form an older game from the nintendo entertainment system that allows you ultimately to have this two dimensional world where mario moves up and down and side scrolls from left to right but you'll see we can distil even some aspects of mario into some fairly representative programming problem. And in fact let me propose that we consider this screen from the original super mario brothers so there's these four bricks blocks in the sky each with a question mark and if you click on one of the if you jump if mario jumps up underneath each of these question marks he gets like a coin or something else that pops out let's distil this though into its essence and consider in a how can we make not a blue sky yet not a green grassy hill and so forth but how can we just make four question marks in a row because i dare say that we do have. Have the building blocks via which to do this well the simplest way might be to go over here and run code of mario a and then in mario a let's include some standard to a so we have print let's do int main void as we keep doing and inside of main let's keep it super simple 1 2 3 4 backslash a doesn't get much simpler than that this is not going to be the prettiest of games but if i make mario now dot slash mario i get my four question marks. In the sky all right so it's not all that interesting but this is clearly a candidate for what type of programming feature not to scratch though scratch would make it more interesting yeah so some kind of loop right so print the thing out iteratively instead so let me do that instead of just printing this out all at once let me go ahead and remove this and do 4 int i gets 0 i less than 4 i plus plus and then in here let me go ahead and print out just one question mark instead. And now let's run this so make mario to recompile it dot slash mario and does anyone not want me to hit enter yet why yeah it's going to print out a new line every time so notice it's four question marks but they're on each on its own line all right well let me fix this it's obviously because of the backslash a so let me remove that let me rerun make mario dot slash mario and it's better in one way but worse in another. So wait but now the dollar sign is doing that thing where it's on the same line which just looks stupid if nothing else so how can i fix that yeah yeah so logically we don't have that many building blocks today it's a lot of new syntax but it's not that many new ideas let's just use print to print out literally one and only one of these backslash ends but outside of the loop so it happens after all four of those have been printed all right let me do make mario again. Of now we're back in business so sort of silly syntactical details but if you reduce the problem to its essence it should hopefully logically become clear over time all right well how about not just something that but vertical well we've done something vertical already and so i can imagine we could change the program to very simply print out three bricks instead of four question marks but what if we consider a two dimensional world and later on in this game if you go underground everything looks like this with lots of bricks and let me propose for the sake of discussion that this. This big wall here is like a 3 by 3 grid of bricks so it's not just a single brick it's like 3 by 3 or 9 total now things get interesting and let me go back to mario a i could kind of take the easy road out and just say all right well let's print out or print about 123 backslash a close quote and then of let me just copy paste and i'm using hashes instead of the actual bricks but aesthetically it's pretty close let me now go ahead. Make mario again dot slash mario and it doesn't quite look like a square but that's just because the hashes are a little taller than the by but it is correct but not well designed so here too what would be better designed than just hard coding typing literally all of these hashes yeah interesting two loops and why two loops instead of one. Of it's the right instinct so one for vertical one for horizontal and even though these predate most of us like old school typewriters you might know or might recall that if you feed a piece of paper into it you can sort of print like line then it scrolls line then it scrolls line then it scrolls this is kind of how the terminal window works too you can print rows and columns but you have to print one row at a time one row at a time one row at a time it's not easy but it is possible to go backwards and sort of go up and down but just going row. By row by row is more typical so how can i do this well i could use at least one and maybe even indeed two loops and this is where we're just now composing different ideas from today and even last week so let me go ahead and say for int i gets 0 i less than 3 for 3 by 3 grid i plus plus and now let me cheat slightly let me print out just three of these here and that's it so i'm kind of cheating i'm printing out rows dynamically but i'm still printing for three. Three columns all in one breath but let's see what happens make mario dot slash mario and it does work but what if you said no i want four by four or five by five or six by six now i have to change the three to a six and i have to add another three hashes here things get messy if we don't do this mathematically so let me now do this instead why don't i go ahead and print out every row at a time but for each row let me use another loop to decide like rat attach. From left to right how many do i want to print so to do this i could do another for loop i could call this variable something different a is pretty common we start at i we go to a if you go past a maybe a you're probably doing something wrong you don't want nested nested nested loops but 2 is of a equals 0 a is less than 3 a and then here i can print out a single one of these and no new line i don't want to screw up like i did before so i'll just do 1. Let me go ahead and do make mario now dot slash mario but when i hit enter this is not correct yet what's it going to look like a single line of nine hashes i think because i never used a single backslash a so that looks wrong so between what line number should i insert a print of backslash a let me look a little farther back if i can how about over here yeah between 10 and 11. So i'm going to go in here i'm going to add print quote unquote backslash a semicolon let me go back and recompile mario dot slash mario and crossing fingers voila perfect i printed out now a three by three now it's correct it's not if we want to be really nit picky maybe still not the best design where am i perhaps repeating myself yeah yeah i mean it's not a huge deal but now i have two people would call these magic things. Magic in the sense that like where did that come from you just randomly put it in the middle of your code and you also put the same thing here now i have to make sure i don't screw up and make one change but not the other so it turns out we can factor these out i can actually do something like this int a equals 3 and then i can just change this to a and this to a which is marginally better because now i only have to change a in one place if i want to make this thing bigger or smaller it's still going to work the same so make mario dot slash mario there's our 3 by 3 but if i want to make a 5 by 3. Let me change the end to five rerun make mario dot slash mario and now it's a bigger grid five by five but this is a little fragile and it turns out there's another trick we should introduce it turns out that a supports what are called constants whereby if you have a variable that you want to exist because it's useful but you don't want to accidentally change it or if you're working with a partner in class or a colleague at work you don't want your partner or colleague to accidentally change that value with their own code you can go into your code and you can do that. Code and tells a this is actually a constant integer a cost so to speak and this will just prevent you or someone else from doing something stupid by accidentally changing it elsewhere the code is still going to work the same dot slash mario but you won't be accidentally able to change it very easily to something else and honestly what we've now done too is set ourselves up to make this more dynamic let me go up here let me add the cs50 library so that we have access to get its because now we could do something. Fancy like ask the get in function for the size of this brick wall and then we can use a dynamically so for instance let me increase the size of my terminal make mario dot slash mario size 3 gives me a 3 by 3 dot slash mario size 5 gives me a 5 by 5 dot slash mario how about 50 gives me a crazy big one but it's all dynamic and now i don't have to even change the code it just now works as an aside if you're wondering. How i type so darn fast sometimes it's just because i'm hitting the up arrow it turns out that linux will remember if you configure it this way all of your previous commands so if you hit up up up i can go through the past couple of hours of commands that i've typed which is useful sometimes not for hours of commands but the past few just to save yourself some keystrokes and another trick in a terminal window is to do this if i do dot slash a a and i get bored and i don't want to type out a i of i can also just hit tab. Complete based on the characters that do match so those kinds of tricks too will save you time over time but let's do this it's kind of broken arguably if i do this how about cat all right well that works that prevents me from doing something stupid because get in only accepts integers but it will accept 0 which does nothing it will accept negative 1 which does nothing and that's not bad it's not doing something weird. To catch that and force the user to give us a positive integer instead so we at least see something on the screen so let me go back into my code and let me propose that now that we have the cs50 library why don't we do something like this i'm going to change this i'm going to get rid of the constant just in case the user needs to type it again and what if i do this while a is less than 1 so if it's 0 negative 1 negative 2 or whatever let's go ahead and again ask the user for an int and ask them for the size again. Only once a is not less than 1 will this loop break out and will proceed with the rest of the code so now let me try this make mario dot slash mario 0 didn't like that negative 1 didn't like that negative 2 didn't like that 3 it did like that so using a loop now i can sort of ensure that the human is providing me with input that i actually want so this is correct but i dare say 6 through 10 could. Done better why is this poorly designed instinctively yeah what's the repetition to be clear what lines six and nine of so they're literally the same and that's generally not a good thing and maybe i could change this one to remind the user hey that's not a positive number so you might want to customize the message but just having copy paste here for the most part is not a good thing so it turns out and there's just one feature of a we wanted to introduce you to today. It turns out there's one other way that would actually help us eliminate this redundancy of using get in twice and particularly asking literally the same question size twice in duplicate so i'm actually going to go into my code here and i'm going to delete the loop as we've written it thus far and instead of using a while loop i'm going to introduce instead something that we typically call a do while loop which is a little bit different indeed we begin with the keyword do and then inside of the curly braces what i'm going to do here is that thing i might want to do once. And more times thereafter so for instance i'm going to say a equals get underscore int quote unquote size and then at the bottom of this block of code then i'm going to use the keyword while as well as parentheses as always for a boolean expression and here i'm going to ask the question do this while a is less than 1 but there's one fix i still need to do here because notice on the current line 8 i actually haven't given a a type i haven't declared a yet. But it would not be correct to declare a here inside of that do block but why might that be why would it not be a good thing to declare a inside of these curly braces yeah so recall that this is an issue of scope recall that the scope of a variable is generally confined to the most recently opened curly braces in which that variable is declared and so if i declare this variable on line 8 i'm not going to be able to use it on line 10 but there is a fix even though it. Might look a little strange i'm going to go above my do block here and before i go into this loop i'm actually going to declare a to be an integer but semicolon end of thought i'm not going to bother giving it a value because i know logically i'm going to end up giving it a value anyway now on line 9 and so what's different about this version of the code is that the do while loop ensures that we prompt the user for input at least once and then while that input is not what we expect for instance less than 1. It's going to execute again again again and indeed the semantics are just that do the following while this boolean expression is true so if i go ahead now and rerun make mario compile is of dot slash mario and now i'll go ahead and input something that's not correct like 0 but i'm prompted again i'll input something like negative 1 and i'm prompted again but if i go ahead and input for instance 10 now because that's a positive integer i indeed get a 10 by 10. 10 grid of bricks and there's one other thing we should introduce here too in c2 a supports comments and a couple of you have asked about this if you come from other programming languages suppose i want to remember what it is i just did with this program let me go in between lines five and six here and do slash slash prompt user for positive integer this is what's known as a comment and it's graded out only in the sense that the compiler is not going to care about this the computer is not going to care about this this is a note to self like a sticky note. In the context of scratch and it starts with slash slash which essentially tells the compiler ignore this this is for the human not for the computer but this comment so to speak is a way of just reminding yourself reminding your colleague reminding your of what it is a few lines of code are meant to do and now this comment might be print and how about a by a grid of bricks and what's nice about comments is that theoretically you can get away with or someone else can get away with just reading this comment. And then not even have to look at the rest of the code they can look at this comment and not have to look at the rest of the code because you've described for them what it's meant to do yeah sure correct the hash sign in python is a comment is not the same thing in a in a hash include means to include the library is header files in that way other questions on these here tricks. No all right so as promised what is maybe a not actually good at well let me propose that we consider what's actually inside of your computer at the end of the day whether it's a mac pc iphone android phone or some other computer device there's something that looks like this and this is memory otherwise known as ram or random access memory for reasons we'll get to in a few weeks but this is where data is stored this is where hello world is stored this is where 1 and 2 and all of those numbers are stored. Data in your program is stored ultimately in the computers memory and the most important takeaway for today is that all of us only have a finite amount of memory in our devices you might have a high end device which has a lot of memory but it's still finite which means you can only count so high with that device you can only store so many files with that device there are fundamental physical limitations even though mathematically theoretically we should be able to count toward infinity so what are the implications for this well consider this. In the world of numbers as per week zero if you're only using three digits and i've graded out the fourth one just to make the point if you're only using three digits we can count from zero to one in decimal to two to three to four to five to six to seven and as soon as you count to eight you technically per last week need a fourth bit but if you don't have it the number seven might seem to be followed by what number instead zero. The sort of number overflows so to speak you carry the one but if there's no place to put the one because there's no fourth light bulb if there's no fourth transistor if there's no fourth bit the lower bits the zeros are going to be mistaken for the number you and i know is zero so integer overflow is a thing in computers whereby if you don't have enough memory if you count high enough the number will wrap around back to zero or sometimes it will wrap around to a negative number depending on whether the code supports negative and positive numbers and zero. So that has some very real world implications in terms of your overflow that's sort of a fundamental limitation of how numbers are typically stored now thankfully we typically don't store things based on number of digits but number of bits and a bit is just a zero or one and recall from last week that a common unit of measure is minimally 8 bits or a byte but even more commonly is 32 so for instance here are 32 bits all zeros and if you do out the match this is the number you and i know in decimal as of course zero but if i change all 32 bits. Zeros to ones this is a really big number now if we're only using positive numbers not negatives what number roughly is this 32 ones it's roughly four billion in total roughly four billion in total why well if you've got 32 bits each can be two possible values zero or one that's two to the 30 second power which is roughly i'll stipulate 30 four roughly four billion total the problem is what if you want to count to four billion and one. That's a bit of a white lie it's not precisely that but what if you want to count just higher than that you need a 33rd bit because all of the others are going to go to 0 at that point and you might count from 1 to 2 to 3 to 4 billion back to 0 or worse if you're dealing with negative numbers too so the fact that there are as finitely many bits used in computers is a problem and negative numbers do add a complexity because this is specifically the 4 billion in question 4 294 968 294. That is as high as you can count with 32 bits if you don't bother with negatives but if you want negative numbers you've got to have that because you've got to save half of them for negative half of them for positive give or take and so if you're supporting negative numbers as you probably should for a calculator for microsoft excel google spreadsheets you can only count as high up as 2 billion roughly or negative 2 billion roughly instead so it turns out that when you are using data types in a you have something. Control over how many bits are actually used and this list is longer than we've covered today but we did talk about integers for a while those are by convention nowadays 32 bits if that's not enough you can upgrade your variables to longs which tend to be 64 bits instead which isn't just twice as big as an integer it's actually 64 bits which is exponentially more it's an unpronounceable number at least for me that's a crazy big number but it's available to you moreover we can see this. If we actually are a little reckless with how we're using code and just so you know too though there are functions even in cs50's library that let you use these larger values geelong of course will get you a long and this ones a little non obvious but percent i is the format code for print just so you know for printing a long integer and not just an integer so it's two characters instead of one suppose though we actually want to use code involving some large numbers it turns out that certain bad things can happen so let me go ahead and do that. I'm going to go back over to is code here and i'm going to modify my calculator to do something that at glance should be perfectly reasonable let me go ahead and open up calculator a as before and where we left off we had this add function and you know what i'm going to simplify it back to its very original version i'm going to go ahead and get rid of the add function and just distil it to its essence which is not to add anymore but let's just do division i want to print out this time maybe a divided by a so here we go a divided by a is a nice simple program in my calculator. You make calculator again dot slash calculator and let's divide something like 1 divided by 3 which should hmm of weird it gave me 0 instead of probably 0 333333 as you might have expected for 1 third so what might the takeaway there be why am i seeing 0 perhaps yeah yeah so 0 is an integer and indeed that's what i'm saying. I'm telling the thing to print and in fact if we go over to my little cheat sheet here of format codes i'm currently using percent i i should actually when i do division of numbers that might have floating point values a decimal point that floats left to right otherwise known as a real number i want to use percent of for float instead so i'm actually going to go back to my code here and let's try this percent of instead of percent i and let me go ahead and make calculator huh all right well this didn't work then format specifies type double. Argument has type int all right so that too is not quite working so i think i actually need to make a change here further let me actually go ahead and do this it turns out that besides integers there are these things called floats and also doubles a float uses 32 bits and a double uses 64 bits and that doesn't necessarily mean you can count higher as much as it means you can have more numbers after the decimal point so if you want a more precise value you throw memory at it by using a double and 64 bits instead of a float. But we'll keep it simple and let me go ahead and do this let me just do the match using the type of variable that i should be here let me do not int but float a equals a divided by a and now let me go ahead and print out the value of a strictly speaking i don't need the variable but i'm trying to be pedantic and actually use a float explicitly this time so we see a real number all right let me go ahead and do make calculator dot slash calculator 1 divided by 3 equals. Damn now it's just showing me more zeros which clearly isn't the case well this is because of an issue that we'll generally call truncation so truncation is just a term of art that means if you take an integer and you divide it by an integer even if you get a fractional value the fraction just gets thrown away because you're only doing integer based match so if there's anything after the decimal point it just gets truncated literally discarded so what should 1 divided by 3b obviously 0 333333. Through and nausea unfortunately you throw away everything after the decimal point which leaves you still with just 0 and even though i'm seeing more 0's that's because we threw away all of the 3's that is just what happens when you use integers and do any kind of division like that but there is a solution we can actually convert or cast integers to floating point values we can tell a i know this is an integer now but go ahead and treat it as though it has a decimal point even if it's 0 0. At the end of the number so i can go into this and i can use parentheses and literally write floats in parentheses and over here for a i can literally use parentheses and convert a to a float the term of art here is type casting you're converting one type to another effectively or technically treating one type as though it's another even if it doesn't necessarily have a mathematical impact but what it means now is that a will be defined by dividing one float by another. By another so truncation will not now happen so let me do make calculator dot slash calculator and now 1 divided by 3 there it is now the mathis actually correct but my god we had to sort of jump through hoops just to get this to work so to be clear the issue we encountered was truncation if you divide an int by an int you will get an int no matter what it should be mathematically but if you instead typecast the values the variables to a floating point value or a double for that. For that matter then a float divided by a float will give you a float and preserve all of those threes but here's another catch or at least a limitation potentially with computers what if i go ahead here and do let me do this let me show you one trick here even though the syntax is a bit weird instead of printing out percent of alone let me print out percent dot maybe 5f so this is weird syntax. It's only specific to print percent 5f means show me five decimal places specifically so if i do make calculator calculator 1 3 voila i get five decimal places if i want six let's do this i'll change the code to six make calculator calculator 1 3 and now i get six threes instead all right well wouldn't it be nice to be even more precise let's give me 20 significant digits after the decimal point so make calculator. Dot slash calculator 1 divided by 3 and so your middle school teacher seems to have lied to you at this point 1 divided by 3 is apparently not 0 333333 with a line over it or just infinite number of 3's of that's not quite the right conclusion though oops why might i be seeing these weird numbers instead of just lots of 3's intuitively. Why this rounding error yeah exactly the computer only has limited memory finite memory so it just can't represent every possible number in the universe because we know from grade school there are infinitely many of those numbers so what you're essentially seeing is the closest it can actually get it's rounding to the nearest floating point value if you will and it also relates to how the numbers themselves are represented in memory underneath the hood. I can do a little better though let me zoom out and let me upgrade so to speak from 32 bits to 64 bits and use doubles instead i can still use percent of there's not a percent you don't use percent a for double let me do make calculator again dot slash calculator one three i get more threes but still some rounding it's more precise but it's not 100 accurate because that's just not going to be possible in terms of the computers memory so this is a whole other issue known as floating point imprecision which is another. Type of limitation we saw integer overflow if integers can only count so high before you sort of run out of bits and things wrap around floating point in precision means that you can't possibly represent the infinite number of real numbers that exist in the universe if you only have a finite amount of memory you would need an infinite number of bits it would seem so these are two issues that actually fundamentally can influence the correctness not only of your code but code in the real world and case in point back in my day i graduated in 1999 and a lot of the world thought the world was going. To end around then because around the time the years rolled over from 1999 to 2000 there was a lot of old software still running in the world and in fact that old software reasonably so only used two digits to represent years why memory was very expensive early on and if you could use half as much memory to store a year that was a win that saved you money that saved you memory the problem though of course is that a lot of old software from the 70s and prior was still running in 1999. And unless companies or individuals updated that software 1999 might be mistaken for the year 1900 instead of 2000 because all of the code just assumed that of course we're talking about the 1900s this codes not going to be running 50 years later but it was still in that case so people had to scramble and they essentially had to solve this by using more digits so upgrading from two to four nowadays and really since the 70s too we've used 32 bit integers to keep track of time specifically. Keeping track of the number of seconds using an integer from january 1 1970 the so called epic whereby that's just an arbitrary date early on where we just started counting time so all of the clocks in your macs pcs and phones pretty much just have a single integer that gets updated every second but it's just keeping track not of absolute time per be but how many seconds have passed since january 1 1970 just because that's the date humans chose the problem is you can only count as high as 4 billion give or take with 32 bits. And actually 2 billion give or take if you support negative numbers as well and the problem with that is that we're about to trip over the same issue again in not too long from now this is the 2038 problem because in the year 2038 on that date mark my words things could break again why because that 32 bit value is going to accidentally wrap around back to a 0 or a negative value so we're going to go through the whole darn process again now thankfully the solution as you might expect is kind of just to kick the can even. Even further down the road and use 64 bits which i think will get us another 290 million years of runway it's more than twice so it's not our problem anymore at that point but that's fundamentally going to be the solution but it will still be finite so we're just deferring to our descendants to actually deal with the issue some millions of years from now these things are still running so if that does happen here's the specific date that in 2038 all of a sudden our clocks will still think because a negative number will get subtracted. To the current epoch time so we'll think we're back in 1901 so this has had some fun and very real world implications so for instance this is the game pc man which you might have played it kind of came out around my day back in time and if you get to the 256th level this unfortunately is what happens because they didn't really expect that players would spend all this much time playing pc man apparently and they didn't really have a condition saying you win if you get to the 255th or 266th level. And so what happens here essentially is that the whole screen gets very garbled because there's an integer in the original pc man that counts to 256 but that's too big so it wraps back around to zero and it doesn't sort of know when to stop printing fruits on the screen as in this case to collect another example of this is actually from the original donkey kong game which looks something like this in my day two whereby in donkey kong there was this mathematical formula whereby the number of seconds you have to solve the game was. A function of 10 times your current level number plus the number 4 that dictated how many seconds you get so of course the higher the level you get more and more time as the level climbs unfortunately once you hit level 22 the match ends up being 10 times 22 plus 4 which gives you the number 260 and they too were using 8 bit values a single byte to represent numbers which means 260 is bigger than 250. And the way that match worked out was well 260 minus 256 if it wraps back around gave people four seconds to solve level 22 which is just impossible like mario can't even get up a couple of levels or so from where he actually was so that too was sort of a well known bug as well since that works out to be there lastly and this one is all the more real in 2015 boeing 787 was documented as having not a hardware bug but a software bug. In the following sense. Using an integer that was 32 bits and they were keeping track of time not in seconds but hundredths of seconds because if you do out the match after a 32 bit value has reached 4 billion or 2 billion one hundredths of a second the number wraps around back to zero or negative 2 billion and the implications was literally the planets power would stop and if you can believe it if you grew up with windows mac of or whatnot anyone want to conjecture what the solution was until boeing. Dated their software turn the plane off and turn it back on because that has the effect of resetting its memory and therefore all of its variables back to zero so this is ultimately to say as you dive into problem set one you're first in a you too will make quite a few mistakes when it comes to correctness you too will encounter opportunities for better design and better style in the real world there are very much these issues so even if you struggle know that for better or for worse. Very good company but some three months from now you will be in much better shape because this was week one and this is cs50. You\""
            ],
            "application/vnd.google.colaboratory.intrinsic+json": {
              "type": "string"
            }
          },
          "metadata": {},
          "execution_count": 16
        }
      ]
    },
    {
      "cell_type": "code",
      "source": [
        "outpath = str(files[0])\n",
        "outpath"
      ],
      "metadata": {
        "id": "2MURYDbTyY7A",
        "colab": {
          "base_uri": "https://localhost:8080/",
          "height": 158
        },
        "outputId": "fed04e31-e430-4040-9d9a-45f33104d953"
      },
      "execution_count": null,
      "outputs": [
        {
          "output_type": "display_data",
          "data": {
            "text/plain": [
              "<IPython.core.display.HTML object>"
            ],
            "text/html": [
              "\n",
              "  <style>\n",
              "    pre {\n",
              "        white-space: pre-wrap;\n",
              "    }\n",
              "  </style>\n",
              "  "
            ]
          },
          "metadata": {}
        },
        {
          "output_type": "error",
          "ename": "NameError",
          "evalue": "name 'files' is not defined",
          "traceback": [
            "\u001b[0;31m---------------------------------------------------------------------------\u001b[0m",
            "\u001b[0;31mNameError\u001b[0m                                 Traceback (most recent call last)",
            "\u001b[0;32m<ipython-input-11-316f4cbaf28d>\u001b[0m in \u001b[0;36m<cell line: 0>\u001b[0;34m()\u001b[0m\n\u001b[0;32m----> 1\u001b[0;31m \u001b[0moutpath\u001b[0m \u001b[0;34m=\u001b[0m \u001b[0mstr\u001b[0m\u001b[0;34m(\u001b[0m\u001b[0mfiles\u001b[0m\u001b[0;34m[\u001b[0m\u001b[0;36m0\u001b[0m\u001b[0;34m]\u001b[0m\u001b[0;34m)\u001b[0m\u001b[0;34m\u001b[0m\u001b[0;34m\u001b[0m\u001b[0m\n\u001b[0m\u001b[1;32m      2\u001b[0m \u001b[0moutpath\u001b[0m\u001b[0;34m\u001b[0m\u001b[0;34m\u001b[0m\u001b[0m\n",
            "\u001b[0;31mNameError\u001b[0m: name 'files' is not defined"
          ]
        }
      ]
    },
    {
      "cell_type": "markdown",
      "source": [
        "## export outputs from Colab\n",
        "\n",
        "- for summarization/other analytics, or printing and hanging on your wall\n",
        "- if you had transcribed multiple files, you can zip and download the exports via\n",
        "\n",
        "\n",
        "```python\n",
        "from google.colab import files\n",
        "archive_name = \"my_transcriptions.zip\"\n",
        "# zip the returned `text_output` from vid2cleantxt\n",
        "!zip -r -9 -j $archive_name $text_output\n",
        "files.download(archive_name)\n",
        "# wait for colab to download\n",
        "```\n",
        "\n",
        "\n",
        "for some examples of summarization, see the [textsum](https://github.com/pszemraj/textsum) python package, which is a utility for easily running summarization on strings/files with models such as [this one](https://huggingface.co/pszemraj/long-t5-tglobal-base-16384-book-summary)\n",
        "\n",
        "---\n",
        "\n"
      ],
      "metadata": {
        "id": "08ssiIsHLrB2"
      }
    },
    {
      "cell_type": "code",
      "source": [
        "from google.colab import files\n",
        "archive_name = \"my_transcriptions.zip\"\n",
        "# zip the returned `text_output` from vid2cleantxt\n",
        "!zip -r -9 -j $archive_name $text_output\n",
        "files.download(archive_name)"
      ],
      "metadata": {
        "colab": {
          "base_uri": "https://localhost:8080/",
          "height": 17
        },
        "id": "beX-Js4D2V-M",
        "outputId": "3448183c-2a95-4e7f-d2bb-56964c60154b"
      },
      "execution_count": null,
      "outputs": [
        {
          "output_type": "display_data",
          "data": {
            "text/plain": [
              "<IPython.core.display.HTML object>"
            ],
            "text/html": [
              "\n",
              "  <style>\n",
              "    pre {\n",
              "        white-space: pre-wrap;\n",
              "    }\n",
              "  </style>\n",
              "  "
            ]
          },
          "metadata": {}
        },
        {
          "output_type": "display_data",
          "data": {
            "text/plain": [
              "<IPython.core.display.Javascript object>"
            ],
            "application/javascript": [
              "\n",
              "    async function download(id, filename, size) {\n",
              "      if (!google.colab.kernel.accessAllowed) {\n",
              "        return;\n",
              "      }\n",
              "      const div = document.createElement('div');\n",
              "      const label = document.createElement('label');\n",
              "      label.textContent = `Downloading \"${filename}\": `;\n",
              "      div.appendChild(label);\n",
              "      const progress = document.createElement('progress');\n",
              "      progress.max = size;\n",
              "      div.appendChild(progress);\n",
              "      document.body.appendChild(div);\n",
              "\n",
              "      const buffers = [];\n",
              "      let downloaded = 0;\n",
              "\n",
              "      const channel = await google.colab.kernel.comms.open(id);\n",
              "      // Send a message to notify the kernel that we're ready.\n",
              "      channel.send({})\n",
              "\n",
              "      for await (const message of channel.messages) {\n",
              "        // Send a message to notify the kernel that we're ready.\n",
              "        channel.send({})\n",
              "        if (message.buffers) {\n",
              "          for (const buffer of message.buffers) {\n",
              "            buffers.push(buffer);\n",
              "            downloaded += buffer.byteLength;\n",
              "            progress.value = downloaded;\n",
              "          }\n",
              "        }\n",
              "      }\n",
              "      const blob = new Blob(buffers, {type: 'application/binary'});\n",
              "      const a = document.createElement('a');\n",
              "      a.href = window.URL.createObjectURL(blob);\n",
              "      a.download = filename;\n",
              "      div.appendChild(a);\n",
              "      a.click();\n",
              "      div.remove();\n",
              "    }\n",
              "  "
            ]
          },
          "metadata": {}
        },
        {
          "output_type": "display_data",
          "data": {
            "text/plain": [
              "<IPython.core.display.Javascript object>"
            ],
            "application/javascript": [
              "download(\"download_caf7549a-0c1e-4b5a-b44e-2e354cd29607\", \"my_transcriptions.zip\", 135682)"
            ]
          },
          "metadata": {}
        }
      ]
    }
  ],
  "metadata": {
    "colab": {
      "provenance": [],
      "collapsed_sections": [
        "HCNdctbvM7gn"
      ]
    },
    "kernelspec": {
      "display_name": "Python 3",
      "name": "python3"
    },
    "accelerator": "GPU",
    "widgets": {
      "application/vnd.jupyter.widget-state+json": {
        "ebeacd33f05c493aafe859effb82ded1": {
          "model_module": "@jupyter-widgets/controls",
          "model_name": "HBoxModel",
          "model_module_version": "1.5.0",
          "state": {
            "_dom_classes": [],
            "_model_module": "@jupyter-widgets/controls",
            "_model_module_version": "1.5.0",
            "_model_name": "HBoxModel",
            "_view_count": null,
            "_view_module": "@jupyter-widgets/controls",
            "_view_module_version": "1.5.0",
            "_view_name": "HBoxView",
            "box_style": "",
            "children": [
              "IPY_MODEL_dfab0447ad3d4b64addc52256681ff2b",
              "IPY_MODEL_5362eb3dda654c2d89640297908b80c8",
              "IPY_MODEL_be0a9a55c7404f7fa58a821b2373e966"
            ],
            "layout": "IPY_MODEL_8b562aaca0784db6909b174acfe95624"
          }
        },
        "dfab0447ad3d4b64addc52256681ff2b": {
          "model_module": "@jupyter-widgets/controls",
          "model_name": "HTMLModel",
          "model_module_version": "1.5.0",
          "state": {
            "_dom_classes": [],
            "_model_module": "@jupyter-widgets/controls",
            "_model_module_version": "1.5.0",
            "_model_name": "HTMLModel",
            "_view_count": null,
            "_view_module": "@jupyter-widgets/controls",
            "_view_module_version": "1.5.0",
            "_view_name": "HTMLView",
            "description": "",
            "description_tooltip": null,
            "layout": "IPY_MODEL_6bf065b40a8e499a9fd186f4bb3cea20",
            "placeholder": "​",
            "style": "IPY_MODEL_24548187316f4d2da01c93ec75d678d5",
            "value": "tokenizer_config.json: 100%"
          }
        },
        "5362eb3dda654c2d89640297908b80c8": {
          "model_module": "@jupyter-widgets/controls",
          "model_name": "FloatProgressModel",
          "model_module_version": "1.5.0",
          "state": {
            "_dom_classes": [],
            "_model_module": "@jupyter-widgets/controls",
            "_model_module_version": "1.5.0",
            "_model_name": "FloatProgressModel",
            "_view_count": null,
            "_view_module": "@jupyter-widgets/controls",
            "_view_module_version": "1.5.0",
            "_view_name": "ProgressView",
            "bar_style": "success",
            "description": "",
            "description_tooltip": null,
            "layout": "IPY_MODEL_32f0f430bd66441eae2f9c458bf7a4ab",
            "max": 49,
            "min": 0,
            "orientation": "horizontal",
            "style": "IPY_MODEL_2c13736e5784486ab54d0c5f07e76b0e",
            "value": 49
          }
        },
        "be0a9a55c7404f7fa58a821b2373e966": {
          "model_module": "@jupyter-widgets/controls",
          "model_name": "HTMLModel",
          "model_module_version": "1.5.0",
          "state": {
            "_dom_classes": [],
            "_model_module": "@jupyter-widgets/controls",
            "_model_module_version": "1.5.0",
            "_model_name": "HTMLModel",
            "_view_count": null,
            "_view_module": "@jupyter-widgets/controls",
            "_view_module_version": "1.5.0",
            "_view_name": "HTMLView",
            "description": "",
            "description_tooltip": null,
            "layout": "IPY_MODEL_2e276ddf0921466486071a5ac9ab16a2",
            "placeholder": "​",
            "style": "IPY_MODEL_6edfe41394644a308e53ac7f503780dc",
            "value": " 49.0/49.0 [00:00&lt;00:00, 4.77kB/s]"
          }
        },
        "8b562aaca0784db6909b174acfe95624": {
          "model_module": "@jupyter-widgets/base",
          "model_name": "LayoutModel",
          "model_module_version": "1.2.0",
          "state": {
            "_model_module": "@jupyter-widgets/base",
            "_model_module_version": "1.2.0",
            "_model_name": "LayoutModel",
            "_view_count": null,
            "_view_module": "@jupyter-widgets/base",
            "_view_module_version": "1.2.0",
            "_view_name": "LayoutView",
            "align_content": null,
            "align_items": null,
            "align_self": null,
            "border": null,
            "bottom": null,
            "display": null,
            "flex": null,
            "flex_flow": null,
            "grid_area": null,
            "grid_auto_columns": null,
            "grid_auto_flow": null,
            "grid_auto_rows": null,
            "grid_column": null,
            "grid_gap": null,
            "grid_row": null,
            "grid_template_areas": null,
            "grid_template_columns": null,
            "grid_template_rows": null,
            "height": null,
            "justify_content": null,
            "justify_items": null,
            "left": null,
            "margin": null,
            "max_height": null,
            "max_width": null,
            "min_height": null,
            "min_width": null,
            "object_fit": null,
            "object_position": null,
            "order": null,
            "overflow": null,
            "overflow_x": null,
            "overflow_y": null,
            "padding": null,
            "right": null,
            "top": null,
            "visibility": null,
            "width": null
          }
        },
        "6bf065b40a8e499a9fd186f4bb3cea20": {
          "model_module": "@jupyter-widgets/base",
          "model_name": "LayoutModel",
          "model_module_version": "1.2.0",
          "state": {
            "_model_module": "@jupyter-widgets/base",
            "_model_module_version": "1.2.0",
            "_model_name": "LayoutModel",
            "_view_count": null,
            "_view_module": "@jupyter-widgets/base",
            "_view_module_version": "1.2.0",
            "_view_name": "LayoutView",
            "align_content": null,
            "align_items": null,
            "align_self": null,
            "border": null,
            "bottom": null,
            "display": null,
            "flex": null,
            "flex_flow": null,
            "grid_area": null,
            "grid_auto_columns": null,
            "grid_auto_flow": null,
            "grid_auto_rows": null,
            "grid_column": null,
            "grid_gap": null,
            "grid_row": null,
            "grid_template_areas": null,
            "grid_template_columns": null,
            "grid_template_rows": null,
            "height": null,
            "justify_content": null,
            "justify_items": null,
            "left": null,
            "margin": null,
            "max_height": null,
            "max_width": null,
            "min_height": null,
            "min_width": null,
            "object_fit": null,
            "object_position": null,
            "order": null,
            "overflow": null,
            "overflow_x": null,
            "overflow_y": null,
            "padding": null,
            "right": null,
            "top": null,
            "visibility": null,
            "width": null
          }
        },
        "24548187316f4d2da01c93ec75d678d5": {
          "model_module": "@jupyter-widgets/controls",
          "model_name": "DescriptionStyleModel",
          "model_module_version": "1.5.0",
          "state": {
            "_model_module": "@jupyter-widgets/controls",
            "_model_module_version": "1.5.0",
            "_model_name": "DescriptionStyleModel",
            "_view_count": null,
            "_view_module": "@jupyter-widgets/base",
            "_view_module_version": "1.2.0",
            "_view_name": "StyleView",
            "description_width": ""
          }
        },
        "32f0f430bd66441eae2f9c458bf7a4ab": {
          "model_module": "@jupyter-widgets/base",
          "model_name": "LayoutModel",
          "model_module_version": "1.2.0",
          "state": {
            "_model_module": "@jupyter-widgets/base",
            "_model_module_version": "1.2.0",
            "_model_name": "LayoutModel",
            "_view_count": null,
            "_view_module": "@jupyter-widgets/base",
            "_view_module_version": "1.2.0",
            "_view_name": "LayoutView",
            "align_content": null,
            "align_items": null,
            "align_self": null,
            "border": null,
            "bottom": null,
            "display": null,
            "flex": null,
            "flex_flow": null,
            "grid_area": null,
            "grid_auto_columns": null,
            "grid_auto_flow": null,
            "grid_auto_rows": null,
            "grid_column": null,
            "grid_gap": null,
            "grid_row": null,
            "grid_template_areas": null,
            "grid_template_columns": null,
            "grid_template_rows": null,
            "height": null,
            "justify_content": null,
            "justify_items": null,
            "left": null,
            "margin": null,
            "max_height": null,
            "max_width": null,
            "min_height": null,
            "min_width": null,
            "object_fit": null,
            "object_position": null,
            "order": null,
            "overflow": null,
            "overflow_x": null,
            "overflow_y": null,
            "padding": null,
            "right": null,
            "top": null,
            "visibility": null,
            "width": null
          }
        },
        "2c13736e5784486ab54d0c5f07e76b0e": {
          "model_module": "@jupyter-widgets/controls",
          "model_name": "ProgressStyleModel",
          "model_module_version": "1.5.0",
          "state": {
            "_model_module": "@jupyter-widgets/controls",
            "_model_module_version": "1.5.0",
            "_model_name": "ProgressStyleModel",
            "_view_count": null,
            "_view_module": "@jupyter-widgets/base",
            "_view_module_version": "1.2.0",
            "_view_name": "StyleView",
            "bar_color": null,
            "description_width": ""
          }
        },
        "2e276ddf0921466486071a5ac9ab16a2": {
          "model_module": "@jupyter-widgets/base",
          "model_name": "LayoutModel",
          "model_module_version": "1.2.0",
          "state": {
            "_model_module": "@jupyter-widgets/base",
            "_model_module_version": "1.2.0",
            "_model_name": "LayoutModel",
            "_view_count": null,
            "_view_module": "@jupyter-widgets/base",
            "_view_module_version": "1.2.0",
            "_view_name": "LayoutView",
            "align_content": null,
            "align_items": null,
            "align_self": null,
            "border": null,
            "bottom": null,
            "display": null,
            "flex": null,
            "flex_flow": null,
            "grid_area": null,
            "grid_auto_columns": null,
            "grid_auto_flow": null,
            "grid_auto_rows": null,
            "grid_column": null,
            "grid_gap": null,
            "grid_row": null,
            "grid_template_areas": null,
            "grid_template_columns": null,
            "grid_template_rows": null,
            "height": null,
            "justify_content": null,
            "justify_items": null,
            "left": null,
            "margin": null,
            "max_height": null,
            "max_width": null,
            "min_height": null,
            "min_width": null,
            "object_fit": null,
            "object_position": null,
            "order": null,
            "overflow": null,
            "overflow_x": null,
            "overflow_y": null,
            "padding": null,
            "right": null,
            "top": null,
            "visibility": null,
            "width": null
          }
        },
        "6edfe41394644a308e53ac7f503780dc": {
          "model_module": "@jupyter-widgets/controls",
          "model_name": "DescriptionStyleModel",
          "model_module_version": "1.5.0",
          "state": {
            "_model_module": "@jupyter-widgets/controls",
            "_model_module_version": "1.5.0",
            "_model_name": "DescriptionStyleModel",
            "_view_count": null,
            "_view_module": "@jupyter-widgets/base",
            "_view_module_version": "1.2.0",
            "_view_name": "StyleView",
            "description_width": ""
          }
        },
        "48d4ffae2deb4dfaa41c75f65c3db7e1": {
          "model_module": "@jupyter-widgets/controls",
          "model_name": "HBoxModel",
          "model_module_version": "1.5.0",
          "state": {
            "_dom_classes": [],
            "_model_module": "@jupyter-widgets/controls",
            "_model_module_version": "1.5.0",
            "_model_name": "HBoxModel",
            "_view_count": null,
            "_view_module": "@jupyter-widgets/controls",
            "_view_module_version": "1.5.0",
            "_view_name": "HBoxView",
            "box_style": "",
            "children": [
              "IPY_MODEL_dec0739648d944278ba847292f5cea90",
              "IPY_MODEL_35f459e62e734ed49867f115b96311d2",
              "IPY_MODEL_9855cff770e74f6da8a8ab12d84d3a11"
            ],
            "layout": "IPY_MODEL_3e7364b9375e496890e347f72c7db57f"
          }
        },
        "dec0739648d944278ba847292f5cea90": {
          "model_module": "@jupyter-widgets/controls",
          "model_name": "HTMLModel",
          "model_module_version": "1.5.0",
          "state": {
            "_dom_classes": [],
            "_model_module": "@jupyter-widgets/controls",
            "_model_module_version": "1.5.0",
            "_model_name": "HTMLModel",
            "_view_count": null,
            "_view_module": "@jupyter-widgets/controls",
            "_view_module_version": "1.5.0",
            "_view_name": "HTMLView",
            "description": "",
            "description_tooltip": null,
            "layout": "IPY_MODEL_72785f42c5044186a538372f6e0f06b4",
            "placeholder": "​",
            "style": "IPY_MODEL_f558165ff43a4a85a14e8e485db5c318",
            "value": "vocab.txt: 100%"
          }
        },
        "35f459e62e734ed49867f115b96311d2": {
          "model_module": "@jupyter-widgets/controls",
          "model_name": "FloatProgressModel",
          "model_module_version": "1.5.0",
          "state": {
            "_dom_classes": [],
            "_model_module": "@jupyter-widgets/controls",
            "_model_module_version": "1.5.0",
            "_model_name": "FloatProgressModel",
            "_view_count": null,
            "_view_module": "@jupyter-widgets/controls",
            "_view_module_version": "1.5.0",
            "_view_name": "ProgressView",
            "bar_style": "success",
            "description": "",
            "description_tooltip": null,
            "layout": "IPY_MODEL_78d88e69b846409f94a7d1ed7ad86b30",
            "max": 213450,
            "min": 0,
            "orientation": "horizontal",
            "style": "IPY_MODEL_6c8dab75999441cd9318271507f5c2bf",
            "value": 213450
          }
        },
        "9855cff770e74f6da8a8ab12d84d3a11": {
          "model_module": "@jupyter-widgets/controls",
          "model_name": "HTMLModel",
          "model_module_version": "1.5.0",
          "state": {
            "_dom_classes": [],
            "_model_module": "@jupyter-widgets/controls",
            "_model_module_version": "1.5.0",
            "_model_name": "HTMLModel",
            "_view_count": null,
            "_view_module": "@jupyter-widgets/controls",
            "_view_module_version": "1.5.0",
            "_view_name": "HTMLView",
            "description": "",
            "description_tooltip": null,
            "layout": "IPY_MODEL_008f74e6c8a3420db9ef40d8d7b6352e",
            "placeholder": "​",
            "style": "IPY_MODEL_a8d3878402d14395951877e2f5ba6870",
            "value": " 213k/213k [00:00&lt;00:00, 13.9MB/s]"
          }
        },
        "3e7364b9375e496890e347f72c7db57f": {
          "model_module": "@jupyter-widgets/base",
          "model_name": "LayoutModel",
          "model_module_version": "1.2.0",
          "state": {
            "_model_module": "@jupyter-widgets/base",
            "_model_module_version": "1.2.0",
            "_model_name": "LayoutModel",
            "_view_count": null,
            "_view_module": "@jupyter-widgets/base",
            "_view_module_version": "1.2.0",
            "_view_name": "LayoutView",
            "align_content": null,
            "align_items": null,
            "align_self": null,
            "border": null,
            "bottom": null,
            "display": null,
            "flex": null,
            "flex_flow": null,
            "grid_area": null,
            "grid_auto_columns": null,
            "grid_auto_flow": null,
            "grid_auto_rows": null,
            "grid_column": null,
            "grid_gap": null,
            "grid_row": null,
            "grid_template_areas": null,
            "grid_template_columns": null,
            "grid_template_rows": null,
            "height": null,
            "justify_content": null,
            "justify_items": null,
            "left": null,
            "margin": null,
            "max_height": null,
            "max_width": null,
            "min_height": null,
            "min_width": null,
            "object_fit": null,
            "object_position": null,
            "order": null,
            "overflow": null,
            "overflow_x": null,
            "overflow_y": null,
            "padding": null,
            "right": null,
            "top": null,
            "visibility": null,
            "width": null
          }
        },
        "72785f42c5044186a538372f6e0f06b4": {
          "model_module": "@jupyter-widgets/base",
          "model_name": "LayoutModel",
          "model_module_version": "1.2.0",
          "state": {
            "_model_module": "@jupyter-widgets/base",
            "_model_module_version": "1.2.0",
            "_model_name": "LayoutModel",
            "_view_count": null,
            "_view_module": "@jupyter-widgets/base",
            "_view_module_version": "1.2.0",
            "_view_name": "LayoutView",
            "align_content": null,
            "align_items": null,
            "align_self": null,
            "border": null,
            "bottom": null,
            "display": null,
            "flex": null,
            "flex_flow": null,
            "grid_area": null,
            "grid_auto_columns": null,
            "grid_auto_flow": null,
            "grid_auto_rows": null,
            "grid_column": null,
            "grid_gap": null,
            "grid_row": null,
            "grid_template_areas": null,
            "grid_template_columns": null,
            "grid_template_rows": null,
            "height": null,
            "justify_content": null,
            "justify_items": null,
            "left": null,
            "margin": null,
            "max_height": null,
            "max_width": null,
            "min_height": null,
            "min_width": null,
            "object_fit": null,
            "object_position": null,
            "order": null,
            "overflow": null,
            "overflow_x": null,
            "overflow_y": null,
            "padding": null,
            "right": null,
            "top": null,
            "visibility": null,
            "width": null
          }
        },
        "f558165ff43a4a85a14e8e485db5c318": {
          "model_module": "@jupyter-widgets/controls",
          "model_name": "DescriptionStyleModel",
          "model_module_version": "1.5.0",
          "state": {
            "_model_module": "@jupyter-widgets/controls",
            "_model_module_version": "1.5.0",
            "_model_name": "DescriptionStyleModel",
            "_view_count": null,
            "_view_module": "@jupyter-widgets/base",
            "_view_module_version": "1.2.0",
            "_view_name": "StyleView",
            "description_width": ""
          }
        },
        "78d88e69b846409f94a7d1ed7ad86b30": {
          "model_module": "@jupyter-widgets/base",
          "model_name": "LayoutModel",
          "model_module_version": "1.2.0",
          "state": {
            "_model_module": "@jupyter-widgets/base",
            "_model_module_version": "1.2.0",
            "_model_name": "LayoutModel",
            "_view_count": null,
            "_view_module": "@jupyter-widgets/base",
            "_view_module_version": "1.2.0",
            "_view_name": "LayoutView",
            "align_content": null,
            "align_items": null,
            "align_self": null,
            "border": null,
            "bottom": null,
            "display": null,
            "flex": null,
            "flex_flow": null,
            "grid_area": null,
            "grid_auto_columns": null,
            "grid_auto_flow": null,
            "grid_auto_rows": null,
            "grid_column": null,
            "grid_gap": null,
            "grid_row": null,
            "grid_template_areas": null,
            "grid_template_columns": null,
            "grid_template_rows": null,
            "height": null,
            "justify_content": null,
            "justify_items": null,
            "left": null,
            "margin": null,
            "max_height": null,
            "max_width": null,
            "min_height": null,
            "min_width": null,
            "object_fit": null,
            "object_position": null,
            "order": null,
            "overflow": null,
            "overflow_x": null,
            "overflow_y": null,
            "padding": null,
            "right": null,
            "top": null,
            "visibility": null,
            "width": null
          }
        },
        "6c8dab75999441cd9318271507f5c2bf": {
          "model_module": "@jupyter-widgets/controls",
          "model_name": "ProgressStyleModel",
          "model_module_version": "1.5.0",
          "state": {
            "_model_module": "@jupyter-widgets/controls",
            "_model_module_version": "1.5.0",
            "_model_name": "ProgressStyleModel",
            "_view_count": null,
            "_view_module": "@jupyter-widgets/base",
            "_view_module_version": "1.2.0",
            "_view_name": "StyleView",
            "bar_color": null,
            "description_width": ""
          }
        },
        "008f74e6c8a3420db9ef40d8d7b6352e": {
          "model_module": "@jupyter-widgets/base",
          "model_name": "LayoutModel",
          "model_module_version": "1.2.0",
          "state": {
            "_model_module": "@jupyter-widgets/base",
            "_model_module_version": "1.2.0",
            "_model_name": "LayoutModel",
            "_view_count": null,
            "_view_module": "@jupyter-widgets/base",
            "_view_module_version": "1.2.0",
            "_view_name": "LayoutView",
            "align_content": null,
            "align_items": null,
            "align_self": null,
            "border": null,
            "bottom": null,
            "display": null,
            "flex": null,
            "flex_flow": null,
            "grid_area": null,
            "grid_auto_columns": null,
            "grid_auto_flow": null,
            "grid_auto_rows": null,
            "grid_column": null,
            "grid_gap": null,
            "grid_row": null,
            "grid_template_areas": null,
            "grid_template_columns": null,
            "grid_template_rows": null,
            "height": null,
            "justify_content": null,
            "justify_items": null,
            "left": null,
            "margin": null,
            "max_height": null,
            "max_width": null,
            "min_height": null,
            "min_width": null,
            "object_fit": null,
            "object_position": null,
            "order": null,
            "overflow": null,
            "overflow_x": null,
            "overflow_y": null,
            "padding": null,
            "right": null,
            "top": null,
            "visibility": null,
            "width": null
          }
        },
        "a8d3878402d14395951877e2f5ba6870": {
          "model_module": "@jupyter-widgets/controls",
          "model_name": "DescriptionStyleModel",
          "model_module_version": "1.5.0",
          "state": {
            "_model_module": "@jupyter-widgets/controls",
            "_model_module_version": "1.5.0",
            "_model_name": "DescriptionStyleModel",
            "_view_count": null,
            "_view_module": "@jupyter-widgets/base",
            "_view_module_version": "1.2.0",
            "_view_name": "StyleView",
            "description_width": ""
          }
        },
        "5316cf10c26d4b4bbc14e86e5a92eba2": {
          "model_module": "@jupyter-widgets/controls",
          "model_name": "HBoxModel",
          "model_module_version": "1.5.0",
          "state": {
            "_dom_classes": [],
            "_model_module": "@jupyter-widgets/controls",
            "_model_module_version": "1.5.0",
            "_model_name": "HBoxModel",
            "_view_count": null,
            "_view_module": "@jupyter-widgets/controls",
            "_view_module_version": "1.5.0",
            "_view_name": "HBoxView",
            "box_style": "",
            "children": [
              "IPY_MODEL_b05cea5b613541528f11567e19ac9e6f",
              "IPY_MODEL_0fc8a2a52dfd4ec9b2ef4ea25aab4556",
              "IPY_MODEL_96aa54e2cd5244a9a5bfc39ecb92f74e"
            ],
            "layout": "IPY_MODEL_3568f5027f864e0b9e18873ee4622413"
          }
        },
        "b05cea5b613541528f11567e19ac9e6f": {
          "model_module": "@jupyter-widgets/controls",
          "model_name": "HTMLModel",
          "model_module_version": "1.5.0",
          "state": {
            "_dom_classes": [],
            "_model_module": "@jupyter-widgets/controls",
            "_model_module_version": "1.5.0",
            "_model_name": "HTMLModel",
            "_view_count": null,
            "_view_module": "@jupyter-widgets/controls",
            "_view_module_version": "1.5.0",
            "_view_name": "HTMLView",
            "description": "",
            "description_tooltip": null,
            "layout": "IPY_MODEL_2f1116d8d3a74fe5888af70264063c6a",
            "placeholder": "​",
            "style": "IPY_MODEL_de37b1ab12d94cd2a3ac1458f8dd4a4a",
            "value": "tokenizer.json: 100%"
          }
        },
        "0fc8a2a52dfd4ec9b2ef4ea25aab4556": {
          "model_module": "@jupyter-widgets/controls",
          "model_name": "FloatProgressModel",
          "model_module_version": "1.5.0",
          "state": {
            "_dom_classes": [],
            "_model_module": "@jupyter-widgets/controls",
            "_model_module_version": "1.5.0",
            "_model_name": "FloatProgressModel",
            "_view_count": null,
            "_view_module": "@jupyter-widgets/controls",
            "_view_module_version": "1.5.0",
            "_view_name": "ProgressView",
            "bar_style": "success",
            "description": "",
            "description_tooltip": null,
            "layout": "IPY_MODEL_b199f4100859498c8466c24e019cfe2e",
            "max": 435797,
            "min": 0,
            "orientation": "horizontal",
            "style": "IPY_MODEL_dc0e55133f3945a98e7047c21064f4da",
            "value": 435797
          }
        },
        "96aa54e2cd5244a9a5bfc39ecb92f74e": {
          "model_module": "@jupyter-widgets/controls",
          "model_name": "HTMLModel",
          "model_module_version": "1.5.0",
          "state": {
            "_dom_classes": [],
            "_model_module": "@jupyter-widgets/controls",
            "_model_module_version": "1.5.0",
            "_model_name": "HTMLModel",
            "_view_count": null,
            "_view_module": "@jupyter-widgets/controls",
            "_view_module_version": "1.5.0",
            "_view_name": "HTMLView",
            "description": "",
            "description_tooltip": null,
            "layout": "IPY_MODEL_1d57f84e80374276b36c5ff8bdccf4f9",
            "placeholder": "​",
            "style": "IPY_MODEL_3fc0e7751df0478ea92ed53fcaf7c6dd",
            "value": " 436k/436k [00:00&lt;00:00, 19.1MB/s]"
          }
        },
        "3568f5027f864e0b9e18873ee4622413": {
          "model_module": "@jupyter-widgets/base",
          "model_name": "LayoutModel",
          "model_module_version": "1.2.0",
          "state": {
            "_model_module": "@jupyter-widgets/base",
            "_model_module_version": "1.2.0",
            "_model_name": "LayoutModel",
            "_view_count": null,
            "_view_module": "@jupyter-widgets/base",
            "_view_module_version": "1.2.0",
            "_view_name": "LayoutView",
            "align_content": null,
            "align_items": null,
            "align_self": null,
            "border": null,
            "bottom": null,
            "display": null,
            "flex": null,
            "flex_flow": null,
            "grid_area": null,
            "grid_auto_columns": null,
            "grid_auto_flow": null,
            "grid_auto_rows": null,
            "grid_column": null,
            "grid_gap": null,
            "grid_row": null,
            "grid_template_areas": null,
            "grid_template_columns": null,
            "grid_template_rows": null,
            "height": null,
            "justify_content": null,
            "justify_items": null,
            "left": null,
            "margin": null,
            "max_height": null,
            "max_width": null,
            "min_height": null,
            "min_width": null,
            "object_fit": null,
            "object_position": null,
            "order": null,
            "overflow": null,
            "overflow_x": null,
            "overflow_y": null,
            "padding": null,
            "right": null,
            "top": null,
            "visibility": null,
            "width": null
          }
        },
        "2f1116d8d3a74fe5888af70264063c6a": {
          "model_module": "@jupyter-widgets/base",
          "model_name": "LayoutModel",
          "model_module_version": "1.2.0",
          "state": {
            "_model_module": "@jupyter-widgets/base",
            "_model_module_version": "1.2.0",
            "_model_name": "LayoutModel",
            "_view_count": null,
            "_view_module": "@jupyter-widgets/base",
            "_view_module_version": "1.2.0",
            "_view_name": "LayoutView",
            "align_content": null,
            "align_items": null,
            "align_self": null,
            "border": null,
            "bottom": null,
            "display": null,
            "flex": null,
            "flex_flow": null,
            "grid_area": null,
            "grid_auto_columns": null,
            "grid_auto_flow": null,
            "grid_auto_rows": null,
            "grid_column": null,
            "grid_gap": null,
            "grid_row": null,
            "grid_template_areas": null,
            "grid_template_columns": null,
            "grid_template_rows": null,
            "height": null,
            "justify_content": null,
            "justify_items": null,
            "left": null,
            "margin": null,
            "max_height": null,
            "max_width": null,
            "min_height": null,
            "min_width": null,
            "object_fit": null,
            "object_position": null,
            "order": null,
            "overflow": null,
            "overflow_x": null,
            "overflow_y": null,
            "padding": null,
            "right": null,
            "top": null,
            "visibility": null,
            "width": null
          }
        },
        "de37b1ab12d94cd2a3ac1458f8dd4a4a": {
          "model_module": "@jupyter-widgets/controls",
          "model_name": "DescriptionStyleModel",
          "model_module_version": "1.5.0",
          "state": {
            "_model_module": "@jupyter-widgets/controls",
            "_model_module_version": "1.5.0",
            "_model_name": "DescriptionStyleModel",
            "_view_count": null,
            "_view_module": "@jupyter-widgets/base",
            "_view_module_version": "1.2.0",
            "_view_name": "StyleView",
            "description_width": ""
          }
        },
        "b199f4100859498c8466c24e019cfe2e": {
          "model_module": "@jupyter-widgets/base",
          "model_name": "LayoutModel",
          "model_module_version": "1.2.0",
          "state": {
            "_model_module": "@jupyter-widgets/base",
            "_model_module_version": "1.2.0",
            "_model_name": "LayoutModel",
            "_view_count": null,
            "_view_module": "@jupyter-widgets/base",
            "_view_module_version": "1.2.0",
            "_view_name": "LayoutView",
            "align_content": null,
            "align_items": null,
            "align_self": null,
            "border": null,
            "bottom": null,
            "display": null,
            "flex": null,
            "flex_flow": null,
            "grid_area": null,
            "grid_auto_columns": null,
            "grid_auto_flow": null,
            "grid_auto_rows": null,
            "grid_column": null,
            "grid_gap": null,
            "grid_row": null,
            "grid_template_areas": null,
            "grid_template_columns": null,
            "grid_template_rows": null,
            "height": null,
            "justify_content": null,
            "justify_items": null,
            "left": null,
            "margin": null,
            "max_height": null,
            "max_width": null,
            "min_height": null,
            "min_width": null,
            "object_fit": null,
            "object_position": null,
            "order": null,
            "overflow": null,
            "overflow_x": null,
            "overflow_y": null,
            "padding": null,
            "right": null,
            "top": null,
            "visibility": null,
            "width": null
          }
        },
        "dc0e55133f3945a98e7047c21064f4da": {
          "model_module": "@jupyter-widgets/controls",
          "model_name": "ProgressStyleModel",
          "model_module_version": "1.5.0",
          "state": {
            "_model_module": "@jupyter-widgets/controls",
            "_model_module_version": "1.5.0",
            "_model_name": "ProgressStyleModel",
            "_view_count": null,
            "_view_module": "@jupyter-widgets/base",
            "_view_module_version": "1.2.0",
            "_view_name": "StyleView",
            "bar_color": null,
            "description_width": ""
          }
        },
        "1d57f84e80374276b36c5ff8bdccf4f9": {
          "model_module": "@jupyter-widgets/base",
          "model_name": "LayoutModel",
          "model_module_version": "1.2.0",
          "state": {
            "_model_module": "@jupyter-widgets/base",
            "_model_module_version": "1.2.0",
            "_model_name": "LayoutModel",
            "_view_count": null,
            "_view_module": "@jupyter-widgets/base",
            "_view_module_version": "1.2.0",
            "_view_name": "LayoutView",
            "align_content": null,
            "align_items": null,
            "align_self": null,
            "border": null,
            "bottom": null,
            "display": null,
            "flex": null,
            "flex_flow": null,
            "grid_area": null,
            "grid_auto_columns": null,
            "grid_auto_flow": null,
            "grid_auto_rows": null,
            "grid_column": null,
            "grid_gap": null,
            "grid_row": null,
            "grid_template_areas": null,
            "grid_template_columns": null,
            "grid_template_rows": null,
            "height": null,
            "justify_content": null,
            "justify_items": null,
            "left": null,
            "margin": null,
            "max_height": null,
            "max_width": null,
            "min_height": null,
            "min_width": null,
            "object_fit": null,
            "object_position": null,
            "order": null,
            "overflow": null,
            "overflow_x": null,
            "overflow_y": null,
            "padding": null,
            "right": null,
            "top": null,
            "visibility": null,
            "width": null
          }
        },
        "3fc0e7751df0478ea92ed53fcaf7c6dd": {
          "model_module": "@jupyter-widgets/controls",
          "model_name": "DescriptionStyleModel",
          "model_module_version": "1.5.0",
          "state": {
            "_model_module": "@jupyter-widgets/controls",
            "_model_module_version": "1.5.0",
            "_model_name": "DescriptionStyleModel",
            "_view_count": null,
            "_view_module": "@jupyter-widgets/base",
            "_view_module_version": "1.2.0",
            "_view_name": "StyleView",
            "description_width": ""
          }
        },
        "c39312752e7c49c8a54f3ed9e5d8e88a": {
          "model_module": "@jupyter-widgets/controls",
          "model_name": "HBoxModel",
          "model_module_version": "1.5.0",
          "state": {
            "_dom_classes": [],
            "_model_module": "@jupyter-widgets/controls",
            "_model_module_version": "1.5.0",
            "_model_name": "HBoxModel",
            "_view_count": null,
            "_view_module": "@jupyter-widgets/controls",
            "_view_module_version": "1.5.0",
            "_view_name": "HBoxView",
            "box_style": "",
            "children": [
              "IPY_MODEL_90551e64a9b64582a8f48bfb284d2d15",
              "IPY_MODEL_e02e3d3d74a64cf8a180544104806bbc",
              "IPY_MODEL_80453cb3bbf340939fc527985a93d67b"
            ],
            "layout": "IPY_MODEL_eb909fccb2404af990496d9f679f7cbb"
          }
        },
        "90551e64a9b64582a8f48bfb284d2d15": {
          "model_module": "@jupyter-widgets/controls",
          "model_name": "HTMLModel",
          "model_module_version": "1.5.0",
          "state": {
            "_dom_classes": [],
            "_model_module": "@jupyter-widgets/controls",
            "_model_module_version": "1.5.0",
            "_model_name": "HTMLModel",
            "_view_count": null,
            "_view_module": "@jupyter-widgets/controls",
            "_view_module_version": "1.5.0",
            "_view_name": "HTMLView",
            "description": "",
            "description_tooltip": null,
            "layout": "IPY_MODEL_ca7b4f780ed348219169189d01042ed6",
            "placeholder": "​",
            "style": "IPY_MODEL_2559a2a7f6e749ae937f9e036490995e",
            "value": "config.json: 100%"
          }
        },
        "e02e3d3d74a64cf8a180544104806bbc": {
          "model_module": "@jupyter-widgets/controls",
          "model_name": "FloatProgressModel",
          "model_module_version": "1.5.0",
          "state": {
            "_dom_classes": [],
            "_model_module": "@jupyter-widgets/controls",
            "_model_module_version": "1.5.0",
            "_model_name": "FloatProgressModel",
            "_view_count": null,
            "_view_module": "@jupyter-widgets/controls",
            "_view_module_version": "1.5.0",
            "_view_name": "ProgressView",
            "bar_style": "success",
            "description": "",
            "description_tooltip": null,
            "layout": "IPY_MODEL_01301a3abc3a460a913da311cbf9a6ee",
            "max": 570,
            "min": 0,
            "orientation": "horizontal",
            "style": "IPY_MODEL_153b71fa6c9547899408e8cd5eb2534a",
            "value": 570
          }
        },
        "80453cb3bbf340939fc527985a93d67b": {
          "model_module": "@jupyter-widgets/controls",
          "model_name": "HTMLModel",
          "model_module_version": "1.5.0",
          "state": {
            "_dom_classes": [],
            "_model_module": "@jupyter-widgets/controls",
            "_model_module_version": "1.5.0",
            "_model_name": "HTMLModel",
            "_view_count": null,
            "_view_module": "@jupyter-widgets/controls",
            "_view_module_version": "1.5.0",
            "_view_name": "HTMLView",
            "description": "",
            "description_tooltip": null,
            "layout": "IPY_MODEL_97e5c543e3f745ac939d8e58bc7fb293",
            "placeholder": "​",
            "style": "IPY_MODEL_388515fee09744ed9de5461bb244227c",
            "value": " 570/570 [00:00&lt;00:00, 61.3kB/s]"
          }
        },
        "eb909fccb2404af990496d9f679f7cbb": {
          "model_module": "@jupyter-widgets/base",
          "model_name": "LayoutModel",
          "model_module_version": "1.2.0",
          "state": {
            "_model_module": "@jupyter-widgets/base",
            "_model_module_version": "1.2.0",
            "_model_name": "LayoutModel",
            "_view_count": null,
            "_view_module": "@jupyter-widgets/base",
            "_view_module_version": "1.2.0",
            "_view_name": "LayoutView",
            "align_content": null,
            "align_items": null,
            "align_self": null,
            "border": null,
            "bottom": null,
            "display": null,
            "flex": null,
            "flex_flow": null,
            "grid_area": null,
            "grid_auto_columns": null,
            "grid_auto_flow": null,
            "grid_auto_rows": null,
            "grid_column": null,
            "grid_gap": null,
            "grid_row": null,
            "grid_template_areas": null,
            "grid_template_columns": null,
            "grid_template_rows": null,
            "height": null,
            "justify_content": null,
            "justify_items": null,
            "left": null,
            "margin": null,
            "max_height": null,
            "max_width": null,
            "min_height": null,
            "min_width": null,
            "object_fit": null,
            "object_position": null,
            "order": null,
            "overflow": null,
            "overflow_x": null,
            "overflow_y": null,
            "padding": null,
            "right": null,
            "top": null,
            "visibility": null,
            "width": null
          }
        },
        "ca7b4f780ed348219169189d01042ed6": {
          "model_module": "@jupyter-widgets/base",
          "model_name": "LayoutModel",
          "model_module_version": "1.2.0",
          "state": {
            "_model_module": "@jupyter-widgets/base",
            "_model_module_version": "1.2.0",
            "_model_name": "LayoutModel",
            "_view_count": null,
            "_view_module": "@jupyter-widgets/base",
            "_view_module_version": "1.2.0",
            "_view_name": "LayoutView",
            "align_content": null,
            "align_items": null,
            "align_self": null,
            "border": null,
            "bottom": null,
            "display": null,
            "flex": null,
            "flex_flow": null,
            "grid_area": null,
            "grid_auto_columns": null,
            "grid_auto_flow": null,
            "grid_auto_rows": null,
            "grid_column": null,
            "grid_gap": null,
            "grid_row": null,
            "grid_template_areas": null,
            "grid_template_columns": null,
            "grid_template_rows": null,
            "height": null,
            "justify_content": null,
            "justify_items": null,
            "left": null,
            "margin": null,
            "max_height": null,
            "max_width": null,
            "min_height": null,
            "min_width": null,
            "object_fit": null,
            "object_position": null,
            "order": null,
            "overflow": null,
            "overflow_x": null,
            "overflow_y": null,
            "padding": null,
            "right": null,
            "top": null,
            "visibility": null,
            "width": null
          }
        },
        "2559a2a7f6e749ae937f9e036490995e": {
          "model_module": "@jupyter-widgets/controls",
          "model_name": "DescriptionStyleModel",
          "model_module_version": "1.5.0",
          "state": {
            "_model_module": "@jupyter-widgets/controls",
            "_model_module_version": "1.5.0",
            "_model_name": "DescriptionStyleModel",
            "_view_count": null,
            "_view_module": "@jupyter-widgets/base",
            "_view_module_version": "1.2.0",
            "_view_name": "StyleView",
            "description_width": ""
          }
        },
        "01301a3abc3a460a913da311cbf9a6ee": {
          "model_module": "@jupyter-widgets/base",
          "model_name": "LayoutModel",
          "model_module_version": "1.2.0",
          "state": {
            "_model_module": "@jupyter-widgets/base",
            "_model_module_version": "1.2.0",
            "_model_name": "LayoutModel",
            "_view_count": null,
            "_view_module": "@jupyter-widgets/base",
            "_view_module_version": "1.2.0",
            "_view_name": "LayoutView",
            "align_content": null,
            "align_items": null,
            "align_self": null,
            "border": null,
            "bottom": null,
            "display": null,
            "flex": null,
            "flex_flow": null,
            "grid_area": null,
            "grid_auto_columns": null,
            "grid_auto_flow": null,
            "grid_auto_rows": null,
            "grid_column": null,
            "grid_gap": null,
            "grid_row": null,
            "grid_template_areas": null,
            "grid_template_columns": null,
            "grid_template_rows": null,
            "height": null,
            "justify_content": null,
            "justify_items": null,
            "left": null,
            "margin": null,
            "max_height": null,
            "max_width": null,
            "min_height": null,
            "min_width": null,
            "object_fit": null,
            "object_position": null,
            "order": null,
            "overflow": null,
            "overflow_x": null,
            "overflow_y": null,
            "padding": null,
            "right": null,
            "top": null,
            "visibility": null,
            "width": null
          }
        },
        "153b71fa6c9547899408e8cd5eb2534a": {
          "model_module": "@jupyter-widgets/controls",
          "model_name": "ProgressStyleModel",
          "model_module_version": "1.5.0",
          "state": {
            "_model_module": "@jupyter-widgets/controls",
            "_model_module_version": "1.5.0",
            "_model_name": "ProgressStyleModel",
            "_view_count": null,
            "_view_module": "@jupyter-widgets/base",
            "_view_module_version": "1.2.0",
            "_view_name": "StyleView",
            "bar_color": null,
            "description_width": ""
          }
        },
        "97e5c543e3f745ac939d8e58bc7fb293": {
          "model_module": "@jupyter-widgets/base",
          "model_name": "LayoutModel",
          "model_module_version": "1.2.0",
          "state": {
            "_model_module": "@jupyter-widgets/base",
            "_model_module_version": "1.2.0",
            "_model_name": "LayoutModel",
            "_view_count": null,
            "_view_module": "@jupyter-widgets/base",
            "_view_module_version": "1.2.0",
            "_view_name": "LayoutView",
            "align_content": null,
            "align_items": null,
            "align_self": null,
            "border": null,
            "bottom": null,
            "display": null,
            "flex": null,
            "flex_flow": null,
            "grid_area": null,
            "grid_auto_columns": null,
            "grid_auto_flow": null,
            "grid_auto_rows": null,
            "grid_column": null,
            "grid_gap": null,
            "grid_row": null,
            "grid_template_areas": null,
            "grid_template_columns": null,
            "grid_template_rows": null,
            "height": null,
            "justify_content": null,
            "justify_items": null,
            "left": null,
            "margin": null,
            "max_height": null,
            "max_width": null,
            "min_height": null,
            "min_width": null,
            "object_fit": null,
            "object_position": null,
            "order": null,
            "overflow": null,
            "overflow_x": null,
            "overflow_y": null,
            "padding": null,
            "right": null,
            "top": null,
            "visibility": null,
            "width": null
          }
        },
        "388515fee09744ed9de5461bb244227c": {
          "model_module": "@jupyter-widgets/controls",
          "model_name": "DescriptionStyleModel",
          "model_module_version": "1.5.0",
          "state": {
            "_model_module": "@jupyter-widgets/controls",
            "_model_module_version": "1.5.0",
            "_model_name": "DescriptionStyleModel",
            "_view_count": null,
            "_view_module": "@jupyter-widgets/base",
            "_view_module_version": "1.2.0",
            "_view_name": "StyleView",
            "description_width": ""
          }
        },
        "270430731e7b404aa9ebffaf20aea575": {
          "model_module": "@jupyter-widgets/controls",
          "model_name": "HBoxModel",
          "model_module_version": "1.5.0",
          "state": {
            "_dom_classes": [],
            "_model_module": "@jupyter-widgets/controls",
            "_model_module_version": "1.5.0",
            "_model_name": "HBoxModel",
            "_view_count": null,
            "_view_module": "@jupyter-widgets/controls",
            "_view_module_version": "1.5.0",
            "_view_name": "HBoxView",
            "box_style": "",
            "children": [
              "IPY_MODEL_5fde2ad902f9472eb9dbe6f595ead6c5",
              "IPY_MODEL_eff5bd229cef42289374d359b0b1c866",
              "IPY_MODEL_7f5d20a5fc3c48bf84d83aa6c85d16da"
            ],
            "layout": "IPY_MODEL_17546a87552244f5830a17c87c26ef7e"
          }
        },
        "5fde2ad902f9472eb9dbe6f595ead6c5": {
          "model_module": "@jupyter-widgets/controls",
          "model_name": "HTMLModel",
          "model_module_version": "1.5.0",
          "state": {
            "_dom_classes": [],
            "_model_module": "@jupyter-widgets/controls",
            "_model_module_version": "1.5.0",
            "_model_name": "HTMLModel",
            "_view_count": null,
            "_view_module": "@jupyter-widgets/controls",
            "_view_module_version": "1.5.0",
            "_view_name": "HTMLView",
            "description": "",
            "description_tooltip": null,
            "layout": "IPY_MODEL_f91f0b168d614873b19bf86ead48ccb4",
            "placeholder": "​",
            "style": "IPY_MODEL_278280b47da54c4d8990a74f541340a0",
            "value": "transcribing...: 100%"
          }
        },
        "eff5bd229cef42289374d359b0b1c866": {
          "model_module": "@jupyter-widgets/controls",
          "model_name": "FloatProgressModel",
          "model_module_version": "1.5.0",
          "state": {
            "_dom_classes": [],
            "_model_module": "@jupyter-widgets/controls",
            "_model_module_version": "1.5.0",
            "_model_name": "FloatProgressModel",
            "_view_count": null,
            "_view_module": "@jupyter-widgets/controls",
            "_view_module_version": "1.5.0",
            "_view_name": "ProgressView",
            "bar_style": "success",
            "description": "",
            "description_tooltip": null,
            "layout": "IPY_MODEL_36c5f7411ac942ae858e4334e703fd00",
            "max": 1,
            "min": 0,
            "orientation": "horizontal",
            "style": "IPY_MODEL_cc0cea110723415ca10bc1310c9f0bed",
            "value": 1
          }
        },
        "7f5d20a5fc3c48bf84d83aa6c85d16da": {
          "model_module": "@jupyter-widgets/controls",
          "model_name": "HTMLModel",
          "model_module_version": "1.5.0",
          "state": {
            "_dom_classes": [],
            "_model_module": "@jupyter-widgets/controls",
            "_model_module_version": "1.5.0",
            "_model_name": "HTMLModel",
            "_view_count": null,
            "_view_module": "@jupyter-widgets/controls",
            "_view_module_version": "1.5.0",
            "_view_name": "HTMLView",
            "description": "",
            "description_tooltip": null,
            "layout": "IPY_MODEL_1af1709607aa47fabe235d9c153c91a7",
            "placeholder": "​",
            "style": "IPY_MODEL_196f6d35c9884b2badab04ccc78518f7",
            "value": " 1/1 [08:23&lt;00:00, 503.54s/it]"
          }
        },
        "17546a87552244f5830a17c87c26ef7e": {
          "model_module": "@jupyter-widgets/base",
          "model_name": "LayoutModel",
          "model_module_version": "1.2.0",
          "state": {
            "_model_module": "@jupyter-widgets/base",
            "_model_module_version": "1.2.0",
            "_model_name": "LayoutModel",
            "_view_count": null,
            "_view_module": "@jupyter-widgets/base",
            "_view_module_version": "1.2.0",
            "_view_name": "LayoutView",
            "align_content": null,
            "align_items": null,
            "align_self": null,
            "border": null,
            "bottom": null,
            "display": null,
            "flex": null,
            "flex_flow": null,
            "grid_area": null,
            "grid_auto_columns": null,
            "grid_auto_flow": null,
            "grid_auto_rows": null,
            "grid_column": null,
            "grid_gap": null,
            "grid_row": null,
            "grid_template_areas": null,
            "grid_template_columns": null,
            "grid_template_rows": null,
            "height": null,
            "justify_content": null,
            "justify_items": null,
            "left": null,
            "margin": null,
            "max_height": null,
            "max_width": null,
            "min_height": null,
            "min_width": null,
            "object_fit": null,
            "object_position": null,
            "order": null,
            "overflow": null,
            "overflow_x": null,
            "overflow_y": null,
            "padding": null,
            "right": null,
            "top": null,
            "visibility": null,
            "width": null
          }
        },
        "f91f0b168d614873b19bf86ead48ccb4": {
          "model_module": "@jupyter-widgets/base",
          "model_name": "LayoutModel",
          "model_module_version": "1.2.0",
          "state": {
            "_model_module": "@jupyter-widgets/base",
            "_model_module_version": "1.2.0",
            "_model_name": "LayoutModel",
            "_view_count": null,
            "_view_module": "@jupyter-widgets/base",
            "_view_module_version": "1.2.0",
            "_view_name": "LayoutView",
            "align_content": null,
            "align_items": null,
            "align_self": null,
            "border": null,
            "bottom": null,
            "display": null,
            "flex": null,
            "flex_flow": null,
            "grid_area": null,
            "grid_auto_columns": null,
            "grid_auto_flow": null,
            "grid_auto_rows": null,
            "grid_column": null,
            "grid_gap": null,
            "grid_row": null,
            "grid_template_areas": null,
            "grid_template_columns": null,
            "grid_template_rows": null,
            "height": null,
            "justify_content": null,
            "justify_items": null,
            "left": null,
            "margin": null,
            "max_height": null,
            "max_width": null,
            "min_height": null,
            "min_width": null,
            "object_fit": null,
            "object_position": null,
            "order": null,
            "overflow": null,
            "overflow_x": null,
            "overflow_y": null,
            "padding": null,
            "right": null,
            "top": null,
            "visibility": null,
            "width": null
          }
        },
        "278280b47da54c4d8990a74f541340a0": {
          "model_module": "@jupyter-widgets/controls",
          "model_name": "DescriptionStyleModel",
          "model_module_version": "1.5.0",
          "state": {
            "_model_module": "@jupyter-widgets/controls",
            "_model_module_version": "1.5.0",
            "_model_name": "DescriptionStyleModel",
            "_view_count": null,
            "_view_module": "@jupyter-widgets/base",
            "_view_module_version": "1.2.0",
            "_view_name": "StyleView",
            "description_width": ""
          }
        },
        "36c5f7411ac942ae858e4334e703fd00": {
          "model_module": "@jupyter-widgets/base",
          "model_name": "LayoutModel",
          "model_module_version": "1.2.0",
          "state": {
            "_model_module": "@jupyter-widgets/base",
            "_model_module_version": "1.2.0",
            "_model_name": "LayoutModel",
            "_view_count": null,
            "_view_module": "@jupyter-widgets/base",
            "_view_module_version": "1.2.0",
            "_view_name": "LayoutView",
            "align_content": null,
            "align_items": null,
            "align_self": null,
            "border": null,
            "bottom": null,
            "display": null,
            "flex": null,
            "flex_flow": null,
            "grid_area": null,
            "grid_auto_columns": null,
            "grid_auto_flow": null,
            "grid_auto_rows": null,
            "grid_column": null,
            "grid_gap": null,
            "grid_row": null,
            "grid_template_areas": null,
            "grid_template_columns": null,
            "grid_template_rows": null,
            "height": null,
            "justify_content": null,
            "justify_items": null,
            "left": null,
            "margin": null,
            "max_height": null,
            "max_width": null,
            "min_height": null,
            "min_width": null,
            "object_fit": null,
            "object_position": null,
            "order": null,
            "overflow": null,
            "overflow_x": null,
            "overflow_y": null,
            "padding": null,
            "right": null,
            "top": null,
            "visibility": null,
            "width": null
          }
        },
        "cc0cea110723415ca10bc1310c9f0bed": {
          "model_module": "@jupyter-widgets/controls",
          "model_name": "ProgressStyleModel",
          "model_module_version": "1.5.0",
          "state": {
            "_model_module": "@jupyter-widgets/controls",
            "_model_module_version": "1.5.0",
            "_model_name": "ProgressStyleModel",
            "_view_count": null,
            "_view_module": "@jupyter-widgets/base",
            "_view_module_version": "1.2.0",
            "_view_name": "StyleView",
            "bar_color": null,
            "description_width": ""
          }
        },
        "1af1709607aa47fabe235d9c153c91a7": {
          "model_module": "@jupyter-widgets/base",
          "model_name": "LayoutModel",
          "model_module_version": "1.2.0",
          "state": {
            "_model_module": "@jupyter-widgets/base",
            "_model_module_version": "1.2.0",
            "_model_name": "LayoutModel",
            "_view_count": null,
            "_view_module": "@jupyter-widgets/base",
            "_view_module_version": "1.2.0",
            "_view_name": "LayoutView",
            "align_content": null,
            "align_items": null,
            "align_self": null,
            "border": null,
            "bottom": null,
            "display": null,
            "flex": null,
            "flex_flow": null,
            "grid_area": null,
            "grid_auto_columns": null,
            "grid_auto_flow": null,
            "grid_auto_rows": null,
            "grid_column": null,
            "grid_gap": null,
            "grid_row": null,
            "grid_template_areas": null,
            "grid_template_columns": null,
            "grid_template_rows": null,
            "height": null,
            "justify_content": null,
            "justify_items": null,
            "left": null,
            "margin": null,
            "max_height": null,
            "max_width": null,
            "min_height": null,
            "min_width": null,
            "object_fit": null,
            "object_position": null,
            "order": null,
            "overflow": null,
            "overflow_x": null,
            "overflow_y": null,
            "padding": null,
            "right": null,
            "top": null,
            "visibility": null,
            "width": null
          }
        },
        "196f6d35c9884b2badab04ccc78518f7": {
          "model_module": "@jupyter-widgets/controls",
          "model_name": "DescriptionStyleModel",
          "model_module_version": "1.5.0",
          "state": {
            "_model_module": "@jupyter-widgets/controls",
            "_model_module_version": "1.5.0",
            "_model_name": "DescriptionStyleModel",
            "_view_count": null,
            "_view_module": "@jupyter-widgets/base",
            "_view_module_version": "1.2.0",
            "_view_name": "StyleView",
            "description_width": ""
          }
        },
        "843889d49fa4448187c4ec550212c205": {
          "model_module": "@jupyter-widgets/controls",
          "model_name": "HBoxModel",
          "model_module_version": "1.5.0",
          "state": {
            "_dom_classes": [],
            "_model_module": "@jupyter-widgets/controls",
            "_model_module_version": "1.5.0",
            "_model_name": "HBoxModel",
            "_view_count": null,
            "_view_module": "@jupyter-widgets/controls",
            "_view_module_version": "1.5.0",
            "_view_name": "HBoxView",
            "box_style": "",
            "children": [
              "IPY_MODEL_e3135c2750b04e63bc6766df5730ce84",
              "IPY_MODEL_e3f2d02058ca459c90e4be7413ff9076",
              "IPY_MODEL_e89756d91ece4221b7ab4588c27883da"
            ],
            "layout": "IPY_MODEL_63feb4ba64264f538f516d3a76a9ff62"
          }
        },
        "e3135c2750b04e63bc6766df5730ce84": {
          "model_module": "@jupyter-widgets/controls",
          "model_name": "HTMLModel",
          "model_module_version": "1.5.0",
          "state": {
            "_dom_classes": [],
            "_model_module": "@jupyter-widgets/controls",
            "_model_module_version": "1.5.0",
            "_model_name": "HTMLModel",
            "_view_count": null,
            "_view_module": "@jupyter-widgets/controls",
            "_view_module_version": "1.5.0",
            "_view_name": "HTMLView",
            "description": "",
            "description_tooltip": null,
            "layout": "IPY_MODEL_0891201a02b84a898a36d97ea35739af",
            "placeholder": "​",
            "style": "IPY_MODEL_cde3cea5194e4954bfff0833940f4b64",
            "value": "Creating .wav audio clips: 100%"
          }
        },
        "e3f2d02058ca459c90e4be7413ff9076": {
          "model_module": "@jupyter-widgets/controls",
          "model_name": "FloatProgressModel",
          "model_module_version": "1.5.0",
          "state": {
            "_dom_classes": [],
            "_model_module": "@jupyter-widgets/controls",
            "_model_module_version": "1.5.0",
            "_model_name": "FloatProgressModel",
            "_view_count": null,
            "_view_module": "@jupyter-widgets/controls",
            "_view_module_version": "1.5.0",
            "_view_name": "ProgressView",
            "bar_style": "success",
            "description": "",
            "description_tooltip": null,
            "layout": "IPY_MODEL_67f3aa817e8e484fbe0328ad0371ecb7",
            "max": 275,
            "min": 0,
            "orientation": "horizontal",
            "style": "IPY_MODEL_bd49a8dfa5154a86b4de9e9d33292ef6",
            "value": 275
          }
        },
        "e89756d91ece4221b7ab4588c27883da": {
          "model_module": "@jupyter-widgets/controls",
          "model_name": "HTMLModel",
          "model_module_version": "1.5.0",
          "state": {
            "_dom_classes": [],
            "_model_module": "@jupyter-widgets/controls",
            "_model_module_version": "1.5.0",
            "_model_name": "HTMLModel",
            "_view_count": null,
            "_view_module": "@jupyter-widgets/controls",
            "_view_module_version": "1.5.0",
            "_view_name": "HTMLView",
            "description": "",
            "description_tooltip": null,
            "layout": "IPY_MODEL_1dede5fad3a0443eaac05ba785c505cd",
            "placeholder": "​",
            "style": "IPY_MODEL_68c48f2614ad46c7b768d49bb4eebd74",
            "value": " 275/275 [00:19&lt;00:00, 10.87it/s]"
          }
        },
        "63feb4ba64264f538f516d3a76a9ff62": {
          "model_module": "@jupyter-widgets/base",
          "model_name": "LayoutModel",
          "model_module_version": "1.2.0",
          "state": {
            "_model_module": "@jupyter-widgets/base",
            "_model_module_version": "1.2.0",
            "_model_name": "LayoutModel",
            "_view_count": null,
            "_view_module": "@jupyter-widgets/base",
            "_view_module_version": "1.2.0",
            "_view_name": "LayoutView",
            "align_content": null,
            "align_items": null,
            "align_self": null,
            "border": null,
            "bottom": null,
            "display": null,
            "flex": null,
            "flex_flow": null,
            "grid_area": null,
            "grid_auto_columns": null,
            "grid_auto_flow": null,
            "grid_auto_rows": null,
            "grid_column": null,
            "grid_gap": null,
            "grid_row": null,
            "grid_template_areas": null,
            "grid_template_columns": null,
            "grid_template_rows": null,
            "height": null,
            "justify_content": null,
            "justify_items": null,
            "left": null,
            "margin": null,
            "max_height": null,
            "max_width": null,
            "min_height": null,
            "min_width": null,
            "object_fit": null,
            "object_position": null,
            "order": null,
            "overflow": null,
            "overflow_x": null,
            "overflow_y": null,
            "padding": null,
            "right": null,
            "top": null,
            "visibility": null,
            "width": null
          }
        },
        "0891201a02b84a898a36d97ea35739af": {
          "model_module": "@jupyter-widgets/base",
          "model_name": "LayoutModel",
          "model_module_version": "1.2.0",
          "state": {
            "_model_module": "@jupyter-widgets/base",
            "_model_module_version": "1.2.0",
            "_model_name": "LayoutModel",
            "_view_count": null,
            "_view_module": "@jupyter-widgets/base",
            "_view_module_version": "1.2.0",
            "_view_name": "LayoutView",
            "align_content": null,
            "align_items": null,
            "align_self": null,
            "border": null,
            "bottom": null,
            "display": null,
            "flex": null,
            "flex_flow": null,
            "grid_area": null,
            "grid_auto_columns": null,
            "grid_auto_flow": null,
            "grid_auto_rows": null,
            "grid_column": null,
            "grid_gap": null,
            "grid_row": null,
            "grid_template_areas": null,
            "grid_template_columns": null,
            "grid_template_rows": null,
            "height": null,
            "justify_content": null,
            "justify_items": null,
            "left": null,
            "margin": null,
            "max_height": null,
            "max_width": null,
            "min_height": null,
            "min_width": null,
            "object_fit": null,
            "object_position": null,
            "order": null,
            "overflow": null,
            "overflow_x": null,
            "overflow_y": null,
            "padding": null,
            "right": null,
            "top": null,
            "visibility": null,
            "width": null
          }
        },
        "cde3cea5194e4954bfff0833940f4b64": {
          "model_module": "@jupyter-widgets/controls",
          "model_name": "DescriptionStyleModel",
          "model_module_version": "1.5.0",
          "state": {
            "_model_module": "@jupyter-widgets/controls",
            "_model_module_version": "1.5.0",
            "_model_name": "DescriptionStyleModel",
            "_view_count": null,
            "_view_module": "@jupyter-widgets/base",
            "_view_module_version": "1.2.0",
            "_view_name": "StyleView",
            "description_width": ""
          }
        },
        "67f3aa817e8e484fbe0328ad0371ecb7": {
          "model_module": "@jupyter-widgets/base",
          "model_name": "LayoutModel",
          "model_module_version": "1.2.0",
          "state": {
            "_model_module": "@jupyter-widgets/base",
            "_model_module_version": "1.2.0",
            "_model_name": "LayoutModel",
            "_view_count": null,
            "_view_module": "@jupyter-widgets/base",
            "_view_module_version": "1.2.0",
            "_view_name": "LayoutView",
            "align_content": null,
            "align_items": null,
            "align_self": null,
            "border": null,
            "bottom": null,
            "display": null,
            "flex": null,
            "flex_flow": null,
            "grid_area": null,
            "grid_auto_columns": null,
            "grid_auto_flow": null,
            "grid_auto_rows": null,
            "grid_column": null,
            "grid_gap": null,
            "grid_row": null,
            "grid_template_areas": null,
            "grid_template_columns": null,
            "grid_template_rows": null,
            "height": null,
            "justify_content": null,
            "justify_items": null,
            "left": null,
            "margin": null,
            "max_height": null,
            "max_width": null,
            "min_height": null,
            "min_width": null,
            "object_fit": null,
            "object_position": null,
            "order": null,
            "overflow": null,
            "overflow_x": null,
            "overflow_y": null,
            "padding": null,
            "right": null,
            "top": null,
            "visibility": null,
            "width": null
          }
        },
        "bd49a8dfa5154a86b4de9e9d33292ef6": {
          "model_module": "@jupyter-widgets/controls",
          "model_name": "ProgressStyleModel",
          "model_module_version": "1.5.0",
          "state": {
            "_model_module": "@jupyter-widgets/controls",
            "_model_module_version": "1.5.0",
            "_model_name": "ProgressStyleModel",
            "_view_count": null,
            "_view_module": "@jupyter-widgets/base",
            "_view_module_version": "1.2.0",
            "_view_name": "StyleView",
            "bar_color": null,
            "description_width": ""
          }
        },
        "1dede5fad3a0443eaac05ba785c505cd": {
          "model_module": "@jupyter-widgets/base",
          "model_name": "LayoutModel",
          "model_module_version": "1.2.0",
          "state": {
            "_model_module": "@jupyter-widgets/base",
            "_model_module_version": "1.2.0",
            "_model_name": "LayoutModel",
            "_view_count": null,
            "_view_module": "@jupyter-widgets/base",
            "_view_module_version": "1.2.0",
            "_view_name": "LayoutView",
            "align_content": null,
            "align_items": null,
            "align_self": null,
            "border": null,
            "bottom": null,
            "display": null,
            "flex": null,
            "flex_flow": null,
            "grid_area": null,
            "grid_auto_columns": null,
            "grid_auto_flow": null,
            "grid_auto_rows": null,
            "grid_column": null,
            "grid_gap": null,
            "grid_row": null,
            "grid_template_areas": null,
            "grid_template_columns": null,
            "grid_template_rows": null,
            "height": null,
            "justify_content": null,
            "justify_items": null,
            "left": null,
            "margin": null,
            "max_height": null,
            "max_width": null,
            "min_height": null,
            "min_width": null,
            "object_fit": null,
            "object_position": null,
            "order": null,
            "overflow": null,
            "overflow_x": null,
            "overflow_y": null,
            "padding": null,
            "right": null,
            "top": null,
            "visibility": null,
            "width": null
          }
        },
        "68c48f2614ad46c7b768d49bb4eebd74": {
          "model_module": "@jupyter-widgets/controls",
          "model_name": "DescriptionStyleModel",
          "model_module_version": "1.5.0",
          "state": {
            "_model_module": "@jupyter-widgets/controls",
            "_model_module_version": "1.5.0",
            "_model_name": "DescriptionStyleModel",
            "_view_count": null,
            "_view_module": "@jupyter-widgets/base",
            "_view_module_version": "1.2.0",
            "_view_name": "StyleView",
            "description_width": ""
          }
        },
        "6fd2fc75acf84ec89d336a021acba33e": {
          "model_module": "@jupyter-widgets/controls",
          "model_name": "HBoxModel",
          "model_module_version": "1.5.0",
          "state": {
            "_dom_classes": [],
            "_model_module": "@jupyter-widgets/controls",
            "_model_module_version": "1.5.0",
            "_model_name": "HBoxModel",
            "_view_count": null,
            "_view_module": "@jupyter-widgets/controls",
            "_view_module_version": "1.5.0",
            "_view_name": "HBoxView",
            "box_style": "",
            "children": [
              "IPY_MODEL_8419be3082ae4a10b3a807b05df5ce2c",
              "IPY_MODEL_8cb146d34d5c40679b24b8363a92a6ea",
              "IPY_MODEL_0dd494d3ec9b45b6b7128b8fce9d8440"
            ],
            "layout": "IPY_MODEL_0584f114deca4307ac41c67e71762ba4"
          }
        },
        "8419be3082ae4a10b3a807b05df5ce2c": {
          "model_module": "@jupyter-widgets/controls",
          "model_name": "HTMLModel",
          "model_module_version": "1.5.0",
          "state": {
            "_dom_classes": [],
            "_model_module": "@jupyter-widgets/controls",
            "_model_module_version": "1.5.0",
            "_model_name": "HTMLModel",
            "_view_count": null,
            "_view_module": "@jupyter-widgets/controls",
            "_view_module_version": "1.5.0",
            "_view_name": "HTMLView",
            "description": "",
            "description_tooltip": null,
            "layout": "IPY_MODEL_172e3e6f4f1a49829ae9f2ad648f1ef9",
            "placeholder": "​",
            "style": "IPY_MODEL_9a87c443ec7f46a187aa5753e938585a",
            "value": "Transcribing video: 100%"
          }
        },
        "8cb146d34d5c40679b24b8363a92a6ea": {
          "model_module": "@jupyter-widgets/controls",
          "model_name": "FloatProgressModel",
          "model_module_version": "1.5.0",
          "state": {
            "_dom_classes": [],
            "_model_module": "@jupyter-widgets/controls",
            "_model_module_version": "1.5.0",
            "_model_name": "FloatProgressModel",
            "_view_count": null,
            "_view_module": "@jupyter-widgets/controls",
            "_view_module_version": "1.5.0",
            "_view_name": "ProgressView",
            "bar_style": "success",
            "description": "",
            "description_tooltip": null,
            "layout": "IPY_MODEL_56ec5e11c4364f1788bdd94ea4e97b85",
            "max": 275,
            "min": 0,
            "orientation": "horizontal",
            "style": "IPY_MODEL_63b98c376c0c4d6b82c3534595d2e807",
            "value": 275
          }
        },
        "0dd494d3ec9b45b6b7128b8fce9d8440": {
          "model_module": "@jupyter-widgets/controls",
          "model_name": "HTMLModel",
          "model_module_version": "1.5.0",
          "state": {
            "_dom_classes": [],
            "_model_module": "@jupyter-widgets/controls",
            "_model_module_version": "1.5.0",
            "_model_name": "HTMLModel",
            "_view_count": null,
            "_view_module": "@jupyter-widgets/controls",
            "_view_module_version": "1.5.0",
            "_view_name": "HTMLView",
            "description": "",
            "description_tooltip": null,
            "layout": "IPY_MODEL_4d67e49b846f4bb0bf123baa0caadcfd",
            "placeholder": "​",
            "style": "IPY_MODEL_151567619e614f34909553e3e9bef40f",
            "value": " 275/275 [07:27&lt;00:00,  1.14s/it]"
          }
        },
        "0584f114deca4307ac41c67e71762ba4": {
          "model_module": "@jupyter-widgets/base",
          "model_name": "LayoutModel",
          "model_module_version": "1.2.0",
          "state": {
            "_model_module": "@jupyter-widgets/base",
            "_model_module_version": "1.2.0",
            "_model_name": "LayoutModel",
            "_view_count": null,
            "_view_module": "@jupyter-widgets/base",
            "_view_module_version": "1.2.0",
            "_view_name": "LayoutView",
            "align_content": null,
            "align_items": null,
            "align_self": null,
            "border": null,
            "bottom": null,
            "display": null,
            "flex": null,
            "flex_flow": null,
            "grid_area": null,
            "grid_auto_columns": null,
            "grid_auto_flow": null,
            "grid_auto_rows": null,
            "grid_column": null,
            "grid_gap": null,
            "grid_row": null,
            "grid_template_areas": null,
            "grid_template_columns": null,
            "grid_template_rows": null,
            "height": null,
            "justify_content": null,
            "justify_items": null,
            "left": null,
            "margin": null,
            "max_height": null,
            "max_width": null,
            "min_height": null,
            "min_width": null,
            "object_fit": null,
            "object_position": null,
            "order": null,
            "overflow": null,
            "overflow_x": null,
            "overflow_y": null,
            "padding": null,
            "right": null,
            "top": null,
            "visibility": null,
            "width": null
          }
        },
        "172e3e6f4f1a49829ae9f2ad648f1ef9": {
          "model_module": "@jupyter-widgets/base",
          "model_name": "LayoutModel",
          "model_module_version": "1.2.0",
          "state": {
            "_model_module": "@jupyter-widgets/base",
            "_model_module_version": "1.2.0",
            "_model_name": "LayoutModel",
            "_view_count": null,
            "_view_module": "@jupyter-widgets/base",
            "_view_module_version": "1.2.0",
            "_view_name": "LayoutView",
            "align_content": null,
            "align_items": null,
            "align_self": null,
            "border": null,
            "bottom": null,
            "display": null,
            "flex": null,
            "flex_flow": null,
            "grid_area": null,
            "grid_auto_columns": null,
            "grid_auto_flow": null,
            "grid_auto_rows": null,
            "grid_column": null,
            "grid_gap": null,
            "grid_row": null,
            "grid_template_areas": null,
            "grid_template_columns": null,
            "grid_template_rows": null,
            "height": null,
            "justify_content": null,
            "justify_items": null,
            "left": null,
            "margin": null,
            "max_height": null,
            "max_width": null,
            "min_height": null,
            "min_width": null,
            "object_fit": null,
            "object_position": null,
            "order": null,
            "overflow": null,
            "overflow_x": null,
            "overflow_y": null,
            "padding": null,
            "right": null,
            "top": null,
            "visibility": null,
            "width": null
          }
        },
        "9a87c443ec7f46a187aa5753e938585a": {
          "model_module": "@jupyter-widgets/controls",
          "model_name": "DescriptionStyleModel",
          "model_module_version": "1.5.0",
          "state": {
            "_model_module": "@jupyter-widgets/controls",
            "_model_module_version": "1.5.0",
            "_model_name": "DescriptionStyleModel",
            "_view_count": null,
            "_view_module": "@jupyter-widgets/base",
            "_view_module_version": "1.2.0",
            "_view_name": "StyleView",
            "description_width": ""
          }
        },
        "56ec5e11c4364f1788bdd94ea4e97b85": {
          "model_module": "@jupyter-widgets/base",
          "model_name": "LayoutModel",
          "model_module_version": "1.2.0",
          "state": {
            "_model_module": "@jupyter-widgets/base",
            "_model_module_version": "1.2.0",
            "_model_name": "LayoutModel",
            "_view_count": null,
            "_view_module": "@jupyter-widgets/base",
            "_view_module_version": "1.2.0",
            "_view_name": "LayoutView",
            "align_content": null,
            "align_items": null,
            "align_self": null,
            "border": null,
            "bottom": null,
            "display": null,
            "flex": null,
            "flex_flow": null,
            "grid_area": null,
            "grid_auto_columns": null,
            "grid_auto_flow": null,
            "grid_auto_rows": null,
            "grid_column": null,
            "grid_gap": null,
            "grid_row": null,
            "grid_template_areas": null,
            "grid_template_columns": null,
            "grid_template_rows": null,
            "height": null,
            "justify_content": null,
            "justify_items": null,
            "left": null,
            "margin": null,
            "max_height": null,
            "max_width": null,
            "min_height": null,
            "min_width": null,
            "object_fit": null,
            "object_position": null,
            "order": null,
            "overflow": null,
            "overflow_x": null,
            "overflow_y": null,
            "padding": null,
            "right": null,
            "top": null,
            "visibility": null,
            "width": null
          }
        },
        "63b98c376c0c4d6b82c3534595d2e807": {
          "model_module": "@jupyter-widgets/controls",
          "model_name": "ProgressStyleModel",
          "model_module_version": "1.5.0",
          "state": {
            "_model_module": "@jupyter-widgets/controls",
            "_model_module_version": "1.5.0",
            "_model_name": "ProgressStyleModel",
            "_view_count": null,
            "_view_module": "@jupyter-widgets/base",
            "_view_module_version": "1.2.0",
            "_view_name": "StyleView",
            "bar_color": null,
            "description_width": ""
          }
        },
        "4d67e49b846f4bb0bf123baa0caadcfd": {
          "model_module": "@jupyter-widgets/base",
          "model_name": "LayoutModel",
          "model_module_version": "1.2.0",
          "state": {
            "_model_module": "@jupyter-widgets/base",
            "_model_module_version": "1.2.0",
            "_model_name": "LayoutModel",
            "_view_count": null,
            "_view_module": "@jupyter-widgets/base",
            "_view_module_version": "1.2.0",
            "_view_name": "LayoutView",
            "align_content": null,
            "align_items": null,
            "align_self": null,
            "border": null,
            "bottom": null,
            "display": null,
            "flex": null,
            "flex_flow": null,
            "grid_area": null,
            "grid_auto_columns": null,
            "grid_auto_flow": null,
            "grid_auto_rows": null,
            "grid_column": null,
            "grid_gap": null,
            "grid_row": null,
            "grid_template_areas": null,
            "grid_template_columns": null,
            "grid_template_rows": null,
            "height": null,
            "justify_content": null,
            "justify_items": null,
            "left": null,
            "margin": null,
            "max_height": null,
            "max_width": null,
            "min_height": null,
            "min_width": null,
            "object_fit": null,
            "object_position": null,
            "order": null,
            "overflow": null,
            "overflow_x": null,
            "overflow_y": null,
            "padding": null,
            "right": null,
            "top": null,
            "visibility": null,
            "width": null
          }
        },
        "151567619e614f34909553e3e9bef40f": {
          "model_module": "@jupyter-widgets/controls",
          "model_name": "DescriptionStyleModel",
          "model_module_version": "1.5.0",
          "state": {
            "_model_module": "@jupyter-widgets/controls",
            "_model_module_version": "1.5.0",
            "_model_name": "DescriptionStyleModel",
            "_view_count": null,
            "_view_module": "@jupyter-widgets/base",
            "_view_module_version": "1.2.0",
            "_view_name": "StyleView",
            "description_width": ""
          }
        },
        "df32ed6fe1e4406a89ea906db59f5fcc": {
          "model_module": "@jupyter-widgets/controls",
          "model_name": "HBoxModel",
          "model_module_version": "1.5.0",
          "state": {
            "_dom_classes": [],
            "_model_module": "@jupyter-widgets/controls",
            "_model_module_version": "1.5.0",
            "_model_name": "HBoxModel",
            "_view_count": null,
            "_view_module": "@jupyter-widgets/controls",
            "_view_module_version": "1.5.0",
            "_view_name": "HBoxView",
            "box_style": "",
            "children": [
              "IPY_MODEL_3a161d6cf267491ea9b1768ba15e781e",
              "IPY_MODEL_1520a0ccf4974c3c85c502a71b9493f9",
              "IPY_MODEL_865ac15a39f740199e539af20ee8cfc0"
            ],
            "layout": "IPY_MODEL_734f971bddad4ce9a873dbe96e41ffff"
          }
        },
        "3a161d6cf267491ea9b1768ba15e781e": {
          "model_module": "@jupyter-widgets/controls",
          "model_name": "HTMLModel",
          "model_module_version": "1.5.0",
          "state": {
            "_dom_classes": [],
            "_model_module": "@jupyter-widgets/controls",
            "_model_module_version": "1.5.0",
            "_model_name": "HTMLModel",
            "_view_count": null,
            "_view_module": "@jupyter-widgets/controls",
            "_view_module_version": "1.5.0",
            "_view_name": "HTMLView",
            "description": "",
            "description_tooltip": null,
            "layout": "IPY_MODEL_946a14d25e464e4286c7554619c7fe6d",
            "placeholder": "​",
            "style": "IPY_MODEL_8529987afb0f42e6a466d649c0530f78",
            "value": "SC_pipeline - transcribed audio: 100%"
          }
        },
        "1520a0ccf4974c3c85c502a71b9493f9": {
          "model_module": "@jupyter-widgets/controls",
          "model_name": "FloatProgressModel",
          "model_module_version": "1.5.0",
          "state": {
            "_dom_classes": [],
            "_model_module": "@jupyter-widgets/controls",
            "_model_module_version": "1.5.0",
            "_model_name": "FloatProgressModel",
            "_view_count": null,
            "_view_module": "@jupyter-widgets/controls",
            "_view_module_version": "1.5.0",
            "_view_name": "ProgressView",
            "bar_style": "success",
            "description": "",
            "description_tooltip": null,
            "layout": "IPY_MODEL_c2e5e09c8c764e82a5f18506212a9042",
            "max": 1,
            "min": 0,
            "orientation": "horizontal",
            "style": "IPY_MODEL_f30734ee77bf460cb37c0bce3930e5c3",
            "value": 1
          }
        },
        "865ac15a39f740199e539af20ee8cfc0": {
          "model_module": "@jupyter-widgets/controls",
          "model_name": "HTMLModel",
          "model_module_version": "1.5.0",
          "state": {
            "_dom_classes": [],
            "_model_module": "@jupyter-widgets/controls",
            "_model_module_version": "1.5.0",
            "_model_name": "HTMLModel",
            "_view_count": null,
            "_view_module": "@jupyter-widgets/controls",
            "_view_module_version": "1.5.0",
            "_view_name": "HTMLView",
            "description": "",
            "description_tooltip": null,
            "layout": "IPY_MODEL_778401bc8fbc4b7e8fb99c72b8692c01",
            "placeholder": "​",
            "style": "IPY_MODEL_d401c770d62e44bc8767a3f2a13066ab",
            "value": " 1/1 [00:16&lt;00:00, 16.62s/it]"
          }
        },
        "734f971bddad4ce9a873dbe96e41ffff": {
          "model_module": "@jupyter-widgets/base",
          "model_name": "LayoutModel",
          "model_module_version": "1.2.0",
          "state": {
            "_model_module": "@jupyter-widgets/base",
            "_model_module_version": "1.2.0",
            "_model_name": "LayoutModel",
            "_view_count": null,
            "_view_module": "@jupyter-widgets/base",
            "_view_module_version": "1.2.0",
            "_view_name": "LayoutView",
            "align_content": null,
            "align_items": null,
            "align_self": null,
            "border": null,
            "bottom": null,
            "display": null,
            "flex": null,
            "flex_flow": null,
            "grid_area": null,
            "grid_auto_columns": null,
            "grid_auto_flow": null,
            "grid_auto_rows": null,
            "grid_column": null,
            "grid_gap": null,
            "grid_row": null,
            "grid_template_areas": null,
            "grid_template_columns": null,
            "grid_template_rows": null,
            "height": null,
            "justify_content": null,
            "justify_items": null,
            "left": null,
            "margin": null,
            "max_height": null,
            "max_width": null,
            "min_height": null,
            "min_width": null,
            "object_fit": null,
            "object_position": null,
            "order": null,
            "overflow": null,
            "overflow_x": null,
            "overflow_y": null,
            "padding": null,
            "right": null,
            "top": null,
            "visibility": null,
            "width": null
          }
        },
        "946a14d25e464e4286c7554619c7fe6d": {
          "model_module": "@jupyter-widgets/base",
          "model_name": "LayoutModel",
          "model_module_version": "1.2.0",
          "state": {
            "_model_module": "@jupyter-widgets/base",
            "_model_module_version": "1.2.0",
            "_model_name": "LayoutModel",
            "_view_count": null,
            "_view_module": "@jupyter-widgets/base",
            "_view_module_version": "1.2.0",
            "_view_name": "LayoutView",
            "align_content": null,
            "align_items": null,
            "align_self": null,
            "border": null,
            "bottom": null,
            "display": null,
            "flex": null,
            "flex_flow": null,
            "grid_area": null,
            "grid_auto_columns": null,
            "grid_auto_flow": null,
            "grid_auto_rows": null,
            "grid_column": null,
            "grid_gap": null,
            "grid_row": null,
            "grid_template_areas": null,
            "grid_template_columns": null,
            "grid_template_rows": null,
            "height": null,
            "justify_content": null,
            "justify_items": null,
            "left": null,
            "margin": null,
            "max_height": null,
            "max_width": null,
            "min_height": null,
            "min_width": null,
            "object_fit": null,
            "object_position": null,
            "order": null,
            "overflow": null,
            "overflow_x": null,
            "overflow_y": null,
            "padding": null,
            "right": null,
            "top": null,
            "visibility": null,
            "width": null
          }
        },
        "8529987afb0f42e6a466d649c0530f78": {
          "model_module": "@jupyter-widgets/controls",
          "model_name": "DescriptionStyleModel",
          "model_module_version": "1.5.0",
          "state": {
            "_model_module": "@jupyter-widgets/controls",
            "_model_module_version": "1.5.0",
            "_model_name": "DescriptionStyleModel",
            "_view_count": null,
            "_view_module": "@jupyter-widgets/base",
            "_view_module_version": "1.2.0",
            "_view_name": "StyleView",
            "description_width": ""
          }
        },
        "c2e5e09c8c764e82a5f18506212a9042": {
          "model_module": "@jupyter-widgets/base",
          "model_name": "LayoutModel",
          "model_module_version": "1.2.0",
          "state": {
            "_model_module": "@jupyter-widgets/base",
            "_model_module_version": "1.2.0",
            "_model_name": "LayoutModel",
            "_view_count": null,
            "_view_module": "@jupyter-widgets/base",
            "_view_module_version": "1.2.0",
            "_view_name": "LayoutView",
            "align_content": null,
            "align_items": null,
            "align_self": null,
            "border": null,
            "bottom": null,
            "display": null,
            "flex": null,
            "flex_flow": null,
            "grid_area": null,
            "grid_auto_columns": null,
            "grid_auto_flow": null,
            "grid_auto_rows": null,
            "grid_column": null,
            "grid_gap": null,
            "grid_row": null,
            "grid_template_areas": null,
            "grid_template_columns": null,
            "grid_template_rows": null,
            "height": null,
            "justify_content": null,
            "justify_items": null,
            "left": null,
            "margin": null,
            "max_height": null,
            "max_width": null,
            "min_height": null,
            "min_width": null,
            "object_fit": null,
            "object_position": null,
            "order": null,
            "overflow": null,
            "overflow_x": null,
            "overflow_y": null,
            "padding": null,
            "right": null,
            "top": null,
            "visibility": null,
            "width": null
          }
        },
        "f30734ee77bf460cb37c0bce3930e5c3": {
          "model_module": "@jupyter-widgets/controls",
          "model_name": "ProgressStyleModel",
          "model_module_version": "1.5.0",
          "state": {
            "_model_module": "@jupyter-widgets/controls",
            "_model_module_version": "1.5.0",
            "_model_name": "ProgressStyleModel",
            "_view_count": null,
            "_view_module": "@jupyter-widgets/base",
            "_view_module_version": "1.2.0",
            "_view_name": "StyleView",
            "bar_color": null,
            "description_width": ""
          }
        },
        "778401bc8fbc4b7e8fb99c72b8692c01": {
          "model_module": "@jupyter-widgets/base",
          "model_name": "LayoutModel",
          "model_module_version": "1.2.0",
          "state": {
            "_model_module": "@jupyter-widgets/base",
            "_model_module_version": "1.2.0",
            "_model_name": "LayoutModel",
            "_view_count": null,
            "_view_module": "@jupyter-widgets/base",
            "_view_module_version": "1.2.0",
            "_view_name": "LayoutView",
            "align_content": null,
            "align_items": null,
            "align_self": null,
            "border": null,
            "bottom": null,
            "display": null,
            "flex": null,
            "flex_flow": null,
            "grid_area": null,
            "grid_auto_columns": null,
            "grid_auto_flow": null,
            "grid_auto_rows": null,
            "grid_column": null,
            "grid_gap": null,
            "grid_row": null,
            "grid_template_areas": null,
            "grid_template_columns": null,
            "grid_template_rows": null,
            "height": null,
            "justify_content": null,
            "justify_items": null,
            "left": null,
            "margin": null,
            "max_height": null,
            "max_width": null,
            "min_height": null,
            "min_width": null,
            "object_fit": null,
            "object_position": null,
            "order": null,
            "overflow": null,
            "overflow_x": null,
            "overflow_y": null,
            "padding": null,
            "right": null,
            "top": null,
            "visibility": null,
            "width": null
          }
        },
        "d401c770d62e44bc8767a3f2a13066ab": {
          "model_module": "@jupyter-widgets/controls",
          "model_name": "DescriptionStyleModel",
          "model_module_version": "1.5.0",
          "state": {
            "_model_module": "@jupyter-widgets/controls",
            "_model_module_version": "1.5.0",
            "_model_name": "DescriptionStyleModel",
            "_view_count": null,
            "_view_module": "@jupyter-widgets/base",
            "_view_module_version": "1.2.0",
            "_view_name": "StyleView",
            "description_width": ""
          }
        }
      }
    }
  },
  "nbformat": 4,
  "nbformat_minor": 0
}